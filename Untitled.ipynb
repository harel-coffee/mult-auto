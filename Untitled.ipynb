{
 "cells": [
  {
   "cell_type": "code",
   "execution_count": 1,
   "metadata": {},
   "outputs": [],
   "source": [
    "from correlation import select_genes_mic\n",
    "import pandas as pd"
   ]
  },
  {
   "cell_type": "code",
   "execution_count": 2,
   "metadata": {},
   "outputs": [],
   "source": [
    "clinical = pd.read_csv('data/clinical_brfl.tsv', sep='\\t', index_col='ID')\n",
    "\n",
    "genefpkm = pd.read_csv('data/gene_count.tsv', sep='\\t', index_col='ID')\n",
    "\n",
    "selected_index = clinical.join(genefpkm, how='inner').index\n",
    "\n",
    "clinical = clinical.loc[selected_index,:]\n",
    "\n",
    "clinical['response_best_response_first_line'] = clinical['response_best_response_first_line'].astype(int)\n",
    "therapy_class = clinical['therapy_first_line_class']\n",
    "del clinical['therapy_first_line_class']\n",
    "\n",
    "genefpkm = genefpkm.loc[selected_index,:]"
   ]
  },
  {
   "cell_type": "code",
   "execution_count": 5,
   "metadata": {},
   "outputs": [
    {
     "data": {
      "text/plain": [
       "2"
      ]
     },
     "execution_count": 5,
     "metadata": {},
     "output_type": "execute_result"
    }
   ],
   "source": [
    "all_ = clinical.iloc[:,[0]].join(genefpkm, how='inner').iloc[:,:100]\n",
    "\n",
    "all_.columns\n",
    "\n",
    "len(select_genes_mic(all_.iloc[:,1:], all_.iloc[:,[0]], threshold=.02))"
   ]
  },
  {
   "cell_type": "code",
   "execution_count": 14,
   "metadata": {},
   "outputs": [
    {
     "data": {
      "text/plain": [
       "1.0"
      ]
     },
     "execution_count": 14,
     "metadata": {},
     "output_type": "execute_result"
    }
   ],
   "source": [
    "20*.05"
   ]
  }
 ],
 "metadata": {
  "kernelspec": {
   "display_name": "Python 3",
   "language": "python",
   "name": "python3"
  },
  "language_info": {
   "codemirror_mode": {
    "name": "ipython",
    "version": 3
   },
   "file_extension": ".py",
   "mimetype": "text/x-python",
   "name": "python",
   "nbconvert_exporter": "python",
   "pygments_lexer": "ipython3",
   "version": "3.7.2"
  }
 },
 "nbformat": 4,
 "nbformat_minor": 2
}
