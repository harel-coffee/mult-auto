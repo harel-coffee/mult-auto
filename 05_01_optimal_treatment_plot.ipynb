{
 "cells": [
  {
   "cell_type": "code",
   "execution_count": 1,
   "metadata": {},
   "outputs": [
    {
     "data": {
      "text/html": [
       "<table>\n",
       "<thead><tr><th scope=col>actual_treatment</th><th scope=col>bor.cyc.dex</th><th scope=col>bor.dex</th><th scope=col>bor.len.dex</th><th scope=col>len.dex</th><th scope=col>non.treatment</th><th scope=col>simulated_treatment</th></tr></thead>\n",
       "<tbody>\n",
       "\t<tr><td>Bor-Len-Dex</td><td>0.05878889 </td><td>0.05878889 </td><td>0.06798916 </td><td>0.05878889 </td><td>0.1679083  </td><td>Bor-Len-Dex</td></tr>\n",
       "\t<tr><td>Bor-Len-Dex</td><td>0.38353607 </td><td>0.38353607 </td><td>0.38353607 </td><td>0.38353607 </td><td>0.4710193  </td><td>Bor-Len-Dex</td></tr>\n",
       "\t<tr><td>Bor-Len-Dex</td><td>0.29957958 </td><td>0.29957958 </td><td>0.29957958 </td><td>0.29957958 </td><td>0.4229702  </td><td>Bor-Len-Dex</td></tr>\n",
       "\t<tr><td>Bor-Cyc-Dex</td><td>0.07120492 </td><td>0.07120492 </td><td>0.08040518 </td><td>0.07120492 </td><td>0.2054156  </td><td>Bor-Len-Dex</td></tr>\n",
       "\t<tr><td>Bor-Len-Dex</td><td>0.47173991 </td><td>0.47173991 </td><td>0.47173991 </td><td>0.47173991 </td><td>0.5624829  </td><td>Bor-Len-Dex</td></tr>\n",
       "\t<tr><td>Bor-Cyc-Dex</td><td>0.30255651 </td><td>0.30255651 </td><td>0.31454493 </td><td>0.30255651 </td><td>0.3634586  </td><td>Bor-Len-Dex</td></tr>\n",
       "</tbody>\n",
       "</table>\n"
      ],
      "text/latex": [
       "\\begin{tabular}{r|lllllll}\n",
       " actual\\_treatment & bor.cyc.dex & bor.dex & bor.len.dex & len.dex & non.treatment & simulated\\_treatment\\\\\n",
       "\\hline\n",
       "\t Bor-Len-Dex & 0.05878889  & 0.05878889  & 0.06798916  & 0.05878889  & 0.1679083   & Bor-Len-Dex\\\\\n",
       "\t Bor-Len-Dex & 0.38353607  & 0.38353607  & 0.38353607  & 0.38353607  & 0.4710193   & Bor-Len-Dex\\\\\n",
       "\t Bor-Len-Dex & 0.29957958  & 0.29957958  & 0.29957958  & 0.29957958  & 0.4229702   & Bor-Len-Dex\\\\\n",
       "\t Bor-Cyc-Dex & 0.07120492  & 0.07120492  & 0.08040518  & 0.07120492  & 0.2054156   & Bor-Len-Dex\\\\\n",
       "\t Bor-Len-Dex & 0.47173991  & 0.47173991  & 0.47173991  & 0.47173991  & 0.5624829   & Bor-Len-Dex\\\\\n",
       "\t Bor-Cyc-Dex & 0.30255651  & 0.30255651  & 0.31454493  & 0.30255651  & 0.3634586   & Bor-Len-Dex\\\\\n",
       "\\end{tabular}\n"
      ],
      "text/markdown": [
       "\n",
       "| actual_treatment | bor.cyc.dex | bor.dex | bor.len.dex | len.dex | non.treatment | simulated_treatment |\n",
       "|---|---|---|---|---|---|---|\n",
       "| Bor-Len-Dex | 0.05878889  | 0.05878889  | 0.06798916  | 0.05878889  | 0.1679083   | Bor-Len-Dex |\n",
       "| Bor-Len-Dex | 0.38353607  | 0.38353607  | 0.38353607  | 0.38353607  | 0.4710193   | Bor-Len-Dex |\n",
       "| Bor-Len-Dex | 0.29957958  | 0.29957958  | 0.29957958  | 0.29957958  | 0.4229702   | Bor-Len-Dex |\n",
       "| Bor-Cyc-Dex | 0.07120492  | 0.07120492  | 0.08040518  | 0.07120492  | 0.2054156   | Bor-Len-Dex |\n",
       "| Bor-Len-Dex | 0.47173991  | 0.47173991  | 0.47173991  | 0.47173991  | 0.5624829   | Bor-Len-Dex |\n",
       "| Bor-Cyc-Dex | 0.30255651  | 0.30255651  | 0.31454493  | 0.30255651  | 0.3634586   | Bor-Len-Dex |\n",
       "\n"
      ],
      "text/plain": [
       "  actual_treatment bor.cyc.dex bor.dex    bor.len.dex len.dex    non.treatment\n",
       "1 Bor-Len-Dex      0.05878889  0.05878889 0.06798916  0.05878889 0.1679083    \n",
       "2 Bor-Len-Dex      0.38353607  0.38353607 0.38353607  0.38353607 0.4710193    \n",
       "3 Bor-Len-Dex      0.29957958  0.29957958 0.29957958  0.29957958 0.4229702    \n",
       "4 Bor-Cyc-Dex      0.07120492  0.07120492 0.08040518  0.07120492 0.2054156    \n",
       "5 Bor-Len-Dex      0.47173991  0.47173991 0.47173991  0.47173991 0.5624829    \n",
       "6 Bor-Cyc-Dex      0.30255651  0.30255651 0.31454493  0.30255651 0.3634586    \n",
       "  simulated_treatment\n",
       "1 Bor-Len-Dex        \n",
       "2 Bor-Len-Dex        \n",
       "3 Bor-Len-Dex        \n",
       "4 Bor-Len-Dex        \n",
       "5 Bor-Len-Dex        \n",
       "6 Bor-Len-Dex        "
      ]
     },
     "metadata": {},
     "output_type": "display_data"
    }
   ],
   "source": [
    "simulation = read.csv('output/simulation/simulation.csv', sep=',')\n",
    "\n",
    "head(simulation)"
   ]
  },
  {
   "cell_type": "code",
   "execution_count": 2,
   "metadata": {},
   "outputs": [
    {
     "data": {
      "text/html": [
       "<table>\n",
       "<thead><tr><th scope=col>actual_treatment</th><th scope=col>simulated_treatment</th><th scope=col>global_count</th><th scope=col>local_count</th><th scope=col>count</th></tr></thead>\n",
       "<tbody>\n",
       "\t<tr><td>Bor-Cyc-Dex</td><td>Bor-Cyc-Dex</td><td>142        </td><td> 86        </td><td>0.6056338  </td></tr>\n",
       "\t<tr><td>Bor-Cyc-Dex</td><td>Bor-Len-Dex</td><td>142        </td><td> 56        </td><td>0.3943662  </td></tr>\n",
       "\t<tr><td>Bor-Dex    </td><td>Bor-Dex    </td><td> 64        </td><td> 50        </td><td>0.7812500  </td></tr>\n",
       "\t<tr><td>Bor-Dex    </td><td>Bor-Len-Dex</td><td> 64        </td><td> 14        </td><td>0.2187500  </td></tr>\n",
       "\t<tr><td>Bor-Len-Dex</td><td>Bor-Len-Dex</td><td>236        </td><td>236        </td><td>1.0000000  </td></tr>\n",
       "\t<tr><td>Len-Dex    </td><td>Bor-Len-Dex</td><td> 50        </td><td> 14        </td><td>0.2800000  </td></tr>\n",
       "\t<tr><td>Len-Dex    </td><td>Len-Dex    </td><td> 50        </td><td> 36        </td><td>0.7200000  </td></tr>\n",
       "</tbody>\n",
       "</table>\n"
      ],
      "text/latex": [
       "\\begin{tabular}{r|lllll}\n",
       " actual\\_treatment & simulated\\_treatment & global\\_count & local\\_count & count\\\\\n",
       "\\hline\n",
       "\t Bor-Cyc-Dex & Bor-Cyc-Dex & 142         &  86         & 0.6056338  \\\\\n",
       "\t Bor-Cyc-Dex & Bor-Len-Dex & 142         &  56         & 0.3943662  \\\\\n",
       "\t Bor-Dex     & Bor-Dex     &  64         &  50         & 0.7812500  \\\\\n",
       "\t Bor-Dex     & Bor-Len-Dex &  64         &  14         & 0.2187500  \\\\\n",
       "\t Bor-Len-Dex & Bor-Len-Dex & 236         & 236         & 1.0000000  \\\\\n",
       "\t Len-Dex     & Bor-Len-Dex &  50         &  14         & 0.2800000  \\\\\n",
       "\t Len-Dex     & Len-Dex     &  50         &  36         & 0.7200000  \\\\\n",
       "\\end{tabular}\n"
      ],
      "text/markdown": [
       "\n",
       "| actual_treatment | simulated_treatment | global_count | local_count | count |\n",
       "|---|---|---|---|---|\n",
       "| Bor-Cyc-Dex | Bor-Cyc-Dex | 142         |  86         | 0.6056338   |\n",
       "| Bor-Cyc-Dex | Bor-Len-Dex | 142         |  56         | 0.3943662   |\n",
       "| Bor-Dex     | Bor-Dex     |  64         |  50         | 0.7812500   |\n",
       "| Bor-Dex     | Bor-Len-Dex |  64         |  14         | 0.2187500   |\n",
       "| Bor-Len-Dex | Bor-Len-Dex | 236         | 236         | 1.0000000   |\n",
       "| Len-Dex     | Bor-Len-Dex |  50         |  14         | 0.2800000   |\n",
       "| Len-Dex     | Len-Dex     |  50         |  36         | 0.7200000   |\n",
       "\n"
      ],
      "text/plain": [
       "  actual_treatment simulated_treatment global_count local_count count    \n",
       "1 Bor-Cyc-Dex      Bor-Cyc-Dex         142           86         0.6056338\n",
       "2 Bor-Cyc-Dex      Bor-Len-Dex         142           56         0.3943662\n",
       "3 Bor-Dex          Bor-Dex              64           50         0.7812500\n",
       "4 Bor-Dex          Bor-Len-Dex          64           14         0.2187500\n",
       "5 Bor-Len-Dex      Bor-Len-Dex         236          236         1.0000000\n",
       "6 Len-Dex          Bor-Len-Dex          50           14         0.2800000\n",
       "7 Len-Dex          Len-Dex              50           36         0.7200000"
      ]
     },
     "metadata": {},
     "output_type": "display_data"
    }
   ],
   "source": [
    "df <- merge(aggregate(. ~ actual_treatment, data=simulation, FUN=length), \n",
    "       aggregate(. ~ actual_treatment + simulated_treatment, data=simulation, FUN=length), by='actual_treatment')\n",
    "\n",
    "df <- df[c('actual_treatment', 'simulated_treatment.y', 'bor.cyc.dex.x', 'bor.cyc.dex.y')]\n",
    "\n",
    "colnames(df) <- c('actual_treatment', 'simulated_treatment', 'global_count', 'local_count')\n",
    "\n",
    "df$count <- df$local_count / df$global_count \n",
    "\n",
    "df"
   ]
  },
  {
   "cell_type": "code",
   "execution_count": 3,
   "metadata": {},
   "outputs": [
    {
     "data": {
      "text/html": [
       "<table>\n",
       "<thead><tr><th scope=col>actual_treatment</th><th scope=col>global.count</th><th scope=col>simulated_treatment</th><th scope=col>local.count</th><th scope=col>count</th></tr></thead>\n",
       "<tbody>\n",
       "\t<tr><td>Bor-Cyc-Dex</td><td>142        </td><td>Bor-Cyc-Dex</td><td> 86        </td><td>0.6056338  </td></tr>\n",
       "\t<tr><td>Bor-Cyc-Dex</td><td>142        </td><td>Bor-Len-Dex</td><td> 56        </td><td>0.3943662  </td></tr>\n",
       "\t<tr><td>Bor-Dex    </td><td> 64        </td><td>Bor-Dex    </td><td> 50        </td><td>0.7812500  </td></tr>\n",
       "\t<tr><td>Bor-Dex    </td><td> 64        </td><td>Bor-Len-Dex</td><td> 14        </td><td>0.2187500  </td></tr>\n",
       "\t<tr><td>Bor-Len-Dex</td><td>236        </td><td>Bor-Len-Dex</td><td>236        </td><td>1.0000000  </td></tr>\n",
       "\t<tr><td>Len-Dex    </td><td> 50        </td><td>Bor-Len-Dex</td><td> 14        </td><td>0.2800000  </td></tr>\n",
       "\t<tr><td>Len-Dex    </td><td> 50        </td><td>Len-Dex    </td><td> 36        </td><td>0.7200000  </td></tr>\n",
       "</tbody>\n",
       "</table>\n"
      ],
      "text/latex": [
       "\\begin{tabular}{r|lllll}\n",
       " actual\\_treatment & global.count & simulated\\_treatment & local.count & count\\\\\n",
       "\\hline\n",
       "\t Bor-Cyc-Dex & 142         & Bor-Cyc-Dex &  86         & 0.6056338  \\\\\n",
       "\t Bor-Cyc-Dex & 142         & Bor-Len-Dex &  56         & 0.3943662  \\\\\n",
       "\t Bor-Dex     &  64         & Bor-Dex     &  50         & 0.7812500  \\\\\n",
       "\t Bor-Dex     &  64         & Bor-Len-Dex &  14         & 0.2187500  \\\\\n",
       "\t Bor-Len-Dex & 236         & Bor-Len-Dex & 236         & 1.0000000  \\\\\n",
       "\t Len-Dex     &  50         & Bor-Len-Dex &  14         & 0.2800000  \\\\\n",
       "\t Len-Dex     &  50         & Len-Dex     &  36         & 0.7200000  \\\\\n",
       "\\end{tabular}\n"
      ],
      "text/markdown": [
       "\n",
       "| actual_treatment | global.count | simulated_treatment | local.count | count |\n",
       "|---|---|---|---|---|\n",
       "| Bor-Cyc-Dex | 142         | Bor-Cyc-Dex |  86         | 0.6056338   |\n",
       "| Bor-Cyc-Dex | 142         | Bor-Len-Dex |  56         | 0.3943662   |\n",
       "| Bor-Dex     |  64         | Bor-Dex     |  50         | 0.7812500   |\n",
       "| Bor-Dex     |  64         | Bor-Len-Dex |  14         | 0.2187500   |\n",
       "| Bor-Len-Dex | 236         | Bor-Len-Dex | 236         | 1.0000000   |\n",
       "| Len-Dex     |  50         | Bor-Len-Dex |  14         | 0.2800000   |\n",
       "| Len-Dex     |  50         | Len-Dex     |  36         | 0.7200000   |\n",
       "\n"
      ],
      "text/plain": [
       "  actual_treatment global.count simulated_treatment local.count count    \n",
       "1 Bor-Cyc-Dex      142          Bor-Cyc-Dex          86         0.6056338\n",
       "2 Bor-Cyc-Dex      142          Bor-Len-Dex          56         0.3943662\n",
       "3 Bor-Dex           64          Bor-Dex              50         0.7812500\n",
       "4 Bor-Dex           64          Bor-Len-Dex          14         0.2187500\n",
       "5 Bor-Len-Dex      236          Bor-Len-Dex         236         1.0000000\n",
       "6 Len-Dex           50          Bor-Len-Dex          14         0.2800000\n",
       "7 Len-Dex           50          Len-Dex              36         0.7200000"
      ]
     },
     "metadata": {},
     "output_type": "display_data"
    }
   ],
   "source": [
    "\n",
    "agg1 <- aggregate(. ~ actual_treatment, data=simulation, FUN=length)\n",
    "agg2 <- aggregate(. ~ actual_treatment + simulated_treatment, data=simulation, FUN=length)\n",
    "\n",
    "#agg <- merge(agg1$bor.cyc.dex, agg2$bor.cyc.dex)\n",
    "\n",
    "\n",
    "#agg <- data.frame(actual_treatment=agg1$actual_treatment, \n",
    "#                  simulated_treatment=agg2$simulated_treatment, \n",
    "#                  length=agg$bor.cyc.dex)\n",
    "\n",
    "#aggregate(. ~ actual_treatment, data=simulation, FUN=length)$bor.cyc.dex\n",
    "agg <- merge(agg1, agg2, by='actual_treatment')[c('actual_treatment', \n",
    "                                                  'bor.cyc.dex.x',\n",
    "                                                  'simulated_treatment.y', \n",
    "                                                  'bor.cyc.dex.y')]\n",
    "\n",
    "colnames(agg) <- c('actual_treatment', 'global.count', 'simulated_treatment', 'local.count')\n",
    "\n",
    "agg$count <- agg$local.count / agg$global.count\n",
    "\n",
    "agg"
   ]
  },
  {
   "cell_type": "code",
   "execution_count": 4,
   "metadata": {},
   "outputs": [
    {
     "data": {
      "text/html": [
       "<table>\n",
       "<thead><tr><th></th><th scope=col>actual_treatment</th><th scope=col>global.count</th><th scope=col>simulated_treatment</th><th scope=col>local.count</th><th scope=col>count</th></tr></thead>\n",
       "<tbody>\n",
       "\t<tr><th scope=row>2</th><td>Bor-Cyc-Dex</td><td>142        </td><td>Bor-Len-Dex</td><td> 56        </td><td>0.3943662  </td></tr>\n",
       "\t<tr><th scope=row>1</th><td>Bor-Cyc-Dex</td><td>142        </td><td>Bor-Cyc-Dex</td><td> 86        </td><td>0.6056338  </td></tr>\n",
       "\t<tr><th scope=row>4</th><td>Bor-Dex    </td><td> 64        </td><td>Bor-Len-Dex</td><td> 14        </td><td>0.2187500  </td></tr>\n",
       "\t<tr><th scope=row>3</th><td>Bor-Dex    </td><td> 64        </td><td>Bor-Dex    </td><td> 50        </td><td>0.7812500  </td></tr>\n",
       "\t<tr><th scope=row>5</th><td>Bor-Len-Dex</td><td>236        </td><td>Bor-Len-Dex</td><td>236        </td><td>1.0000000  </td></tr>\n",
       "\t<tr><th scope=row>6</th><td>Len-Dex    </td><td> 50        </td><td>Bor-Len-Dex</td><td> 14        </td><td>0.2800000  </td></tr>\n",
       "\t<tr><th scope=row>7</th><td>Len-Dex    </td><td> 50        </td><td>Len-Dex    </td><td> 36        </td><td>0.7200000  </td></tr>\n",
       "</tbody>\n",
       "</table>\n"
      ],
      "text/latex": [
       "\\begin{tabular}{r|lllll}\n",
       "  & actual\\_treatment & global.count & simulated\\_treatment & local.count & count\\\\\n",
       "\\hline\n",
       "\t2 & Bor-Cyc-Dex & 142         & Bor-Len-Dex &  56         & 0.3943662  \\\\\n",
       "\t1 & Bor-Cyc-Dex & 142         & Bor-Cyc-Dex &  86         & 0.6056338  \\\\\n",
       "\t4 & Bor-Dex     &  64         & Bor-Len-Dex &  14         & 0.2187500  \\\\\n",
       "\t3 & Bor-Dex     &  64         & Bor-Dex     &  50         & 0.7812500  \\\\\n",
       "\t5 & Bor-Len-Dex & 236         & Bor-Len-Dex & 236         & 1.0000000  \\\\\n",
       "\t6 & Len-Dex     &  50         & Bor-Len-Dex &  14         & 0.2800000  \\\\\n",
       "\t7 & Len-Dex     &  50         & Len-Dex     &  36         & 0.7200000  \\\\\n",
       "\\end{tabular}\n"
      ],
      "text/markdown": [
       "\n",
       "| <!--/--> | actual_treatment | global.count | simulated_treatment | local.count | count |\n",
       "|---|---|---|---|---|---|\n",
       "| 2 | Bor-Cyc-Dex | 142         | Bor-Len-Dex |  56         | 0.3943662   |\n",
       "| 1 | Bor-Cyc-Dex | 142         | Bor-Cyc-Dex |  86         | 0.6056338   |\n",
       "| 4 | Bor-Dex     |  64         | Bor-Len-Dex |  14         | 0.2187500   |\n",
       "| 3 | Bor-Dex     |  64         | Bor-Dex     |  50         | 0.7812500   |\n",
       "| 5 | Bor-Len-Dex | 236         | Bor-Len-Dex | 236         | 1.0000000   |\n",
       "| 6 | Len-Dex     |  50         | Bor-Len-Dex |  14         | 0.2800000   |\n",
       "| 7 | Len-Dex     |  50         | Len-Dex     |  36         | 0.7200000   |\n",
       "\n"
      ],
      "text/plain": [
       "  actual_treatment global.count simulated_treatment local.count count    \n",
       "2 Bor-Cyc-Dex      142          Bor-Len-Dex          56         0.3943662\n",
       "1 Bor-Cyc-Dex      142          Bor-Cyc-Dex          86         0.6056338\n",
       "4 Bor-Dex           64          Bor-Len-Dex          14         0.2187500\n",
       "3 Bor-Dex           64          Bor-Dex              50         0.7812500\n",
       "5 Bor-Len-Dex      236          Bor-Len-Dex         236         1.0000000\n",
       "6 Len-Dex           50          Bor-Len-Dex          14         0.2800000\n",
       "7 Len-Dex           50          Len-Dex              36         0.7200000"
      ]
     },
     "metadata": {},
     "output_type": "display_data"
    }
   ],
   "source": [
    "agg <- agg[with(agg, order(actual_treatment, count)),]\n",
    "\n",
    "agg"
   ]
  },
  {
   "cell_type": "code",
   "execution_count": 5,
   "metadata": {},
   "outputs": [
    {
     "data": {
      "text/html": [
       "<dl class=dl-horizontal>\n",
       "\t<dt>Bor-Cyc-Dex</dt>\n",
       "\t\t<dd>'#7CAE00'</dd>\n",
       "\t<dt>Bor-Dex</dt>\n",
       "\t\t<dd>'#C77CFF'</dd>\n",
       "\t<dt>Bor-Len-Dex</dt>\n",
       "\t\t<dd>'#F8766D'</dd>\n",
       "\t<dt>Len-Dex</dt>\n",
       "\t\t<dd>'#00BFC4'</dd>\n",
       "</dl>\n"
      ],
      "text/latex": [
       "\\begin{description*}\n",
       "\\item[Bor-Cyc-Dex] '\\#7CAE00'\n",
       "\\item[Bor-Dex] '\\#C77CFF'\n",
       "\\item[Bor-Len-Dex] '\\#F8766D'\n",
       "\\item[Len-Dex] '\\#00BFC4'\n",
       "\\end{description*}\n"
      ],
      "text/markdown": [
       "Bor-Cyc-Dex\n",
       ":   '#7CAE00'Bor-Dex\n",
       ":   '#C77CFF'Bor-Len-Dex\n",
       ":   '#F8766D'Len-Dex\n",
       ":   '#00BFC4'\n",
       "\n"
      ],
      "text/plain": [
       "Bor-Cyc-Dex     Bor-Dex Bor-Len-Dex     Len-Dex \n",
       "  \"#7CAE00\"   \"#C77CFF\"   \"#F8766D\"   \"#00BFC4\" "
      ]
     },
     "metadata": {},
     "output_type": "display_data"
    }
   ],
   "source": [
    "library(scales)\n",
    "numColors <- length(levels(agg$actual_treatment)) # How many colors you need\n",
    "getColors <- scales::hue_pal() # Create a function that takes a number and returns a qualitative palette of that length (from the scales package)\n",
    "myPalette <- getColors(numColors)\n",
    "names(myPalette) <- levels(agg$actual_treatment) # Give every color an appropriate name\n",
    "# p <- p + theme(axis.text.x = element_text(colour=myPalette[agg$actual_treatment])))\n",
    "myPalette['Bor-Cyc-Dex'] <- '#7CAE00'\n",
    "myPalette['Bor-Dex'] <- '#C77CFF'\n",
    "myPalette['Bor-Len-Dex'] <- '#F8766D'\n",
    "myPalette['Len-Dex'] <- '#00BFC4'\n",
    "myPalette"
   ]
  },
  {
   "cell_type": "code",
   "execution_count": 6,
   "metadata": {},
   "outputs": [
    {
     "name": "stderr",
     "output_type": "stream",
     "text": [
      "Warning message:\n",
      "\"Ignoring unknown aesthetics: order\"Warning message:\n",
      "\"Vectorized input to `element_text()` is not officially supported.\n",
      "Results may be unexpected or may change in future versions of ggplot2.\""
     ]
    },
    {
     "data": {
      "image/png": "[encoded data removed]",
      "text/plain": [
       "plot without title"
      ]
     },
     "metadata": {},
     "output_type": "display_data"
    }
   ],
   "source": [
    "library(ggplot2)\n",
    "\n",
    "ticks.line.color <- 'grey30'\n",
    "\n",
    "labels <- data.frame(x=c('Len-Dex', 'Bor-Len-Dex', 'Bor-Dex', 'Bor-Cyc-Dex'), \n",
    "                     y=c(1.01, 1.01, 1.01, 1.01), \n",
    "                     lab=c('n=50', 'n=236', 'n=64', 'n=133')) \n",
    "\n",
    "p <- ggplot() +\n",
    "     geom_bar(data=agg, alpha=.75, \n",
    "              aes(\n",
    "                 x=actual_treatment, \n",
    "                 y=count, \n",
    "                 fill=reorder(simulated_treatment, count, FUN=mean), order=count), \n",
    "              stat=\"identity\") +\n",
    "     xlab('Actual Treatment') + \n",
    "     ylab('Number of Patients') +\n",
    "     scale_y_continuous(labels=scales::percent, limits=c(0, 1.08), breaks=c(0, .25, .5, .75, 1.)) +\n",
    "     theme_bw() + \n",
    "     theme(panel.border          = element_blank(), \n",
    "           panel.grid.major      = element_blank(),\n",
    "           panel.grid.minor      = element_blank(), \n",
    "           axis.line             = element_line(colour=ticks.line.color),\n",
    "           text                  = element_text(size=10, family=\"serif\"),\n",
    "           legend.key.size       = unit(10, \"pt\"),\n",
    "           legend.position       = 'right',\n",
    "           axis.text.x           = element_text(size=10, angle=0, colour=ticks.line.color),\n",
    "           axis.text.y           = element_text(size=10, colour=myPalette[unique(agg$actual_treatment)]),\n",
    "           axis.title.x          = element_text(vjust=1),\n",
    "           axis.ticks            = element_line(color=ticks.line.color),\n",
    "           plot.background       = element_rect(fill=\"transparent\", color=NA), # bg of the plot\n",
    "           legend.box.background = element_rect(color=NA, fill=\"transparent\"), # get rid of legend panel bg\n",
    "           legend.background     = element_rect(colour=NA, size=0),\n",
    "           legend.key            = element_rect(fill=\"transparent\", colour=NA), # get rid of key legend fill, \n",
    "                                                                                # and of the surrounding\n",
    "    ) +\n",
    "    scale_fill_discrete(name = \"Simulated Treatment\") + \n",
    "    geom_text(data=labels, aes(x=x, y=y, label=lab), vjust=0, hjust=0, fontface='plain', size=3) +\n",
    "    coord_flip()\n",
    "     \n",
    "ggsave('images/simulation_v3.pdf', p, units='cm', width=18, height=5)\n",
    "\n",
    "options(repr.plot.width=8, repr.plot.height=2)\n",
    "\n",
    "p"
   ]
  },
  {
   "cell_type": "code",
   "execution_count": 7,
   "metadata": {},
   "outputs": [
    {
     "data": {
      "text/html": [
       "<table>\n",
       "<thead><tr><th scope=col>actual_treatment</th><th scope=col>global.count</th><th scope=col>simulated_treatment</th><th scope=col>local.count</th><th scope=col>count</th></tr></thead>\n",
       "<tbody>\n",
       "\t<tr><td>Bor-Cyc-Dex</td><td>142        </td><td>Bor-Cyc-Dex</td><td> 86        </td><td>0.6056338  </td></tr>\n",
       "\t<tr><td>Bor-Cyc-Dex</td><td>142        </td><td>Bor-Len-Dex</td><td> 56        </td><td>0.3943662  </td></tr>\n",
       "\t<tr><td>Bor-Dex    </td><td> 64        </td><td>Bor-Dex    </td><td> 50        </td><td>0.7812500  </td></tr>\n",
       "\t<tr><td>Bor-Dex    </td><td> 64        </td><td>Bor-Len-Dex</td><td> 14        </td><td>0.2187500  </td></tr>\n",
       "\t<tr><td>Bor-Len-Dex</td><td>236        </td><td>Bor-Len-Dex</td><td>236        </td><td>1.0000000  </td></tr>\n",
       "\t<tr><td>Len-Dex    </td><td> 50        </td><td>Bor-Len-Dex</td><td> 14        </td><td>0.2800000  </td></tr>\n",
       "\t<tr><td>Len-Dex    </td><td> 50        </td><td>Len-Dex    </td><td> 36        </td><td>0.7200000  </td></tr>\n",
       "</tbody>\n",
       "</table>\n"
      ],
      "text/latex": [
       "\\begin{tabular}{r|lllll}\n",
       " actual\\_treatment & global.count & simulated\\_treatment & local.count & count\\\\\n",
       "\\hline\n",
       "\t Bor-Cyc-Dex & 142         & Bor-Cyc-Dex &  86         & 0.6056338  \\\\\n",
       "\t Bor-Cyc-Dex & 142         & Bor-Len-Dex &  56         & 0.3943662  \\\\\n",
       "\t Bor-Dex     &  64         & Bor-Dex     &  50         & 0.7812500  \\\\\n",
       "\t Bor-Dex     &  64         & Bor-Len-Dex &  14         & 0.2187500  \\\\\n",
       "\t Bor-Len-Dex & 236         & Bor-Len-Dex & 236         & 1.0000000  \\\\\n",
       "\t Len-Dex     &  50         & Bor-Len-Dex &  14         & 0.2800000  \\\\\n",
       "\t Len-Dex     &  50         & Len-Dex     &  36         & 0.7200000  \\\\\n",
       "\\end{tabular}\n"
      ],
      "text/markdown": [
       "\n",
       "| actual_treatment | global.count | simulated_treatment | local.count | count |\n",
       "|---|---|---|---|---|\n",
       "| Bor-Cyc-Dex | 142         | Bor-Cyc-Dex |  86         | 0.6056338   |\n",
       "| Bor-Cyc-Dex | 142         | Bor-Len-Dex |  56         | 0.3943662   |\n",
       "| Bor-Dex     |  64         | Bor-Dex     |  50         | 0.7812500   |\n",
       "| Bor-Dex     |  64         | Bor-Len-Dex |  14         | 0.2187500   |\n",
       "| Bor-Len-Dex | 236         | Bor-Len-Dex | 236         | 1.0000000   |\n",
       "| Len-Dex     |  50         | Bor-Len-Dex |  14         | 0.2800000   |\n",
       "| Len-Dex     |  50         | Len-Dex     |  36         | 0.7200000   |\n",
       "\n"
      ],
      "text/plain": [
       "  actual_treatment global.count simulated_treatment local.count count    \n",
       "1 Bor-Cyc-Dex      142          Bor-Cyc-Dex          86         0.6056338\n",
       "2 Bor-Cyc-Dex      142          Bor-Len-Dex          56         0.3943662\n",
       "3 Bor-Dex           64          Bor-Dex              50         0.7812500\n",
       "4 Bor-Dex           64          Bor-Len-Dex          14         0.2187500\n",
       "5 Bor-Len-Dex      236          Bor-Len-Dex         236         1.0000000\n",
       "6 Len-Dex           50          Bor-Len-Dex          14         0.2800000\n",
       "7 Len-Dex           50          Len-Dex              36         0.7200000"
      ]
     },
     "metadata": {},
     "output_type": "display_data"
    }
   ],
   "source": [
    "agg[with(agg, order(actual_treatment, simulated_treatment)),]"
   ]
  }
 ],
 "metadata": {
  "kernelspec": {
   "display_name": "R",
   "language": "R",
   "name": "ir"
  },
  "language_info": {
   "codemirror_mode": "r",
   "file_extension": ".r",
   "mimetype": "text/x-r-source",
   "name": "R",
   "pygments_lexer": "r",
   "version": "3.6.1"
  }
 },
 "nbformat": 4,
 "nbformat_minor": 2
}
