{
 "cells": [
  {
   "cell_type": "code",
   "execution_count": 2,
   "metadata": {},
   "outputs": [
    {
     "data": {
      "text/html": [
       "<table>\n",
       "<thead><tr><th scope=col>actual_treatment</th><th scope=col>bor.cyc.dex</th><th scope=col>bor.dex</th><th scope=col>bor.len.dex</th><th scope=col>len.dex</th><th scope=col>simulated_treatment</th></tr></thead>\n",
       "<tbody>\n",
       "\t<tr><td>Bor-Len-Dex</td><td>0.05878889 </td><td>0.05878889 </td><td>0.06798916 </td><td>0.05878889 </td><td>Bor-Len-Dex</td></tr>\n",
       "\t<tr><td>Bor-Len-Dex</td><td>0.38353607 </td><td>0.38353607 </td><td>0.38353607 </td><td>0.38353607 </td><td>Bor-Len-Dex</td></tr>\n",
       "\t<tr><td>Bor-Len-Dex</td><td>0.29957958 </td><td>0.29957958 </td><td>0.29957958 </td><td>0.29957958 </td><td>Bor-Len-Dex</td></tr>\n",
       "\t<tr><td>Bor-Cyc-Dex</td><td>0.07120492 </td><td>0.07120492 </td><td>0.08040518 </td><td>0.07120492 </td><td>Bor-Len-Dex</td></tr>\n",
       "\t<tr><td>Bor-Len-Dex</td><td>0.47173991 </td><td>0.47173991 </td><td>0.47173991 </td><td>0.47173991 </td><td>Bor-Len-Dex</td></tr>\n",
       "\t<tr><td>Bor-Cyc-Dex</td><td>0.30255651 </td><td>0.30255651 </td><td>0.31454493 </td><td>0.30255651 </td><td>Bor-Len-Dex</td></tr>\n",
       "</tbody>\n",
       "</table>\n"
      ],
      "text/latex": [
       "\\begin{tabular}{r|llllll}\n",
       " actual\\_treatment & bor.cyc.dex & bor.dex & bor.len.dex & len.dex & simulated\\_treatment\\\\\n",
       "\\hline\n",
       "\t Bor-Len-Dex & 0.05878889  & 0.05878889  & 0.06798916  & 0.05878889  & Bor-Len-Dex\\\\\n",
       "\t Bor-Len-Dex & 0.38353607  & 0.38353607  & 0.38353607  & 0.38353607  & Bor-Len-Dex\\\\\n",
       "\t Bor-Len-Dex & 0.29957958  & 0.29957958  & 0.29957958  & 0.29957958  & Bor-Len-Dex\\\\\n",
       "\t Bor-Cyc-Dex & 0.07120492  & 0.07120492  & 0.08040518  & 0.07120492  & Bor-Len-Dex\\\\\n",
       "\t Bor-Len-Dex & 0.47173991  & 0.47173991  & 0.47173991  & 0.47173991  & Bor-Len-Dex\\\\\n",
       "\t Bor-Cyc-Dex & 0.30255651  & 0.30255651  & 0.31454493  & 0.30255651  & Bor-Len-Dex\\\\\n",
       "\\end{tabular}\n"
      ],
      "text/markdown": [
       "\n",
       "| actual_treatment | bor.cyc.dex | bor.dex | bor.len.dex | len.dex | simulated_treatment |\n",
       "|---|---|---|---|---|---|\n",
       "| Bor-Len-Dex | 0.05878889  | 0.05878889  | 0.06798916  | 0.05878889  | Bor-Len-Dex |\n",
       "| Bor-Len-Dex | 0.38353607  | 0.38353607  | 0.38353607  | 0.38353607  | Bor-Len-Dex |\n",
       "| Bor-Len-Dex | 0.29957958  | 0.29957958  | 0.29957958  | 0.29957958  | Bor-Len-Dex |\n",
       "| Bor-Cyc-Dex | 0.07120492  | 0.07120492  | 0.08040518  | 0.07120492  | Bor-Len-Dex |\n",
       "| Bor-Len-Dex | 0.47173991  | 0.47173991  | 0.47173991  | 0.47173991  | Bor-Len-Dex |\n",
       "| Bor-Cyc-Dex | 0.30255651  | 0.30255651  | 0.31454493  | 0.30255651  | Bor-Len-Dex |\n",
       "\n"
      ],
      "text/plain": [
       "  actual_treatment bor.cyc.dex bor.dex    bor.len.dex len.dex   \n",
       "1 Bor-Len-Dex      0.05878889  0.05878889 0.06798916  0.05878889\n",
       "2 Bor-Len-Dex      0.38353607  0.38353607 0.38353607  0.38353607\n",
       "3 Bor-Len-Dex      0.29957958  0.29957958 0.29957958  0.29957958\n",
       "4 Bor-Cyc-Dex      0.07120492  0.07120492 0.08040518  0.07120492\n",
       "5 Bor-Len-Dex      0.47173991  0.47173991 0.47173991  0.47173991\n",
       "6 Bor-Cyc-Dex      0.30255651  0.30255651 0.31454493  0.30255651\n",
       "  simulated_treatment\n",
       "1 Bor-Len-Dex        \n",
       "2 Bor-Len-Dex        \n",
       "3 Bor-Len-Dex        \n",
       "4 Bor-Len-Dex        \n",
       "5 Bor-Len-Dex        \n",
       "6 Bor-Len-Dex        "
      ]
     },
     "metadata": {},
     "output_type": "display_data"
    }
   ],
   "source": [
    "simulation = read.csv('output/simulation/simulation.csv', sep=',')\n",
    "\n",
    "head(simulation)"
   ]
  },
  {
   "cell_type": "code",
   "execution_count": 12,
   "metadata": {},
   "outputs": [
    {
     "data": {
      "text/html": [
       "<table>\n",
       "<thead><tr><th scope=col>actual_treatment</th><th scope=col>simulated_treatment</th><th scope=col>length</th></tr></thead>\n",
       "<tbody>\n",
       "\t<tr><td>Bor-Cyc-Dex</td><td>Bor-Cyc-Dex</td><td> 86        </td></tr>\n",
       "\t<tr><td>Bor-Dex    </td><td>Bor-Dex    </td><td> 50        </td></tr>\n",
       "\t<tr><td>Bor-Cyc-Dex</td><td>Bor-Len-Dex</td><td> 56        </td></tr>\n",
       "\t<tr><td>Bor-Dex    </td><td>Bor-Len-Dex</td><td> 14        </td></tr>\n",
       "\t<tr><td>Bor-Len-Dex</td><td>Bor-Len-Dex</td><td>236        </td></tr>\n",
       "\t<tr><td>Len-Dex    </td><td>Bor-Len-Dex</td><td> 14        </td></tr>\n",
       "\t<tr><td>Len-Dex    </td><td>Len-Dex    </td><td> 36        </td></tr>\n",
       "</tbody>\n",
       "</table>\n"
      ],
      "text/latex": [
       "\\begin{tabular}{r|lll}\n",
       " actual\\_treatment & simulated\\_treatment & length\\\\\n",
       "\\hline\n",
       "\t Bor-Cyc-Dex & Bor-Cyc-Dex &  86        \\\\\n",
       "\t Bor-Dex     & Bor-Dex     &  50        \\\\\n",
       "\t Bor-Cyc-Dex & Bor-Len-Dex &  56        \\\\\n",
       "\t Bor-Dex     & Bor-Len-Dex &  14        \\\\\n",
       "\t Bor-Len-Dex & Bor-Len-Dex & 236        \\\\\n",
       "\t Len-Dex     & Bor-Len-Dex &  14        \\\\\n",
       "\t Len-Dex     & Len-Dex     &  36        \\\\\n",
       "\\end{tabular}\n"
      ],
      "text/markdown": [
       "\n",
       "| actual_treatment | simulated_treatment | length |\n",
       "|---|---|---|\n",
       "| Bor-Cyc-Dex | Bor-Cyc-Dex |  86         |\n",
       "| Bor-Dex     | Bor-Dex     |  50         |\n",
       "| Bor-Cyc-Dex | Bor-Len-Dex |  56         |\n",
       "| Bor-Dex     | Bor-Len-Dex |  14         |\n",
       "| Bor-Len-Dex | Bor-Len-Dex | 236         |\n",
       "| Len-Dex     | Bor-Len-Dex |  14         |\n",
       "| Len-Dex     | Len-Dex     |  36         |\n",
       "\n"
      ],
      "text/plain": [
       "  actual_treatment simulated_treatment length\n",
       "1 Bor-Cyc-Dex      Bor-Cyc-Dex          86   \n",
       "2 Bor-Dex          Bor-Dex              50   \n",
       "3 Bor-Cyc-Dex      Bor-Len-Dex          56   \n",
       "4 Bor-Dex          Bor-Len-Dex          14   \n",
       "5 Bor-Len-Dex      Bor-Len-Dex         236   \n",
       "6 Len-Dex          Bor-Len-Dex          14   \n",
       "7 Len-Dex          Len-Dex              36   "
      ]
     },
     "metadata": {},
     "output_type": "display_data"
    }
   ],
   "source": [
    "agg <- aggregate(. ~ actual_treatment + simulated_treatment, data=simulation, FUN=length)\n",
    "\n",
    "agg = data.frame(actual_treatment=agg$actual_treatment, \n",
    "                 simulated_treatment=agg$simulated_treatment, \n",
    "                 length=agg$bor.cyc.dex)\n",
    "\n",
    "agg"
   ]
  },
  {
   "cell_type": "code",
   "execution_count": 27,
   "metadata": {},
   "outputs": [
    {
     "data": {
      "image/png": "[encoded data removed]",
      "text/plain": [
       "plot without title"
      ]
     },
     "metadata": {},
     "output_type": "display_data"
    }
   ],
   "source": [
    "library(ggplot2)\n",
    "\n",
    "ticks.line.color <- 'grey30'\n",
    "\n",
    "p <- ggplot(agg, aes(x=actual_treatment, y=length, fill=simulated_treatment)) + \n",
    "     geom_bar(position=\"stack\", stat=\"identity\") +\n",
    "     xlab('Actual Treatment') + \n",
    "     ylab('Number of Patients') +\n",
    "     theme_bw() + \n",
    "     theme(panel.border          = element_blank(), \n",
    "           panel.grid.major      = element_blank(),\n",
    "           panel.grid.minor      = element_blank(), \n",
    "           axis.line             = element_line(colour=ticks.line.color),\n",
    "           text                  = element_text(size=10, family=\"serif\"),\n",
    "           legend.key.size       = unit(10, \"pt\"),\n",
    "           legend.position       = 'right',\n",
    "           axis.text.x           = element_text(size=10, angle=0, colour=ticks.line.color),\n",
    "           axis.text.y           = element_text(size=10, colour=ticks.line.color),\n",
    "           axis.title.x          = element_text(vjust=1),\n",
    "           axis.ticks            = element_line(color=ticks.line.color),\n",
    "           plot.background       = element_rect(fill = \"transparent\", color=NA), # bg of the plot\n",
    "           legend.box.background = element_rect(color=NA, fill = \"transparent\"), # get rid of legend panel bg\n",
    "           legend.background     = element_rect(colour=NA, size=0),\n",
    "           legend.key            = element_rect(fill=\"transparent\", colour=NA) # get rid of key legend fill, \n",
    "                                                                               #and of the surrounding\n",
    "    ) +\n",
    "    scale_fill_discrete(name = \"Simulated Treatment\") + coord_flip()\n",
    "     \n",
    "ggsave('images/simulation.pdf', p, units='cm', width=18, height=5)\n",
    "\n",
    "options(repr.plot.width=8, repr.plot.height=3)\n",
    "\n",
    "p"
   ]
  }
 ],
 "metadata": {
  "kernelspec": {
   "display_name": "R",
   "language": "R",
   "name": "ir"
  },
  "language_info": {
   "codemirror_mode": "r",
   "file_extension": ".r",
   "mimetype": "text/x-r-source",
   "name": "R",
   "pygments_lexer": "r",
   "version": "3.6.1"
  }
 },
 "nbformat": 4,
 "nbformat_minor": 2
}
