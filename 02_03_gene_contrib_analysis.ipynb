{
 "cells": [
  {
   "cell_type": "code",
   "execution_count": 1,
   "metadata": {},
   "outputs": [
    {
     "data": {
      "text/html": [
       "<table>\n",
       "<thead><tr><th scope=col>experiment</th><th scope=col>marker</th><th scope=col>train_auc</th><th scope=col>valid_auc</th><th scope=col>train_loss</th><th scope=col>valid_loss</th><th scope=col>execution_time</th><th scope=col>threshold</th><th scope=col>accuracy</th><th scope=col>precision</th><th scope=col>sensitivity</th><th scope=col>specificity</th></tr></thead>\n",
       "<tbody>\n",
       "\t<tr><td>0        </td><td>cmmc     </td><td>0.6797619</td><td>0.5120690</td><td>0.5522653</td><td>0.5637071</td><td>71.85949 </td><td>0.2515360</td><td>0.7435897</td><td>0.5000000</td><td>0.3000000</td><td>0.8965517</td></tr>\n",
       "\t<tr><td>1        </td><td>cmmc     </td><td>0.6576610</td><td>0.5607143</td><td>0.5357400</td><td>0.5656558</td><td>92.89044 </td><td>0.2447377</td><td>0.4210526</td><td>0.2500000</td><td>0.6000000</td><td>0.3571429</td></tr>\n",
       "\t<tr><td>2        </td><td>cmmc     </td><td>0.6262730</td><td>0.6250000</td><td>0.5439475</td><td>0.5635521</td><td>76.18885 </td><td>0.2319463</td><td>0.7368421</td><td>0.5000000</td><td>0.2000000</td><td>0.9285714</td></tr>\n",
       "\t<tr><td>3        </td><td>cmmc     </td><td>0.6417810</td><td>0.4857143</td><td>0.5368714</td><td>0.5882609</td><td>74.27151 </td><td>0.2359264</td><td>0.3421053</td><td>0.2580645</td><td>0.8000000</td><td>0.1785714</td></tr>\n",
       "\t<tr><td>4        </td><td>cmmc     </td><td>0.6215764</td><td>0.8428571</td><td>0.5479823</td><td>0.5207046</td><td>74.61579 </td><td>0.2573695</td><td>0.8421053</td><td>0.7500000</td><td>0.6000000</td><td>0.9285714</td></tr>\n",
       "\t<tr><td>5        </td><td>cmmc     </td><td>0.6985936</td><td>0.4603175</td><td>0.5246536</td><td>0.5478986</td><td>80.27367 </td><td>0.2513442</td><td>0.7297297</td><td>0.4000000</td><td>0.2222222</td><td>0.8928571</td></tr>\n",
       "</tbody>\n",
       "</table>\n"
      ],
      "text/latex": [
       "\\begin{tabular}{r|llllllllllll}\n",
       " experiment & marker & train\\_auc & valid\\_auc & train\\_loss & valid\\_loss & execution\\_time & threshold & accuracy & precision & sensitivity & specificity\\\\\n",
       "\\hline\n",
       "\t 0         & cmmc      & 0.6797619 & 0.5120690 & 0.5522653 & 0.5637071 & 71.85949  & 0.2515360 & 0.7435897 & 0.5000000 & 0.3000000 & 0.8965517\\\\\n",
       "\t 1         & cmmc      & 0.6576610 & 0.5607143 & 0.5357400 & 0.5656558 & 92.89044  & 0.2447377 & 0.4210526 & 0.2500000 & 0.6000000 & 0.3571429\\\\\n",
       "\t 2         & cmmc      & 0.6262730 & 0.6250000 & 0.5439475 & 0.5635521 & 76.18885  & 0.2319463 & 0.7368421 & 0.5000000 & 0.2000000 & 0.9285714\\\\\n",
       "\t 3         & cmmc      & 0.6417810 & 0.4857143 & 0.5368714 & 0.5882609 & 74.27151  & 0.2359264 & 0.3421053 & 0.2580645 & 0.8000000 & 0.1785714\\\\\n",
       "\t 4         & cmmc      & 0.6215764 & 0.8428571 & 0.5479823 & 0.5207046 & 74.61579  & 0.2573695 & 0.8421053 & 0.7500000 & 0.6000000 & 0.9285714\\\\\n",
       "\t 5         & cmmc      & 0.6985936 & 0.4603175 & 0.5246536 & 0.5478986 & 80.27367  & 0.2513442 & 0.7297297 & 0.4000000 & 0.2222222 & 0.8928571\\\\\n",
       "\\end{tabular}\n"
      ],
      "text/markdown": [
       "\n",
       "| experiment | marker | train_auc | valid_auc | train_loss | valid_loss | execution_time | threshold | accuracy | precision | sensitivity | specificity |\n",
       "|---|---|---|---|---|---|---|---|---|---|---|---|\n",
       "| 0         | cmmc      | 0.6797619 | 0.5120690 | 0.5522653 | 0.5637071 | 71.85949  | 0.2515360 | 0.7435897 | 0.5000000 | 0.3000000 | 0.8965517 |\n",
       "| 1         | cmmc      | 0.6576610 | 0.5607143 | 0.5357400 | 0.5656558 | 92.89044  | 0.2447377 | 0.4210526 | 0.2500000 | 0.6000000 | 0.3571429 |\n",
       "| 2         | cmmc      | 0.6262730 | 0.6250000 | 0.5439475 | 0.5635521 | 76.18885  | 0.2319463 | 0.7368421 | 0.5000000 | 0.2000000 | 0.9285714 |\n",
       "| 3         | cmmc      | 0.6417810 | 0.4857143 | 0.5368714 | 0.5882609 | 74.27151  | 0.2359264 | 0.3421053 | 0.2580645 | 0.8000000 | 0.1785714 |\n",
       "| 4         | cmmc      | 0.6215764 | 0.8428571 | 0.5479823 | 0.5207046 | 74.61579  | 0.2573695 | 0.8421053 | 0.7500000 | 0.6000000 | 0.9285714 |\n",
       "| 5         | cmmc      | 0.6985936 | 0.4603175 | 0.5246536 | 0.5478986 | 80.27367  | 0.2513442 | 0.7297297 | 0.4000000 | 0.2222222 | 0.8928571 |\n",
       "\n"
      ],
      "text/plain": [
       "  experiment marker train_auc valid_auc train_loss valid_loss execution_time\n",
       "1 0          cmmc   0.6797619 0.5120690 0.5522653  0.5637071  71.85949      \n",
       "2 1          cmmc   0.6576610 0.5607143 0.5357400  0.5656558  92.89044      \n",
       "3 2          cmmc   0.6262730 0.6250000 0.5439475  0.5635521  76.18885      \n",
       "4 3          cmmc   0.6417810 0.4857143 0.5368714  0.5882609  74.27151      \n",
       "5 4          cmmc   0.6215764 0.8428571 0.5479823  0.5207046  74.61579      \n",
       "6 5          cmmc   0.6985936 0.4603175 0.5246536  0.5478986  80.27367      \n",
       "  threshold accuracy  precision sensitivity specificity\n",
       "1 0.2515360 0.7435897 0.5000000 0.3000000   0.8965517  \n",
       "2 0.2447377 0.4210526 0.2500000 0.6000000   0.3571429  \n",
       "3 0.2319463 0.7368421 0.5000000 0.2000000   0.9285714  \n",
       "4 0.2359264 0.3421053 0.2580645 0.8000000   0.1785714  \n",
       "5 0.2573695 0.8421053 0.7500000 0.6000000   0.9285714  \n",
       "6 0.2513442 0.7297297 0.4000000 0.2222222   0.8928571  "
      ]
     },
     "metadata": {},
     "output_type": "display_data"
    }
   ],
   "source": [
    "df1 <- read.csv('output/gene/metrics_clinical_plus_genes.csv', sep=',')\n",
    "\n",
    "head(df1)"
   ]
  },
  {
   "cell_type": "code",
   "execution_count": 2,
   "metadata": {},
   "outputs": [
    {
     "data": {
      "text/html": [
       "<table>\n",
       "<thead><tr><th scope=col>experiment</th><th scope=col>marker</th><th scope=col>train_auc</th><th scope=col>valid_auc</th><th scope=col>train_loss</th><th scope=col>valid_loss</th><th scope=col>execution_time</th><th scope=col>threshold</th><th scope=col>accuracy</th><th scope=col>precision</th><th scope=col>sensitivity</th><th scope=col>specificity</th></tr></thead>\n",
       "<tbody>\n",
       "\t<tr><td>0        </td><td>cmmc     </td><td>0.6251167</td><td>0.5120690</td><td>0.5454276</td><td>0.5735952</td><td>21.45124 </td><td>0.2516665</td><td>0.7435897</td><td>0.5000000</td><td>0.3000000</td><td>0.8965517</td></tr>\n",
       "\t<tr><td>1        </td><td>cmmc     </td><td>0.6421995</td><td>0.5428571</td><td>0.5366238</td><td>0.5665084</td><td>22.18100 </td><td>0.2565433</td><td>0.4210526</td><td>0.2500000</td><td>0.6000000</td><td>0.3571429</td></tr>\n",
       "\t<tr><td>2        </td><td>cmmc     </td><td>0.6238084</td><td>0.4500000</td><td>0.5436237</td><td>0.5653582</td><td>22.20129 </td><td>0.2341443</td><td>0.7368421</td><td>0.5000000</td><td>0.2000000</td><td>0.9285714</td></tr>\n",
       "\t<tr><td>3        </td><td>cmmc     </td><td>0.6488724</td><td>0.4696429</td><td>0.5326936</td><td>0.5898420</td><td>23.67005 </td><td>0.2480619</td><td>0.5263158</td><td>0.3000000</td><td>0.6000000</td><td>0.5000000</td></tr>\n",
       "\t<tr><td>4        </td><td>cmmc     </td><td>0.6125785</td><td>0.8428571</td><td>0.5482614</td><td>0.5214228</td><td>21.36289 </td><td>0.2647128</td><td>0.8421053</td><td>0.7500000</td><td>0.6000000</td><td>0.9285714</td></tr>\n",
       "\t<tr><td>5        </td><td>cmmc     </td><td>0.6491865</td><td>0.4742063</td><td>0.5359721</td><td>0.5576369</td><td>22.36222 </td><td>0.2316897</td><td>0.2972973</td><td>0.2424242</td><td>0.8888889</td><td>0.1071429</td></tr>\n",
       "</tbody>\n",
       "</table>\n"
      ],
      "text/latex": [
       "\\begin{tabular}{r|llllllllllll}\n",
       " experiment & marker & train\\_auc & valid\\_auc & train\\_loss & valid\\_loss & execution\\_time & threshold & accuracy & precision & sensitivity & specificity\\\\\n",
       "\\hline\n",
       "\t 0         & cmmc      & 0.6251167 & 0.5120690 & 0.5454276 & 0.5735952 & 21.45124  & 0.2516665 & 0.7435897 & 0.5000000 & 0.3000000 & 0.8965517\\\\\n",
       "\t 1         & cmmc      & 0.6421995 & 0.5428571 & 0.5366238 & 0.5665084 & 22.18100  & 0.2565433 & 0.4210526 & 0.2500000 & 0.6000000 & 0.3571429\\\\\n",
       "\t 2         & cmmc      & 0.6238084 & 0.4500000 & 0.5436237 & 0.5653582 & 22.20129  & 0.2341443 & 0.7368421 & 0.5000000 & 0.2000000 & 0.9285714\\\\\n",
       "\t 3         & cmmc      & 0.6488724 & 0.4696429 & 0.5326936 & 0.5898420 & 23.67005  & 0.2480619 & 0.5263158 & 0.3000000 & 0.6000000 & 0.5000000\\\\\n",
       "\t 4         & cmmc      & 0.6125785 & 0.8428571 & 0.5482614 & 0.5214228 & 21.36289  & 0.2647128 & 0.8421053 & 0.7500000 & 0.6000000 & 0.9285714\\\\\n",
       "\t 5         & cmmc      & 0.6491865 & 0.4742063 & 0.5359721 & 0.5576369 & 22.36222  & 0.2316897 & 0.2972973 & 0.2424242 & 0.8888889 & 0.1071429\\\\\n",
       "\\end{tabular}\n"
      ],
      "text/markdown": [
       "\n",
       "| experiment | marker | train_auc | valid_auc | train_loss | valid_loss | execution_time | threshold | accuracy | precision | sensitivity | specificity |\n",
       "|---|---|---|---|---|---|---|---|---|---|---|---|\n",
       "| 0         | cmmc      | 0.6251167 | 0.5120690 | 0.5454276 | 0.5735952 | 21.45124  | 0.2516665 | 0.7435897 | 0.5000000 | 0.3000000 | 0.8965517 |\n",
       "| 1         | cmmc      | 0.6421995 | 0.5428571 | 0.5366238 | 0.5665084 | 22.18100  | 0.2565433 | 0.4210526 | 0.2500000 | 0.6000000 | 0.3571429 |\n",
       "| 2         | cmmc      | 0.6238084 | 0.4500000 | 0.5436237 | 0.5653582 | 22.20129  | 0.2341443 | 0.7368421 | 0.5000000 | 0.2000000 | 0.9285714 |\n",
       "| 3         | cmmc      | 0.6488724 | 0.4696429 | 0.5326936 | 0.5898420 | 23.67005  | 0.2480619 | 0.5263158 | 0.3000000 | 0.6000000 | 0.5000000 |\n",
       "| 4         | cmmc      | 0.6125785 | 0.8428571 | 0.5482614 | 0.5214228 | 21.36289  | 0.2647128 | 0.8421053 | 0.7500000 | 0.6000000 | 0.9285714 |\n",
       "| 5         | cmmc      | 0.6491865 | 0.4742063 | 0.5359721 | 0.5576369 | 22.36222  | 0.2316897 | 0.2972973 | 0.2424242 | 0.8888889 | 0.1071429 |\n",
       "\n"
      ],
      "text/plain": [
       "  experiment marker train_auc valid_auc train_loss valid_loss execution_time\n",
       "1 0          cmmc   0.6251167 0.5120690 0.5454276  0.5735952  21.45124      \n",
       "2 1          cmmc   0.6421995 0.5428571 0.5366238  0.5665084  22.18100      \n",
       "3 2          cmmc   0.6238084 0.4500000 0.5436237  0.5653582  22.20129      \n",
       "4 3          cmmc   0.6488724 0.4696429 0.5326936  0.5898420  23.67005      \n",
       "5 4          cmmc   0.6125785 0.8428571 0.5482614  0.5214228  21.36289      \n",
       "6 5          cmmc   0.6491865 0.4742063 0.5359721  0.5576369  22.36222      \n",
       "  threshold accuracy  precision sensitivity specificity\n",
       "1 0.2516665 0.7435897 0.5000000 0.3000000   0.8965517  \n",
       "2 0.2565433 0.4210526 0.2500000 0.6000000   0.3571429  \n",
       "3 0.2341443 0.7368421 0.5000000 0.2000000   0.9285714  \n",
       "4 0.2480619 0.5263158 0.3000000 0.6000000   0.5000000  \n",
       "5 0.2647128 0.8421053 0.7500000 0.6000000   0.9285714  \n",
       "6 0.2316897 0.2972973 0.2424242 0.8888889   0.1071429  "
      ]
     },
     "metadata": {},
     "output_type": "display_data"
    }
   ],
   "source": [
    "df2 <- read.csv('output/gene/metrics_clinical_only.csv', sep=',')\n",
    "\n",
    "head(df2)"
   ]
  },
  {
   "cell_type": "code",
   "execution_count": 3,
   "metadata": {},
   "outputs": [
    {
     "name": "stderr",
     "output_type": "stream",
     "text": [
      "Loading required package: ggplot2\n"
     ]
    },
    {
     "name": "stdout",
     "output_type": "stream",
     "text": [
      "[1] 0.09427304\n",
      "[1] 0.04714424\n",
      "[1] 0.001090645\n",
      "[1] 0.1883607\n"
     ]
    },
    {
     "data": {
      "image/png": "[encoded data removed]",
      "text/plain": [
       "plot without title"
      ]
     },
     "metadata": {},
     "output_type": "display_data"
    }
   ],
   "source": [
    "require(ggplot2)\n",
    "\n",
    "mg <- merge(df1, df2, by=c(\"marker\", \"experiment\"))\n",
    "\n",
    "df <- data.frame(marker = mg$marker, \n",
    "                 diff = mg$accuracy.x - mg$accuracy.y,\n",
    "                 fold = mg$experiment)\n",
    "\n",
    "result <- aggregate(diff ~ marker, data=df, FUN=mean)\n",
    "colnames(result) <- c(\"marker\", \"mean\")\n",
    "\n",
    "tmp <- aggregate(diff ~ marker, data=df, FUN=sd)\n",
    "colnames(tmp) <- c(\"marker\", \"sd\")\n",
    "\n",
    "result <- merge(result, tmp, by=\"marker\")\n",
    "result$marker = gsub('percent_', '', result$marker)\n",
    "result <- result[result$mean > 0,]\n",
    "\n",
    "ticks.line.color='grey30'\n",
    "\n",
    "p <- ggplot(result) + \n",
    "  geom_bar(aes(marker, mean), stat=\"identity\", position=\"dodge\", alpha=.75) + \n",
    "  # scale_x_discrete(limits = rev(levels(result$marker))) +\n",
    "  # scale_y_log10() +\n",
    "  theme_bw() + \n",
    "  theme(panel.border          = element_blank(), \n",
    "        panel.grid.major      = element_blank(),\n",
    "        panel.grid.minor      = element_blank(), \n",
    "        axis.line             = element_line(colour=ticks.line.color),\n",
    "        text                  = element_text(size=10, family=\"serif\"),\n",
    "        legend.key.size       = unit(10, \"pt\"),\n",
    "        legend.position       = 'bottom',\n",
    "        axis.text.x           = element_text(size=10, angle=45, hjust=1, colour=ticks.line.color),\n",
    "        axis.text.y           = element_text(size=10, colour=ticks.line.color),\n",
    "        axis.title.x          = element_text(vjust=1),\n",
    "        axis.ticks            = element_line(color=ticks.line.color),\n",
    "        plot.background       = element_rect(fill = \"transparent\", color=NA), # bg of the plot\n",
    "        legend.box.background = element_rect(color=NA, fill = \"transparent\"), # get rid of legend panel bg\n",
    "        legend.background     = element_rect(colour=NA, size=0),\n",
    "        legend.key            = element_rect(fill=\"transparent\", colour=NA) # get rid of key legend fill, \n",
    "                                                                            #and of the surrounding\n",
    "        ) +\n",
    "  xlab(\"Clinical Marker\") + ylab(\"Accuracy Gain\")\n",
    "\n",
    "print(mean(result$mean))\n",
    "print(sd(result$mean))\n",
    "print(min(result$mean))\n",
    "print(max(result$mean))\n",
    "\n",
    "ggsave('images/accuracy_gain.pdf', p, units='cm', width=18, height=7)\n",
    "\n",
    "options(repr.plot.width=8, repr.plot.height=3)\n",
    "\n",
    "p"
   ]
  },
  {
   "cell_type": "code",
   "execution_count": 4,
   "metadata": {},
   "outputs": [
    {
     "name": "stdout",
     "output_type": "stream",
     "text": [
      "[1] 0.1182311\n",
      "[1] 0.06651135\n",
      "[1] 0.009599728\n",
      "[1] 0.2575641\n"
     ]
    },
    {
     "data": {
      "image/png": "[encoded data removed]",
      "text/plain": [
       "plot without title"
      ]
     },
     "metadata": {},
     "output_type": "display_data"
    }
   ],
   "source": [
    "# computing final results\n",
    "df <- data.frame(feature = mg$marker, \n",
    "                 diff = 1 - mg$accuracy.y / mg$accuracy.x,\n",
    "                 fold = mg$experiment)\n",
    "\n",
    "result <- aggregate(diff ~ feature, data=df, FUN=mean)\n",
    "colnames(result) <- c(\"feature\", \"mean\")\n",
    "\n",
    "tmp <- aggregate(diff ~ feature, data=df, FUN=sd)\n",
    "colnames(tmp) <- c(\"feature\", \"sd\")\n",
    "\n",
    "result <- merge(result, tmp, by=\"feature\")\n",
    "result$feature = gsub('percent_', '', result$feature)\n",
    "result <- result[result$mean > 0,]\n",
    "\n",
    "# replace \"_\" by \" \"\n",
    "result$feature <- chartr(\"_\", \" \", result$feature)\n",
    "\n",
    "result$feature[grep('cell markers', result$feature, fixed=T)] <- 'cell markers'\n",
    "result$feature[grep('race', result$feature, fixed=T)] <- 'race'\n",
    "result$feature[grep('wbc', result$feature, fixed=T)] <- 'wbc'\n",
    "\n",
    "result <- aggregate(. ~ feature, FUN=mean, data=result)\n",
    "\n",
    "# creating plot\n",
    "ticks.line.color='grey40'\n",
    "\n",
    "p <- ggplot(result) + \n",
    "     geom_bar(aes(feature, mean), fill='grey40', stat=\"identity\", position=\"dodge\", alpha=.75) + \n",
    "     scale_y_continuous(labels = scales::percent) +\n",
    "     xlab(\"Clinical Marker\") + \n",
    "     ylab(\"Accuracy Gain\") +\n",
    "     theme_bw() + \n",
    "     theme(panel.border          = element_blank(), \n",
    "           panel.grid.major      = element_blank(),\n",
    "           panel.grid.minor      = element_blank(), \n",
    "           axis.line             = element_line(colour=ticks.line.color),\n",
    "           text                  = element_text(size=10, family=\"serif\"),\n",
    "           legend.key.size       = unit(10, \"pt\"),\n",
    "           legend.position       = 'bottom',\n",
    "           axis.text.x           = element_text(size=10, angle=45, hjust=1, colour=ticks.line.color),\n",
    "           axis.text.y           = element_text(size=10, colour=ticks.line.color),\n",
    "           axis.title.x          = element_text(vjust=1),\n",
    "           axis.ticks            = element_line(color=ticks.line.color),\n",
    "           plot.background       = element_rect(fill = \"transparent\", color=NA), # bg of the plot\n",
    "           legend.box.background = element_rect(color=NA, fill = \"transparent\"), # get rid of legend panel bg\n",
    "           legend.background     = element_rect(colour=NA, size=0),\n",
    "           legend.key            = element_rect(fill=\"transparent\", colour=NA) # get rid of key legend fill, \n",
    "                                                                                #and of the surrounding\n",
    "           )\n",
    "\n",
    "# showing descriptive statistics\n",
    "print(mean(result$mean))\n",
    "print(sd(result$mean))\n",
    "print(min(result$mean))\n",
    "print(max(result$mean))\n",
    "\n",
    "# exporting plot\n",
    "ggsave('images/accuracy_percentual_gain.pdf', p, units='cm', width=18, height=7)\n",
    "\n",
    "# showing plot\n",
    "options(repr.plot.width=8, repr.plot.height=3)\n",
    "\n",
    "p"
   ]
  },
  {
   "cell_type": "code",
   "execution_count": 5,
   "metadata": {},
   "outputs": [
    {
     "data": {
      "text/plain": [
       "\n",
       "\tWelch Two Sample t-test\n",
       "\n",
       "data:  df1$accuracy and df2$accuracy\n",
       "t = 7.9466, df = 628.09, p-value = 4.452e-15\n",
       "alternative hypothesis: true difference in means is greater than 0\n",
       "95 percent confidence interval:\n",
       " 0.06689946        Inf\n",
       "sample estimates:\n",
       "mean of x mean of y \n",
       "0.5267446 0.4423508 \n"
      ]
     },
     "metadata": {},
     "output_type": "display_data"
    }
   ],
   "source": [
    "t.test(df1$accuracy, df2$accuracy, alternative='greater')"
   ]
  },
  {
   "cell_type": "code",
   "execution_count": null,
   "metadata": {},
   "outputs": [],
   "source": []
  }
 ],
 "metadata": {
  "kernelspec": {
   "display_name": "R",
   "language": "R",
   "name": "ir"
  },
  "language_info": {
   "codemirror_mode": "r",
   "file_extension": ".r",
   "mimetype": "text/x-r-source",
   "name": "R",
   "pygments_lexer": "r",
   "version": "3.6.1"
  }
 },
 "nbformat": 4,
 "nbformat_minor": 2
}
