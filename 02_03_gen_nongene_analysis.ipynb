{
 "cells": [
  {
   "cell_type": "code",
   "execution_count": 1,
   "metadata": {},
   "outputs": [
    {
     "name": "stderr",
     "output_type": "stream",
     "text": [
      "Loading required package: ggplot2\n"
     ]
    },
    {
     "name": "stdout",
     "output_type": "stream",
     "text": [
      "[1] 0.1383875\n",
      "[1] 0.07188518\n",
      "[1] 0.008609377\n",
      "[1] 0.2593316\n"
     ]
    },
    {
     "data": {
      "image/png": "[encoded data removed]",
      "text/plain": [
       "plot without title"
      ]
     },
     "metadata": {},
     "output_type": "display_data"
    }
   ],
   "source": [
    "require(ggplot2)\n",
    "\n",
    "df1 <- read.csv('output/brfl/clinical_and_gene_markers.csv', sep=',')\n",
    "\n",
    "df2 <- read.csv('output/brfl/clinical_markers.csv', sep=',')\n",
    "\n",
    "mg <- merge(df1, df2, by=c(\"feature\", \"fold\"))\n",
    "\n",
    "df <- data.frame(feature = mg$feature, \n",
    "                 diff = mg$accuracy.x - mg$accuracy.y,\n",
    "                 fold = mg$fold)\n",
    "\n",
    "result <- aggregate(diff ~ feature, data=df, FUN=mean)\n",
    "colnames(result) <- c(\"feature\", \"mean\")\n",
    "\n",
    "tmp <- aggregate(diff ~ feature, data=df, FUN=sd)\n",
    "colnames(tmp) <- c(\"feature\", \"sd\")\n",
    "\n",
    "result <- merge(result, tmp, by=\"feature\")\n",
    "result$feature = gsub('percent_', '', result$feature)\n",
    "result <- result[result$mean > 0,]\n",
    "\n",
    "p <- ggplot(result) + \n",
    "  geom_bar(aes(feature, mean), stat=\"identity\", position=\"dodge\", alpha=.75) + \n",
    "  # scale_x_discrete(limits = rev(levels(result$feature))) +\n",
    "  theme(text = element_text(size=10, family=\"serif\"), axis.text.x = element_text(angle=60, hjust=1)) + \n",
    "  xlab(\"Marker\") + ylab(\"Accuracy Gain\")\n",
    "\n",
    "print(mean(result$mean))\n",
    "print(sd(result$mean))\n",
    "print(min(result$mean))\n",
    "print(max(result$mean))\n",
    "\n",
    "ggsave('images/accuracy_gain.pdf', p, units='cm', width=18, height=7)\n",
    "\n",
    "options(repr.plot.width=8, repr.plot.height=3)\n",
    "p"
   ]
  },
  {
   "cell_type": "code",
   "execution_count": 3,
   "metadata": {},
   "outputs": [
    {
     "name": "stdout",
     "output_type": "stream",
     "text": [
      "[1] 0.2329928\n",
      "[1] 0.1021004\n",
      "[1] 0.04179264\n",
      "[1] 0.4104926\n"
     ]
    },
    {
     "data": {
      "image/png": "[encoded data removed]",
      "text/plain": [
       "plot without title"
      ]
     },
     "metadata": {},
     "output_type": "display_data"
    }
   ],
   "source": [
    "setwd('C:/Users/Venezian/git/multiple-myeloma/')\n",
    "\n",
    "require(ggplot2)\n",
    "\n",
    "df1 <- read.csv('output/brfl/clinical_and_gene_markers.csv', sep=',')\n",
    "\n",
    "df2 <- read.csv('output/brfl/clinical_markers.csv', sep=',')\n",
    "\n",
    "mg <- merge(df1, df2, by=c(\"feature\", \"fold\"))\n",
    "\n",
    "df <- data.frame(feature = mg$feature, \n",
    "                 diff = 1 - mg$accuracy.y / mg$accuracy.x,\n",
    "                 fold = mg$fold)\n",
    "\n",
    "result <- aggregate(diff ~ feature, data=df, FUN=mean)\n",
    "colnames(result) <- c(\"feature\", \"mean\")\n",
    "\n",
    "tmp <- aggregate(diff ~ feature, data=df, FUN=sd)\n",
    "colnames(tmp) <- c(\"feature\", \"sd\")\n",
    "\n",
    "result <- merge(result, tmp, by=\"feature\")\n",
    "result$feature = gsub('percent_', '', result$feature)\n",
    "result <- result[result$mean > 0,]\n",
    "\n",
    "p <- ggplot(result) + \n",
    "  geom_bar(aes(feature, mean), stat=\"identity\", position=\"dodge\", alpha=.75) + \n",
    "  # scale_x_discrete(limits = rev(levels(result$feature))) +\n",
    "  theme(text = element_text(size=10, family=\"serif\"), axis.text.x = element_text(angle=60, hjust=1)) + \n",
    "  xlab(\"Marker\") + ylab(\"Accuracy Gain\")\n",
    "\n",
    "print(mean(result$mean))\n",
    "print(sd(result$mean))\n",
    "print(min(result$mean))\n",
    "print(max(result$mean))\n",
    "\n",
    "ggsave('images/accuracy_percentual_gain.pdf', p, units='cm', width=18, height=7)\n",
    "\n",
    "options(repr.plot.width=8, repr.plot.height=3)\n",
    "p"
   ]
  }
 ],
 "metadata": {
  "kernelspec": {
   "display_name": "R",
   "language": "R",
   "name": "ir"
  },
  "language_info": {
   "codemirror_mode": "r",
   "file_extension": ".r",
   "mimetype": "text/x-r-source",
   "name": "R",
   "pygments_lexer": "r",
   "version": "3.6.1"
  }
 },
 "nbformat": 4,
 "nbformat_minor": 2
}
