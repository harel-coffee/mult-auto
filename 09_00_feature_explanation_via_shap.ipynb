{
 "cells": [
  {
   "cell_type": "code",
   "execution_count": 1,
   "metadata": {},
   "outputs": [],
   "source": [
    "import shap\n",
    "\n",
    "import numpy as np\n",
    "\n",
    "models = {}\n",
    "\n",
    "def compute_shap_metrics(X):\n",
    "\n",
    "    for i in range(5):\n",
    "\n",
    "        models[i] = {}\n",
    "\n",
    "        with open(os.path.join(MODEL_DIRECTORY, 'model_{}.pkl'.format(i)), 'rb') as file:\n",
    "            model = pkl.load(file)\n",
    "\n",
    "        models[i]['model'] = model        \n",
    "        explainer = shap.TreeExplainer(model)\n",
    "        models[i]['explainer'] = explainer\n",
    "        models[i]['shap_values'] = explainer.shap_values(X)\n",
    "\n",
    "    shap_values = np.mean([models[i]['shap_values'][1] for i in range(len(models))], axis=0)\n",
    "\n",
    "    expected_value = np.mean([models[i]['explainer'].expected_value[1] for i in range(len(models))], axis=0)\n",
    "    \n",
    "    return shap_values, expected_value\n",
    "\n",
    "shap_values, expected_value = compute_shap_metrics(X)"
   ]
  }
 ],
 "metadata": {
  "kernelspec": {
   "display_name": "Python 3",
   "language": "python",
   "name": "python3"
  },
  "language_info": {
   "codemirror_mode": {
    "name": "ipython",
    "version": 3
   },
   "file_extension": ".py",
   "mimetype": "text/x-python",
   "name": "python",
   "nbconvert_exporter": "python",
   "pygments_lexer": "ipython3",
   "version": "3.7.3"
  }
 },
 "nbformat": 4,
 "nbformat_minor": 2
}
