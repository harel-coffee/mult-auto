{
 "cells": [
  {
   "cell_type": "markdown",
   "metadata": {},
   "source": [
    "## Loading required data sets and libraries"
   ]
  },
  {
   "cell_type": "code",
   "execution_count": 14,
   "metadata": {},
   "outputs": [
    {
     "data": {
      "text/html": [
       "<table>\n",
       "<thead><tr><th></th><th scope=col>node</th><th scope=col>weight</th><th scope=col>entropy_mean</th><th scope=col>pvalue_mean</th><th scope=col>type</th></tr></thead>\n",
       "<tbody>\n",
       "\t<tr><th scope=row>41</th><td>transplant </td><td>10         </td><td>0.9988153  </td><td>1.0000000  </td><td>Clinical   </td></tr>\n",
       "\t<tr><th scope=row>35</th><td>SUMO1P3    </td><td> 2         </td><td>4.1412505  </td><td>0.9993888  </td><td>Gene       </td></tr>\n",
       "\t<tr><th scope=row>16</th><td>FAM229B    </td><td>12         </td><td>7.8967876  </td><td>0.9977810  </td><td>Gene       </td></tr>\n",
       "\t<tr><th scope=row>10</th><td>CFAP36     </td><td>12         </td><td>8.8341342  </td><td>0.9977385  </td><td>Gene       </td></tr>\n",
       "\t<tr><th scope=row>12</th><td>CTC-297N7.9</td><td> 2         </td><td>4.3139686  </td><td>0.9977305  </td><td>Gene       </td></tr>\n",
       "\t<tr><th scope=row>22</th><td>IQCK       </td><td> 4         </td><td>7.0244949  </td><td>0.9977278  </td><td>Gene       </td></tr>\n",
       "</tbody>\n",
       "</table>\n"
      ],
      "text/latex": [
       "\\begin{tabular}{r|lllll}\n",
       "  & node & weight & entropy\\_mean & pvalue\\_mean & type\\\\\n",
       "\\hline\n",
       "\t41 & transplant  & 10          & 0.9988153   & 1.0000000   & Clinical   \\\\\n",
       "\t35 & SUMO1P3     &  2          & 4.1412505   & 0.9993888   & Gene       \\\\\n",
       "\t16 & FAM229B     & 12          & 7.8967876   & 0.9977810   & Gene       \\\\\n",
       "\t10 & CFAP36      & 12          & 8.8341342   & 0.9977385   & Gene       \\\\\n",
       "\t12 & CTC-297N7.9 &  2          & 4.3139686   & 0.9977305   & Gene       \\\\\n",
       "\t22 & IQCK        &  4          & 7.0244949   & 0.9977278   & Gene       \\\\\n",
       "\\end{tabular}\n"
      ],
      "text/markdown": [
       "\n",
       "| <!--/--> | node | weight | entropy_mean | pvalue_mean | type |\n",
       "|---|---|---|---|---|---|\n",
       "| 41 | transplant  | 10          | 0.9988153   | 1.0000000   | Clinical    |\n",
       "| 35 | SUMO1P3     |  2          | 4.1412505   | 0.9993888   | Gene        |\n",
       "| 16 | FAM229B     | 12          | 7.8967876   | 0.9977810   | Gene        |\n",
       "| 10 | CFAP36      | 12          | 8.8341342   | 0.9977385   | Gene        |\n",
       "| 12 | CTC-297N7.9 |  2          | 4.3139686   | 0.9977305   | Gene        |\n",
       "| 22 | IQCK        |  4          | 7.0244949   | 0.9977278   | Gene        |\n",
       "\n"
      ],
      "text/plain": [
       "   node        weight entropy_mean pvalue_mean type    \n",
       "41 transplant  10     0.9988153    1.0000000   Clinical\n",
       "35 SUMO1P3      2     4.1412505    0.9993888   Gene    \n",
       "16 FAM229B     12     7.8967876    0.9977810   Gene    \n",
       "10 CFAP36      12     8.8341342    0.9977385   Gene    \n",
       "12 CTC-297N7.9  2     4.3139686    0.9977305   Gene    \n",
       "22 IQCK         4     7.0244949    0.9977278   Gene    "
      ]
     },
     "metadata": {},
     "output_type": "display_data"
    }
   ],
   "source": [
    "require(ggplot2)\n",
    "library(ggpubr)\n",
    "\n",
    "df <- read.table('output/graph/node.csv', sep=',', header=T)\n",
    "df <- df[order(-df$pvalue_mean),]\n",
    "\n",
    "gene.names <- read.table('output/ensg_x_gene_name.csv', sep=',', header=T)\n",
    "\n",
    "df.gene <- df[df$type == 'Gene',]\n",
    "df.gene <- merge(df.gene, gene.names, by.x='node', by.y='genemania')\n",
    "df.gene$type <- NULL\n",
    "\n",
    "df.clin <- df[df$type == 'Clinical',]\n",
    "df.clin$type <- NULL\n",
    "\n",
    "head(df)"
   ]
  },
  {
   "cell_type": "code",
   "execution_count": 2,
   "metadata": {},
   "outputs": [
    {
     "name": "stdout",
     "output_type": "stream",
     "text": [
      "[1] 420\n"
     ]
    },
    {
     "data": {
      "text/html": [
       "<table>\n",
       "<thead><tr><th scope=col>ID</th><th scope=col>response_best_response_first_line</th><th scope=col>days_to_disease_progression</th><th scope=col>treatment</th><th scope=col>transplant</th><th scope=col>beta_2</th><th scope=col>hemoglobin</th><th scope=col>ldh</th><th scope=col>age</th><th scope=col>bun</th><th scope=col>aneuploid</th><th scope=col>lgg</th><th scope=col>creatinine</th><th scope=col>wbc_x10_10_9_l</th><th scope=col>peripherical_blood</th></tr></thead>\n",
       "<tbody>\n",
       "\t<tr><td>MMRF1011     </td><td>Non-sensitive</td><td>1612         </td><td>Bor-Dex      </td><td>1            </td><td>7.84         </td><td>6.014        </td><td>     NA      </td><td>50           </td><td> 7.854       </td><td>0.0          </td><td>   NA        </td><td>123.760      </td><td>8.90         </td><td>0.0          </td></tr>\n",
       "\t<tr><td>MMRF1013     </td><td>Sensitive    </td><td>1332         </td><td>Bor-Len-Dex  </td><td>1            </td><td>  NA         </td><td>7.006        </td><td>2.15043      </td><td>66           </td><td>11.424       </td><td>0.0          </td><td> 5.27        </td><td>186.524      </td><td>7.10         </td><td>0.2          </td></tr>\n",
       "\t<tr><td>MMRF1016     </td><td>Non-sensitive</td><td> 691         </td><td>Bor-Cyc-Dex  </td><td>0            </td><td>2.92         </td><td>8.184        </td><td>3.81743      </td><td>56           </td><td> 7.854       </td><td>0.0          </td><td>29.53        </td><td> 86.632      </td><td>8.40         </td><td>0.0          </td></tr>\n",
       "\t<tr><td>MMRF1017     </td><td>Non-sensitive</td><td> 273         </td><td>Len-Dex      </td><td>0            </td><td>3.15         </td><td>8.618        </td><td>     NA      </td><td>75           </td><td> 6.069       </td><td>6.9          </td><td>   NA        </td><td> 79.560      </td><td>5.59         </td><td>0.0          </td></tr>\n",
       "\t<tr><td>MMRF1020     </td><td>Sensitive    </td><td> 505         </td><td>Bor-Len-Dex  </td><td>1            </td><td>2.10         </td><td>8.742        </td><td>3.21731      </td><td>60           </td><td> 8.925       </td><td>0.0          </td><td> 9.23        </td><td> 88.400      </td><td>6.20         </td><td>0.0          </td></tr>\n",
       "\t<tr><td>MMRF1021     </td><td>Non-sensitive</td><td> 531         </td><td>Bor-Len-Dex  </td><td>1            </td><td>2.10         </td><td>8.928        </td><td>9.86864      </td><td>54           </td><td> 8.925       </td><td>0.0          </td><td>70.50        </td><td> 88.400      </td><td>5.20         </td><td>0.0          </td></tr>\n",
       "</tbody>\n",
       "</table>\n"
      ],
      "text/latex": [
       "\\begin{tabular}{r|lllllllllllllll}\n",
       " ID & response\\_best\\_response\\_first\\_line & days\\_to\\_disease\\_progression & treatment & transplant & beta\\_2 & hemoglobin & ldh & age & bun & aneuploid & lgg & creatinine & wbc\\_x10\\_10\\_9\\_l & peripherical\\_blood\\\\\n",
       "\\hline\n",
       "\t MMRF1011      & Non-sensitive & 1612          & Bor-Dex       & 1             & 7.84          & 6.014         &      NA       & 50            &  7.854        & 0.0           &    NA         & 123.760       & 8.90          & 0.0          \\\\\n",
       "\t MMRF1013      & Sensitive     & 1332          & Bor-Len-Dex   & 1             &   NA          & 7.006         & 2.15043       & 66            & 11.424        & 0.0           &  5.27         & 186.524       & 7.10          & 0.2          \\\\\n",
       "\t MMRF1016      & Non-sensitive &  691          & Bor-Cyc-Dex   & 0             & 2.92          & 8.184         & 3.81743       & 56            &  7.854        & 0.0           & 29.53         &  86.632       & 8.40          & 0.0          \\\\\n",
       "\t MMRF1017      & Non-sensitive &  273          & Len-Dex       & 0             & 3.15          & 8.618         &      NA       & 75            &  6.069        & 6.9           &    NA         &  79.560       & 5.59          & 0.0          \\\\\n",
       "\t MMRF1020      & Sensitive     &  505          & Bor-Len-Dex   & 1             & 2.10          & 8.742         & 3.21731       & 60            &  8.925        & 0.0           &  9.23         &  88.400       & 6.20          & 0.0          \\\\\n",
       "\t MMRF1021      & Non-sensitive &  531          & Bor-Len-Dex   & 1             & 2.10          & 8.928         & 9.86864       & 54            &  8.925        & 0.0           & 70.50         &  88.400       & 5.20          & 0.0          \\\\\n",
       "\\end{tabular}\n"
      ],
      "text/markdown": [
       "\n",
       "| ID | response_best_response_first_line | days_to_disease_progression | treatment | transplant | beta_2 | hemoglobin | ldh | age | bun | aneuploid | lgg | creatinine | wbc_x10_10_9_l | peripherical_blood |\n",
       "|---|---|---|---|---|---|---|---|---|---|---|---|---|---|---|\n",
       "| MMRF1011      | Non-sensitive | 1612          | Bor-Dex       | 1             | 7.84          | 6.014         |      NA       | 50            |  7.854        | 0.0           |    NA         | 123.760       | 8.90          | 0.0           |\n",
       "| MMRF1013      | Sensitive     | 1332          | Bor-Len-Dex   | 1             |   NA          | 7.006         | 2.15043       | 66            | 11.424        | 0.0           |  5.27         | 186.524       | 7.10          | 0.2           |\n",
       "| MMRF1016      | Non-sensitive |  691          | Bor-Cyc-Dex   | 0             | 2.92          | 8.184         | 3.81743       | 56            |  7.854        | 0.0           | 29.53         |  86.632       | 8.40          | 0.0           |\n",
       "| MMRF1017      | Non-sensitive |  273          | Len-Dex       | 0             | 3.15          | 8.618         |      NA       | 75            |  6.069        | 6.9           |    NA         |  79.560       | 5.59          | 0.0           |\n",
       "| MMRF1020      | Sensitive     |  505          | Bor-Len-Dex   | 1             | 2.10          | 8.742         | 3.21731       | 60            |  8.925        | 0.0           |  9.23         |  88.400       | 6.20          | 0.0           |\n",
       "| MMRF1021      | Non-sensitive |  531          | Bor-Len-Dex   | 1             | 2.10          | 8.928         | 9.86864       | 54            |  8.925        | 0.0           | 70.50         |  88.400       | 5.20          | 0.0           |\n",
       "\n"
      ],
      "text/plain": [
       "  ID       response_best_response_first_line days_to_disease_progression\n",
       "1 MMRF1011 Non-sensitive                     1612                       \n",
       "2 MMRF1013 Sensitive                         1332                       \n",
       "3 MMRF1016 Non-sensitive                      691                       \n",
       "4 MMRF1017 Non-sensitive                      273                       \n",
       "5 MMRF1020 Sensitive                          505                       \n",
       "6 MMRF1021 Non-sensitive                      531                       \n",
       "  treatment   transplant beta_2 hemoglobin ldh     age bun    aneuploid lgg  \n",
       "1 Bor-Dex     1          7.84   6.014           NA 50   7.854 0.0          NA\n",
       "2 Bor-Len-Dex 1            NA   7.006      2.15043 66  11.424 0.0        5.27\n",
       "3 Bor-Cyc-Dex 0          2.92   8.184      3.81743 56   7.854 0.0       29.53\n",
       "4 Len-Dex     0          3.15   8.618           NA 75   6.069 6.9          NA\n",
       "5 Bor-Len-Dex 1          2.10   8.742      3.21731 60   8.925 0.0        9.23\n",
       "6 Bor-Len-Dex 1          2.10   8.928      9.86864 54   8.925 0.0       70.50\n",
       "  creatinine wbc_x10_10_9_l peripherical_blood\n",
       "1 123.760    8.90           0.0               \n",
       "2 186.524    7.10           0.2               \n",
       "3  86.632    8.40           0.0               \n",
       "4  79.560    5.59           0.0               \n",
       "5  88.400    6.20           0.0               \n",
       "6  88.400    5.20           0.0               "
      ]
     },
     "metadata": {},
     "output_type": "display_data"
    }
   ],
   "source": [
    "clinical <- read.table('../../data/MMRF/clinical.tsv', sep='\\t', header=T, stringsAsFactors=F)\n",
    "\n",
    "days.to.disease.progression <- read.table(\n",
    "    '../../data/MMRF/rawdata/clinical_outcome/time_to_endpoint/days_to_disease_progression.tsv', sep='\\t', header=T)\n",
    "\n",
    "treatment <- read.table('../../data/MMRF/rawdata/therapy/therapy_first_line.tsv', sep='\\t', header=T)\n",
    "treatment$treatment <- treatment$therapy_first_line\n",
    "treatment$therapy_first_line <- NULL\n",
    "\n",
    "treatment <- treatment[treatment$treatment %in% c('Bor-Cyc-Dex', 'Bor-Dex', 'Bor-Len-Dex', 'Len-Dex'),]\n",
    "\n",
    "clinical <- merge(clinical, days.to.disease.progression, by='ID')\n",
    "clinical <- merge(clinical, treatment, by='ID')\n",
    "\n",
    "clinical$transplant <- clinical$first_line_transplant\n",
    "clinical$first_line_transplant <- NULL\n",
    "\n",
    "clinical$beta_2 <- clinical$beta_2_microglobulin\n",
    "clinical$beta_2_microglobulin <- NULL\n",
    "\n",
    "clinical$aneuploid <- clinical$percent_aneuploid\n",
    "clinical$percent_aneuploid <- NULL\n",
    "\n",
    "clinical$peripherical_blood <- clinical$percent_plama_cells_peripherical_blood\n",
    "clinical$percent_plama_cells_peripherical_blood <- NULL\n",
    "\n",
    "outcome_columns <- c('ID', 'response_best_response_first_line', 'days_to_disease_progression', 'treatment')\n",
    "outcomes_and_treatment <- clinical[, outcome_columns]\n",
    "outcomes_and_treatment <- outcomes_and_treatment[!is.na(outcomes_and_treatment$response_best_response_first_line),]\n",
    "\n",
    "clinical <- clinical[,as.character(c(outcome_columns, as.character(df.clin$node)))]\n",
    "\n",
    "clinical[clinical == 'Yes'] = 1\n",
    "clinical[clinical == 'No'] = 0\n",
    "\n",
    "clinical <- clinical[!is.na(clinical$response_best_response_first_line),]\n",
    "clinical$response_best_response_first_line[clinical$response_best_response_first_line == 1] <- 'Sensitive'\n",
    "clinical$response_best_response_first_line[clinical$response_best_response_first_line == 0] <- 'Non-sensitive'\n",
    "\n",
    "print(nrow(clinical))\n",
    "\n",
    "head(clinical)"
   ]
  },
  {
   "cell_type": "code",
   "execution_count": 3,
   "metadata": {},
   "outputs": [
    {
     "data": {
      "text/html": [
       "<table>\n",
       "<thead><tr><th scope=col>ID</th><th scope=col>ENSG00000248790</th><th scope=col>ENSG00000172955</th><th scope=col>ENSG00000231533</th><th scope=col>ENSG00000132965</th><th scope=col>ENSG00000255139</th><th scope=col>ENSG00000246090</th><th scope=col>ENSG00000100336</th><th scope=col>ENSG00000143515</th><th scope=col>ENSG00000123810</th><th scope=col>...</th><th scope=col>ENSG00000095587</th><th scope=col>ENSG00000155755</th><th scope=col>ENSG00000175348</th><th scope=col>ENSG00000134900</th><th scope=col>ENSG00000127824</th><th scope=col>ENSG00000189167</th><th scope=col>ENSG00000066185</th><th scope=col>response_best_response_first_line</th><th scope=col>days_to_disease_progression</th><th scope=col>treatment</th></tr></thead>\n",
       "<tbody>\n",
       "\t<tr><td>MMRF1021   </td><td>0          </td><td>22         </td><td> 6         </td><td>658        </td><td>24         </td><td> 62        </td><td> 0         </td><td>33972      </td><td>210        </td><td>...        </td><td> 36        </td><td>513        </td><td>1881       </td><td>1797       </td><td>4252       </td><td> 4         </td><td>206        </td><td>0          </td><td> 531       </td><td>Bor-Len-Dex</td></tr>\n",
       "\t<tr><td>MMRF1030   </td><td>0          </td><td> 0         </td><td> 0         </td><td>758        </td><td>36         </td><td> 31        </td><td>14         </td><td>10829      </td><td>141        </td><td>...        </td><td>403        </td><td>168        </td><td>2543       </td><td>1829       </td><td>4800       </td><td>11         </td><td> 14        </td><td>1          </td><td>1983       </td><td>Bor-Len-Dex</td></tr>\n",
       "\t<tr><td>MMRF1031   </td><td>1          </td><td> 5         </td><td> 3         </td><td>773        </td><td>13         </td><td> 18        </td><td> 1         </td><td>16396      </td><td>138        </td><td>...        </td><td> 40        </td><td>263        </td><td>1233       </td><td>2750       </td><td>3447       </td><td> 8         </td><td> 26        </td><td>0          </td><td>1328       </td><td>Bor-Len-Dex</td></tr>\n",
       "\t<tr><td>MMRF1032   </td><td>0          </td><td> 0         </td><td>12         </td><td>888        </td><td>24         </td><td> 10        </td><td>31         </td><td> 6284      </td><td>134        </td><td>...        </td><td>145        </td><td>117        </td><td>1059       </td><td>1509       </td><td>2660       </td><td> 4         </td><td> 11        </td><td>0          </td><td> 907       </td><td>Bor-Cyc-Dex</td></tr>\n",
       "\t<tr><td>MMRF1033   </td><td>2          </td><td>22         </td><td> 0         </td><td> 99        </td><td>28         </td><td>119        </td><td> 0         </td><td>12738      </td><td>118        </td><td>...        </td><td> 50        </td><td>118        </td><td>1017       </td><td>2590       </td><td>4064       </td><td> 8         </td><td> 29        </td><td>0          </td><td> 217       </td><td>Len-Dex    </td></tr>\n",
       "\t<tr><td>MMRF1038   </td><td>1          </td><td> 3         </td><td> 1         </td><td> 67        </td><td>14         </td><td>  8        </td><td> 6         </td><td>12124      </td><td> 85        </td><td>...        </td><td> 75        </td><td>172        </td><td> 987       </td><td>2612       </td><td>4850       </td><td> 2         </td><td> 17        </td><td>0          </td><td>1752       </td><td>Len-Dex    </td></tr>\n",
       "</tbody>\n",
       "</table>\n"
      ],
      "text/latex": [
       "\\begin{tabular}{r|llllllllllllllllllllllllllllllllllllllllllllllllllllllllllllllllllllllllll}\n",
       " ID & ENSG00000248790 & ENSG00000172955 & ENSG00000231533 & ENSG00000132965 & ENSG00000255139 & ENSG00000246090 & ENSG00000100336 & ENSG00000143515 & ENSG00000123810 & ... & ENSG00000095587 & ENSG00000155755 & ENSG00000175348 & ENSG00000134900 & ENSG00000127824 & ENSG00000189167 & ENSG00000066185 & response\\_best\\_response\\_first\\_line & days\\_to\\_disease\\_progression & treatment\\\\\n",
       "\\hline\n",
       "\t MMRF1021    & 0           & 22          &  6          & 658         & 24          &  62         &  0          & 33972       & 210         & ...         &  36         & 513         & 1881        & 1797        & 4252        &  4          & 206         & 0           &  531        & Bor-Len-Dex\\\\\n",
       "\t MMRF1030    & 0           &  0          &  0          & 758         & 36          &  31         & 14          & 10829       & 141         & ...         & 403         & 168         & 2543        & 1829        & 4800        & 11          &  14         & 1           & 1983        & Bor-Len-Dex\\\\\n",
       "\t MMRF1031    & 1           &  5          &  3          & 773         & 13          &  18         &  1          & 16396       & 138         & ...         &  40         & 263         & 1233        & 2750        & 3447        &  8          &  26         & 0           & 1328        & Bor-Len-Dex\\\\\n",
       "\t MMRF1032    & 0           &  0          & 12          & 888         & 24          &  10         & 31          &  6284       & 134         & ...         & 145         & 117         & 1059        & 1509        & 2660        &  4          &  11         & 0           &  907        & Bor-Cyc-Dex\\\\\n",
       "\t MMRF1033    & 2           & 22          &  0          &  99         & 28          & 119         &  0          & 12738       & 118         & ...         &  50         & 118         & 1017        & 2590        & 4064        &  8          &  29         & 0           &  217        & Len-Dex    \\\\\n",
       "\t MMRF1038    & 1           &  3          &  1          &  67         & 14          &   8         &  6          & 12124       &  85         & ...         &  75         & 172         &  987        & 2612        & 4850        &  2          &  17         & 0           & 1752        & Len-Dex    \\\\\n",
       "\\end{tabular}\n"
      ],
      "text/markdown": [
       "\n",
       "| ID | ENSG00000248790 | ENSG00000172955 | ENSG00000231533 | ENSG00000132965 | ENSG00000255139 | ENSG00000246090 | ENSG00000100336 | ENSG00000143515 | ENSG00000123810 | ... | ENSG00000095587 | ENSG00000155755 | ENSG00000175348 | ENSG00000134900 | ENSG00000127824 | ENSG00000189167 | ENSG00000066185 | response_best_response_first_line | days_to_disease_progression | treatment |\n",
       "|---|---|---|---|---|---|---|---|---|---|---|---|---|---|---|---|---|---|---|---|---|\n",
       "| MMRF1021    | 0           | 22          |  6          | 658         | 24          |  62         |  0          | 33972       | 210         | ...         |  36         | 513         | 1881        | 1797        | 4252        |  4          | 206         | 0           |  531        | Bor-Len-Dex |\n",
       "| MMRF1030    | 0           |  0          |  0          | 758         | 36          |  31         | 14          | 10829       | 141         | ...         | 403         | 168         | 2543        | 1829        | 4800        | 11          |  14         | 1           | 1983        | Bor-Len-Dex |\n",
       "| MMRF1031    | 1           |  5          |  3          | 773         | 13          |  18         |  1          | 16396       | 138         | ...         |  40         | 263         | 1233        | 2750        | 3447        |  8          |  26         | 0           | 1328        | Bor-Len-Dex |\n",
       "| MMRF1032    | 0           |  0          | 12          | 888         | 24          |  10         | 31          |  6284       | 134         | ...         | 145         | 117         | 1059        | 1509        | 2660        |  4          |  11         | 0           |  907        | Bor-Cyc-Dex |\n",
       "| MMRF1033    | 2           | 22          |  0          |  99         | 28          | 119         |  0          | 12738       | 118         | ...         |  50         | 118         | 1017        | 2590        | 4064        |  8          |  29         | 0           |  217        | Len-Dex     |\n",
       "| MMRF1038    | 1           |  3          |  1          |  67         | 14          |   8         |  6          | 12124       |  85         | ...         |  75         | 172         |  987        | 2612        | 4850        |  2          |  17         | 0           | 1752        | Len-Dex     |\n",
       "\n"
      ],
      "text/plain": [
       "  ID       ENSG00000248790 ENSG00000172955 ENSG00000231533 ENSG00000132965\n",
       "1 MMRF1021 0               22               6              658            \n",
       "2 MMRF1030 0                0               0              758            \n",
       "3 MMRF1031 1                5               3              773            \n",
       "4 MMRF1032 0                0              12              888            \n",
       "5 MMRF1033 2               22               0               99            \n",
       "6 MMRF1038 1                3               1               67            \n",
       "  ENSG00000255139 ENSG00000246090 ENSG00000100336 ENSG00000143515\n",
       "1 24               62              0              33972          \n",
       "2 36               31             14              10829          \n",
       "3 13               18              1              16396          \n",
       "4 24               10             31               6284          \n",
       "5 28              119              0              12738          \n",
       "6 14                8              6              12124          \n",
       "  ENSG00000123810 ... ENSG00000095587 ENSG00000155755 ENSG00000175348\n",
       "1 210             ...  36             513             1881           \n",
       "2 141             ... 403             168             2543           \n",
       "3 138             ...  40             263             1233           \n",
       "4 134             ... 145             117             1059           \n",
       "5 118             ...  50             118             1017           \n",
       "6  85             ...  75             172              987           \n",
       "  ENSG00000134900 ENSG00000127824 ENSG00000189167 ENSG00000066185\n",
       "1 1797            4252             4              206            \n",
       "2 1829            4800            11               14            \n",
       "3 2750            3447             8               26            \n",
       "4 1509            2660             4               11            \n",
       "5 2590            4064             8               29            \n",
       "6 2612            4850             2               17            \n",
       "  response_best_response_first_line days_to_disease_progression treatment  \n",
       "1 0                                  531                        Bor-Len-Dex\n",
       "2 1                                 1983                        Bor-Len-Dex\n",
       "3 0                                 1328                        Bor-Len-Dex\n",
       "4 0                                  907                        Bor-Cyc-Dex\n",
       "5 0                                  217                        Len-Dex    \n",
       "6 0                                 1752                        Len-Dex    "
      ]
     },
     "metadata": {},
     "output_type": "display_data"
    }
   ],
   "source": [
    "genes <- read.table('../../data/MMRF/gene_count.tsv', sep='\\t', header=T)\n",
    "genes <- genes[,c('ID', as.character(df.gene$marker))]\n",
    "genes <- merge(genes, outcomes_and_treatment, by='ID')\n",
    "head(genes)"
   ]
  },
  {
   "cell_type": "code",
   "execution_count": 4,
   "metadata": {},
   "outputs": [
    {
     "name": "stderr",
     "output_type": "stream",
     "text": [
      "Warning message:\n",
      "\"Removed 82 rows containing non-finite values (stat_boxplot).\"Warning message:\n",
      "\"Removed 82 rows containing non-finite values (stat_compare_means).\"Warning message:\n",
      "\"Removed 98 rows containing non-finite values (stat_boxplot).\"Warning message:\n",
      "\"Removed 98 rows containing non-finite values (stat_compare_means).\"Warning message:\n",
      "\"Removed 26 rows containing non-finite values (stat_boxplot).\"Warning message:\n",
      "\"Removed 26 rows containing non-finite values (stat_compare_means).\"Warning message:\n",
      "\"Removed 24 rows containing non-finite values (stat_boxplot).\"Warning message:\n",
      "\"Removed 24 rows containing non-finite values (stat_compare_means).\"Warning message:\n",
      "\"Removed 30 rows containing non-finite values (stat_boxplot).\"Warning message:\n",
      "\"Removed 30 rows containing non-finite values (stat_compare_means).\"Warning message:\n",
      "\"Removed 7 rows containing non-finite values (stat_boxplot).\"Warning message:\n",
      "\"Removed 7 rows containing non-finite values (stat_compare_means).\"Warning message:\n",
      "\"Removed 1 rows containing non-finite values (stat_boxplot).\"Warning message:\n",
      "\"Removed 1 rows containing non-finite values (stat_compare_means).\"Warning message:\n",
      "\"Removed 5 rows containing non-finite values (stat_boxplot).\"Warning message:\n",
      "\"Removed 5 rows containing non-finite values (stat_compare_means).\"Warning message:\n",
      "\"Removed 5 rows containing non-finite values (stat_boxplot).\"Warning message:\n",
      "\"Removed 5 rows containing non-finite values (stat_compare_means).\""
     ]
    },
    {
     "data": {
      "image/png": "[encoded data removed]",
      "text/plain": [
       "plot without title"
      ]
     },
     "metadata": {},
     "output_type": "display_data"
    }
   ],
   "source": [
    "library(scales)\n",
    "\n",
    "clinical$response_best_response_first_line <- as.factor(clinical$response_best_response_first_line)\n",
    "\n",
    "options(repr.plot.width=4, repr.plot.height=2)\n",
    "\n",
    "for (var in names(clinical)[6:15]) {\n",
    "    \n",
    "    if (var == 'beta_2')\n",
    "        var.label <- 'beta 2 microglobulin'\n",
    "    else\n",
    "        var.label <- var\n",
    "\n",
    "    p <- ggplot(clinical) + \n",
    "         geom_boxplot(aes_string('response_best_response_first_line', var, \n",
    "                      fill='response_best_response_first_line'), coef = 5000) +\n",
    "         theme_bw() +\n",
    "         scale_fill_hue(name='Treatment Sensitivity') +\n",
    "         stat_compare_means(aes_string('response_best_response_first_line', var, \n",
    "                      group='response_best_response_first_line')) +\n",
    "         theme(axis.text.x = element_blank(), \n",
    "               axis.ticks.x = element_blank(), \n",
    "               panel.grid.major = element_blank(), \n",
    "               panel.grid.minor = element_blank(),\n",
    "               panel.border = element_blank(), \n",
    "               axis.line = element_line(colour = \"black\"),\n",
    "               text = element_text(size=10)\n",
    "              ) +\n",
    "         xlab(NULL) +\n",
    "         ylab(var.label)\n",
    "\n",
    "    ggsave(filename=paste('images/feature_analysis/clinical_all/', var, '.pdf', sep=''), plot=p, units='cm', width=10, height=6)\n",
    "}\n",
    "\n",
    "p"
   ]
  },
  {
   "cell_type": "code",
   "execution_count": 5,
   "metadata": {},
   "outputs": [
    {
     "data": {
      "image/png": "[encoded data removed]",
      "text/plain": [
       "plot without title"
      ]
     },
     "metadata": {},
     "output_type": "display_data"
    }
   ],
   "source": [
    "clinical$response_best_response_first_line[clinical$response_best_response_first_line == 1] = 'Sensitive'\n",
    "clinical$response_best_response_first_line[clinical$response_best_response_first_line == 0] = 'Non-sensitive'\n",
    "\n",
    "clinical$response_best_response_first_line <- as.factor(clinical$response_best_response_first_line)\n",
    "\n",
    "options(repr.plot.width=8, repr.plot.height=2)\n",
    "\n",
    "for (var in names(clinical)[6:15]) {\n",
    "\n",
    "    if (var == 'beta_2')\n",
    "        var.label <- 'beta 2 microglobulin'\n",
    "    else\n",
    "        var.label <- var\n",
    "    \n",
    "    c <- clinical[!is.na(clinical[var]),]\n",
    "    \n",
    "    p <- ggplot(c) + \n",
    "         geom_boxplot(aes_string('response_best_response_first_line', var, \n",
    "                      fill='response_best_response_first_line'), coef = 5000) +\n",
    "         theme_bw() +\n",
    "         scale_y_continuous() + \n",
    "         scale_fill_hue(name='Treatment Sensitivity') +\n",
    "         theme(axis.text.x = element_blank(), \n",
    "               axis.ticks.x = element_blank(), \n",
    "               panel.grid.major = element_blank(), \n",
    "               panel.grid.minor = element_blank(),\n",
    "               text = element_text(size=10)\n",
    "              ) +\n",
    "         stat_compare_means(aes_string('response_best_response_first_line', var, \n",
    "                      group='response_best_response_first_line')) +\n",
    "         xlab(NULL) + \n",
    "         ylab(var.label) +\n",
    "         facet_grid(. ~ treatment, scale='free_y')\n",
    "\n",
    "    ggsave(filename=paste('images/feature_analysis/clinical/', var, '.pdf', sep=''), \n",
    "           plot=p, units='cm', width=20, height=6)\n",
    "}\n",
    "\n",
    "p"
   ]
  },
  {
   "cell_type": "code",
   "execution_count": 6,
   "metadata": {},
   "outputs": [
    {
     "data": {
      "image/png": "[encoded data removed]",
      "text/plain": [
       "plot without title"
      ]
     },
     "metadata": {},
     "output_type": "display_data"
    }
   ],
   "source": [
    "genes$response_best_response_first_line[genes$response_best_response_first_line == 1] = 'Sensitive'\n",
    "genes$response_best_response_first_line[genes$response_best_response_first_line == 0] = 'Non-sensitive'\n",
    "\n",
    "genes$response_best_response_first_line <- as.factor(genes$response_best_response_first_line)\n",
    "\n",
    "options(repr.plot.width=4, repr.plot.height=2)\n",
    "\n",
    "for (var in names(genes)[2:71]) {\n",
    "\n",
    "    g <- genes[!is.na(genes[var]),]\n",
    "    \n",
    "    gene.name <- df.gene[df.gene$marker == var,]$node\n",
    "    \n",
    "    p <- ggplot(g) + \n",
    "         geom_boxplot(aes_string('response_best_response_first_line', var, \n",
    "                      fill='response_best_response_first_line'), coef = 5000) +\n",
    "         theme_bw() +\n",
    "         scale_y_continuous() + \n",
    "         scale_fill_hue(name='Treatment Sensitivity') +\n",
    "         theme(axis.text.x = element_blank(), \n",
    "               axis.ticks.x = element_blank(), \n",
    "               panel.grid.major = element_blank(), \n",
    "               panel.grid.minor = element_blank(),\n",
    "               panel.border = element_blank(), \n",
    "               axis.line = element_line(colour = \"black\"),\n",
    "               text = element_text(size=10)\n",
    "              ) +\n",
    "         stat_compare_means(aes_string('response_best_response_first_line', var, \n",
    "                      group='response_best_response_first_line')) +\n",
    "         xlab(NULL) + ylab(gene.name)\n",
    "\n",
    "    ggsave(filename=paste('images/feature_analysis/genes_all/', gene.name, '_', var, '.pdf', sep=''), \n",
    "           plot=p, units='cm', width=10, height=6)\n",
    "}\n",
    "\n",
    "p"
   ]
  },
  {
   "cell_type": "code",
   "execution_count": 7,
   "metadata": {},
   "outputs": [
    {
     "data": {
      "image/png": "[encoded data removed]",
      "text/plain": [
       "plot without title"
      ]
     },
     "metadata": {},
     "output_type": "display_data"
    }
   ],
   "source": [
    "genes$response_best_response_first_line[genes$response_best_response_first_line == 1] = 'Sensitive'\n",
    "genes$response_best_response_first_line[genes$response_best_response_first_line == 0] = 'Non-sensitive'\n",
    "\n",
    "genes$response_best_response_first_line <- as.factor(genes$response_best_response_first_line)\n",
    "\n",
    "options(repr.plot.width=8, repr.plot.height=2)\n",
    "\n",
    "for (var in names(genes)[2:71]) {\n",
    "\n",
    "    g <- genes[!is.na(genes[var]),]\n",
    "    \n",
    "    gene.name <- df.gene[df.gene$marker == var,]$node\n",
    "    \n",
    "    p <- ggplot(g) + \n",
    "         geom_boxplot(aes_string('response_best_response_first_line', var, \n",
    "                      fill='response_best_response_first_line'), coef = 5000) +\n",
    "         scale_y_continuous() + \n",
    "         scale_fill_hue(name='Treatment Sensitivity') +\n",
    "         theme_bw() +\n",
    "         theme(axis.text.x = element_blank(), \n",
    "               axis.ticks.x = element_blank(), \n",
    "               panel.grid.major = element_blank(), \n",
    "               panel.grid.minor = element_blank(),\n",
    "               text = element_text(size=10)\n",
    "         ) +\n",
    "         stat_compare_means(aes_string('response_best_response_first_line', var, \n",
    "                      group='response_best_response_first_line')) +\n",
    "         xlab(NULL) + ylab(gene.name) +\n",
    "         facet_grid(. ~ treatment, scale='free_y')\n",
    "\n",
    "    ggsave(filename=paste('images/feature_analysis/genes/', gene.name, '_', var, '.pdf', sep=''), \n",
    "           plot=p, units='cm', width=16, height=6)\n",
    "}\n",
    "\n",
    "p"
   ]
  },
  {
   "cell_type": "code",
   "execution_count": 15,
   "metadata": {},
   "outputs": [
    {
     "data": {
      "text/html": [
       "<table>\n",
       "<thead><tr><th scope=col>risk</th><th scope=col>overall_count</th><th scope=col>transplant</th><th scope=col>local_count</th><th scope=col>relative</th></tr></thead>\n",
       "<tbody>\n",
       "\t<tr><td>Non-sensitive</td><td>182          </td><td>0            </td><td>101          </td><td>0.5549451    </td></tr>\n",
       "\t<tr><td>Non-sensitive</td><td>182          </td><td>1            </td><td> 81          </td><td>0.4450549    </td></tr>\n",
       "\t<tr><td>Sensitive    </td><td> 35          </td><td>0            </td><td> 11          </td><td>0.3142857    </td></tr>\n",
       "\t<tr><td>Sensitive    </td><td> 35          </td><td>1            </td><td> 24          </td><td>0.6857143    </td></tr>\n",
       "</tbody>\n",
       "</table>\n"
      ],
      "text/latex": [
       "\\begin{tabular}{r|lllll}\n",
       " risk & overall\\_count & transplant & local\\_count & relative\\\\\n",
       "\\hline\n",
       "\t Non-sensitive & 182           & 0             & 101           & 0.5549451    \\\\\n",
       "\t Non-sensitive & 182           & 1             &  81           & 0.4450549    \\\\\n",
       "\t Sensitive     &  35           & 0             &  11           & 0.3142857    \\\\\n",
       "\t Sensitive     &  35           & 1             &  24           & 0.6857143    \\\\\n",
       "\\end{tabular}\n"
      ],
      "text/markdown": [
       "\n",
       "| risk | overall_count | transplant | local_count | relative |\n",
       "|---|---|---|---|---|\n",
       "| Non-sensitive | 182           | 0             | 101           | 0.5549451     |\n",
       "| Non-sensitive | 182           | 1             |  81           | 0.4450549     |\n",
       "| Sensitive     |  35           | 0             |  11           | 0.3142857     |\n",
       "| Sensitive     |  35           | 1             |  24           | 0.6857143     |\n",
       "\n"
      ],
      "text/plain": [
       "  risk          overall_count transplant local_count relative \n",
       "1 Non-sensitive 182           0          101         0.5549451\n",
       "2 Non-sensitive 182           1           81         0.4450549\n",
       "3 Sensitive      35           0           11         0.3142857\n",
       "4 Sensitive      35           1           24         0.6857143"
      ]
     },
     "metadata": {},
     "output_type": "display_data"
    }
   ],
   "source": [
    "agg1 <- aggregate(. ~ response_best_response_first_line, data=clinical, FUN=length)\n",
    "agg2 <- aggregate(. ~ response_best_response_first_line + transplant, data=clinical, FUN=length)\n",
    "\n",
    "agg1 <- agg1[c('response_best_response_first_line', 'ID')]\n",
    "colnames(agg1) <- c('risk', 'overall_count')\n",
    "\n",
    "agg2 <- agg2[,c('transplant', 'response_best_response_first_line', 'ID')]\n",
    "colnames(agg2) <- c('transplant', 'risk', 'local_count')\n",
    "\n",
    "agg <- merge(agg1, agg2, by='risk')\n",
    "\n",
    "agg$relative <- agg$local_count / agg$overall_count\n",
    "\n",
    "agg"
   ]
  },
  {
   "cell_type": "code",
   "execution_count": 16,
   "metadata": {},
   "outputs": [
    {
     "data": {
      "image/png": "[encoded data removed]",
      "text/plain": [
       "plot without title"
      ]
     },
     "metadata": {},
     "output_type": "display_data"
    }
   ],
   "source": [
    "library(ggplot2)\n",
    "\n",
    "ticks.line.color <- 'grey30'\n",
    "\n",
    "labels <- data.frame(x=c('Len-Dex', 'Bor-Len-Dex', 'Bor-Dex', 'Bor-Cyc-Dex'), \n",
    "                     y=c(1.01, 1.01, 1.01, 1.01), \n",
    "                     lab=c('n=50', 'n=236', 'n=64', 'n=133')) \n",
    "\n",
    "agg$transplant[agg$transplant == 0] = 'No'\n",
    "agg$transplant[agg$transplant == 1] = 'Yes'\n",
    "\n",
    "p <- ggplot() +\n",
    "     geom_bar(data=agg, alpha=.75, aes(x=risk, y=relative, fill=transplant), stat=\"identity\") +\n",
    "     xlab('Treatment Sensitivity') + \n",
    "     ylab('Relative Frequence') +\n",
    "     scale_fill_hue(name='Transplant') +\n",
    "     scale_y_continuous(labels = scales::percent) +\n",
    "     theme_bw() +\n",
    "     theme(panel.grid.major = element_blank(), \n",
    "           panel.grid.minor = element_blank(),\n",
    "           panel.border = element_blank(), \n",
    "           axis.line = element_line(colour = \"black\"),\n",
    "           text = element_text(size=10))\n",
    "\n",
    "options(repr.plot.width=3.5, repr.plot.height=2)\n",
    "\n",
    "ggsave(filename='images/feature_analysis/clinical_all/transplant_relative.pdf', plot=p, units='cm', width=8, height=4)\n",
    "\n",
    "p"
   ]
  },
  {
   "cell_type": "code",
   "execution_count": 10,
   "metadata": {},
   "outputs": [
    {
     "data": {
      "text/html": [
       "<table>\n",
       "<thead><tr><th scope=col>risk</th><th scope=col>treatment</th><th scope=col>overall_count</th><th scope=col>transplant</th><th scope=col>local_count</th><th scope=col>relative</th></tr></thead>\n",
       "<tbody>\n",
       "\t<tr><td>Non-sensitive</td><td>Bor-Cyc-Dex  </td><td>41           </td><td>0            </td><td>24           </td><td>0.5853659    </td></tr>\n",
       "\t<tr><td>Non-sensitive</td><td>Bor-Cyc-Dex  </td><td>41           </td><td>1            </td><td>17           </td><td>0.4146341    </td></tr>\n",
       "\t<tr><td>Non-sensitive</td><td>Bor-Dex      </td><td>28           </td><td>0            </td><td>24           </td><td>0.8571429    </td></tr>\n",
       "\t<tr><td>Non-sensitive</td><td>Bor-Dex      </td><td>28           </td><td>1            </td><td> 4           </td><td>0.1428571    </td></tr>\n",
       "\t<tr><td>Non-sensitive</td><td>Bor-Len-Dex  </td><td>85           </td><td>0            </td><td>32           </td><td>0.3764706    </td></tr>\n",
       "\t<tr><td>Non-sensitive</td><td>Bor-Len-Dex  </td><td>85           </td><td>1            </td><td>53           </td><td>0.6235294    </td></tr>\n",
       "\t<tr><td>Non-sensitive</td><td>Len-Dex      </td><td>28           </td><td>0            </td><td>21           </td><td>0.7500000    </td></tr>\n",
       "\t<tr><td>Non-sensitive</td><td>Len-Dex      </td><td>28           </td><td>1            </td><td> 7           </td><td>0.2500000    </td></tr>\n",
       "\t<tr><td>Sensitive    </td><td>Bor-Cyc-Dex  </td><td> 6           </td><td>0            </td><td> 3           </td><td>0.5000000    </td></tr>\n",
       "\t<tr><td>Sensitive    </td><td>Bor-Cyc-Dex  </td><td> 6           </td><td>1            </td><td> 3           </td><td>0.5000000    </td></tr>\n",
       "\t<tr><td>Sensitive    </td><td>Bor-Dex      </td><td> 3           </td><td>0            </td><td> 1           </td><td>0.3333333    </td></tr>\n",
       "\t<tr><td>Sensitive    </td><td>Bor-Dex      </td><td> 3           </td><td>1            </td><td> 2           </td><td>0.6666667    </td></tr>\n",
       "\t<tr><td>Sensitive    </td><td>Bor-Len-Dex  </td><td>25           </td><td>0            </td><td> 7           </td><td>0.2800000    </td></tr>\n",
       "\t<tr><td>Sensitive    </td><td>Bor-Len-Dex  </td><td>25           </td><td>1            </td><td>18           </td><td>0.7200000    </td></tr>\n",
       "\t<tr><td>Sensitive    </td><td>Len-Dex      </td><td> 1           </td><td>1            </td><td> 1           </td><td>1.0000000    </td></tr>\n",
       "</tbody>\n",
       "</table>\n"
      ],
      "text/latex": [
       "\\begin{tabular}{r|llllll}\n",
       " risk & treatment & overall\\_count & transplant & local\\_count & relative\\\\\n",
       "\\hline\n",
       "\t Non-sensitive & Bor-Cyc-Dex   & 41            & 0             & 24            & 0.5853659    \\\\\n",
       "\t Non-sensitive & Bor-Cyc-Dex   & 41            & 1             & 17            & 0.4146341    \\\\\n",
       "\t Non-sensitive & Bor-Dex       & 28            & 0             & 24            & 0.8571429    \\\\\n",
       "\t Non-sensitive & Bor-Dex       & 28            & 1             &  4            & 0.1428571    \\\\\n",
       "\t Non-sensitive & Bor-Len-Dex   & 85            & 0             & 32            & 0.3764706    \\\\\n",
       "\t Non-sensitive & Bor-Len-Dex   & 85            & 1             & 53            & 0.6235294    \\\\\n",
       "\t Non-sensitive & Len-Dex       & 28            & 0             & 21            & 0.7500000    \\\\\n",
       "\t Non-sensitive & Len-Dex       & 28            & 1             &  7            & 0.2500000    \\\\\n",
       "\t Sensitive     & Bor-Cyc-Dex   &  6            & 0             &  3            & 0.5000000    \\\\\n",
       "\t Sensitive     & Bor-Cyc-Dex   &  6            & 1             &  3            & 0.5000000    \\\\\n",
       "\t Sensitive     & Bor-Dex       &  3            & 0             &  1            & 0.3333333    \\\\\n",
       "\t Sensitive     & Bor-Dex       &  3            & 1             &  2            & 0.6666667    \\\\\n",
       "\t Sensitive     & Bor-Len-Dex   & 25            & 0             &  7            & 0.2800000    \\\\\n",
       "\t Sensitive     & Bor-Len-Dex   & 25            & 1             & 18            & 0.7200000    \\\\\n",
       "\t Sensitive     & Len-Dex       &  1            & 1             &  1            & 1.0000000    \\\\\n",
       "\\end{tabular}\n"
      ],
      "text/markdown": [
       "\n",
       "| risk | treatment | overall_count | transplant | local_count | relative |\n",
       "|---|---|---|---|---|---|\n",
       "| Non-sensitive | Bor-Cyc-Dex   | 41            | 0             | 24            | 0.5853659     |\n",
       "| Non-sensitive | Bor-Cyc-Dex   | 41            | 1             | 17            | 0.4146341     |\n",
       "| Non-sensitive | Bor-Dex       | 28            | 0             | 24            | 0.8571429     |\n",
       "| Non-sensitive | Bor-Dex       | 28            | 1             |  4            | 0.1428571     |\n",
       "| Non-sensitive | Bor-Len-Dex   | 85            | 0             | 32            | 0.3764706     |\n",
       "| Non-sensitive | Bor-Len-Dex   | 85            | 1             | 53            | 0.6235294     |\n",
       "| Non-sensitive | Len-Dex       | 28            | 0             | 21            | 0.7500000     |\n",
       "| Non-sensitive | Len-Dex       | 28            | 1             |  7            | 0.2500000     |\n",
       "| Sensitive     | Bor-Cyc-Dex   |  6            | 0             |  3            | 0.5000000     |\n",
       "| Sensitive     | Bor-Cyc-Dex   |  6            | 1             |  3            | 0.5000000     |\n",
       "| Sensitive     | Bor-Dex       |  3            | 0             |  1            | 0.3333333     |\n",
       "| Sensitive     | Bor-Dex       |  3            | 1             |  2            | 0.6666667     |\n",
       "| Sensitive     | Bor-Len-Dex   | 25            | 0             |  7            | 0.2800000     |\n",
       "| Sensitive     | Bor-Len-Dex   | 25            | 1             | 18            | 0.7200000     |\n",
       "| Sensitive     | Len-Dex       |  1            | 1             |  1            | 1.0000000     |\n",
       "\n"
      ],
      "text/plain": [
       "   risk          treatment   overall_count transplant local_count relative \n",
       "1  Non-sensitive Bor-Cyc-Dex 41            0          24          0.5853659\n",
       "2  Non-sensitive Bor-Cyc-Dex 41            1          17          0.4146341\n",
       "3  Non-sensitive Bor-Dex     28            0          24          0.8571429\n",
       "4  Non-sensitive Bor-Dex     28            1           4          0.1428571\n",
       "5  Non-sensitive Bor-Len-Dex 85            0          32          0.3764706\n",
       "6  Non-sensitive Bor-Len-Dex 85            1          53          0.6235294\n",
       "7  Non-sensitive Len-Dex     28            0          21          0.7500000\n",
       "8  Non-sensitive Len-Dex     28            1           7          0.2500000\n",
       "9  Sensitive     Bor-Cyc-Dex  6            0           3          0.5000000\n",
       "10 Sensitive     Bor-Cyc-Dex  6            1           3          0.5000000\n",
       "11 Sensitive     Bor-Dex      3            0           1          0.3333333\n",
       "12 Sensitive     Bor-Dex      3            1           2          0.6666667\n",
       "13 Sensitive     Bor-Len-Dex 25            0           7          0.2800000\n",
       "14 Sensitive     Bor-Len-Dex 25            1          18          0.7200000\n",
       "15 Sensitive     Len-Dex      1            1           1          1.0000000"
      ]
     },
     "metadata": {},
     "output_type": "display_data"
    }
   ],
   "source": [
    "agg1 <- aggregate(. ~ response_best_response_first_line + treatment, data=clinical, FUN=length)\n",
    "agg2 <- aggregate(. ~ response_best_response_first_line + transplant + treatment, data=clinical, FUN=length)\n",
    "\n",
    "agg1 <- agg1[c('response_best_response_first_line', 'treatment', 'ID')]\n",
    "colnames(agg1) <- c('risk', 'treatment', 'overall_count')\n",
    "\n",
    "agg2 <- agg2[,c('transplant', 'response_best_response_first_line','treatment', 'ID')]\n",
    "colnames(agg2) <- c('transplant', 'risk', 'treatment', 'local_count')\n",
    "\n",
    "agg <- merge(agg1, agg2, by=c('risk', 'treatment'))\n",
    "\n",
    "agg$relative <- agg$local_count / agg$overall_count\n",
    "\n",
    "agg"
   ]
  },
  {
   "cell_type": "code",
   "execution_count": 11,
   "metadata": {},
   "outputs": [
    {
     "data": {
      "image/png": "[encoded data removed]",
      "text/plain": [
       "plot without title"
      ]
     },
     "metadata": {},
     "output_type": "display_data"
    }
   ],
   "source": [
    "ticks.line.color <- 'grey30'\n",
    "\n",
    "agg$transplant[agg$transplant == 0] = 'No'\n",
    "agg$transplant[agg$transplant == 1] = 'Yes'\n",
    "\n",
    "p <- ggplot() +\n",
    "     geom_bar(data=agg, alpha=.75, aes(x=risk, y=relative, fill=transplant), stat=\"identity\") +\n",
    "     xlab('Treatment Sensitivity') + \n",
    "     ylab('Relative') +\n",
    "     scale_fill_hue(name='Transplant') +\n",
    "     facet_grid(. ~ treatment) +\n",
    "     theme_bw() +\n",
    "     scale_y_continuous(labels = scales::percent) +\n",
    "     theme(panel.grid.major = element_blank(), \n",
    "           panel.grid.minor = element_blank(),\n",
    "           text = element_text(size=10))\n",
    "\n",
    "options(repr.plot.width=8, repr.plot.height=2)\n",
    "\n",
    "ggsave(filename='images/feature_analysis/clinical/transplant_relative.pdf', plot=p, units='cm', width=16, height=4)\n",
    "\n",
    "p"
   ]
  },
  {
   "cell_type": "code",
   "execution_count": 12,
   "metadata": {},
   "outputs": [
    {
     "data": {
      "text/html": [
       "<table>\n",
       "<thead><tr><th scope=col>ID</th><th scope=col>response_best_response_first_line</th><th scope=col>days_to_disease_progression</th><th scope=col>treatment</th><th scope=col>transplant</th><th scope=col>beta_2</th><th scope=col>hemoglobin</th><th scope=col>ldh</th><th scope=col>age</th><th scope=col>bun</th><th scope=col>...</th><th scope=col>ENSG00000167074</th><th scope=col>ENSG00000215102</th><th scope=col>ENSG00000112561</th><th scope=col>ENSG00000095587</th><th scope=col>ENSG00000155755</th><th scope=col>ENSG00000175348</th><th scope=col>ENSG00000134900</th><th scope=col>ENSG00000127824</th><th scope=col>ENSG00000189167</th><th scope=col>ENSG00000066185</th></tr></thead>\n",
       "<tbody>\n",
       "\t<tr><td>MMRF1021     </td><td>Non-sensitive</td><td> 531         </td><td>Bor-Len-Dex  </td><td>1            </td><td>2.10         </td><td>8.928        </td><td>9.86864      </td><td>54           </td><td>8.925        </td><td>...          </td><td>525          </td><td>0            </td><td> 287         </td><td> 36          </td><td>513          </td><td>1881         </td><td>1797         </td><td>4252         </td><td> 4           </td><td>206          </td></tr>\n",
       "\t<tr><td>MMRF1030     </td><td>Sensitive    </td><td>1983         </td><td>Bor-Len-Dex  </td><td>1            </td><td>1.98         </td><td>7.874        </td><td>1.65033      </td><td>65           </td><td>   NA        </td><td>...          </td><td>666          </td><td>0            </td><td> 671         </td><td>403          </td><td>168          </td><td>2543         </td><td>1829         </td><td>4800         </td><td>11           </td><td> 14          </td></tr>\n",
       "\t<tr><td>MMRF1031     </td><td>Non-sensitive</td><td>1328         </td><td>Bor-Len-Dex  </td><td>0            </td><td>2.04         </td><td>6.324        </td><td>2.80056      </td><td>62           </td><td>4.284        </td><td>...          </td><td>286          </td><td>1            </td><td> 223         </td><td> 40          </td><td>263          </td><td>1233         </td><td>2750         </td><td>3447         </td><td> 8           </td><td> 26          </td></tr>\n",
       "\t<tr><td>MMRF1032     </td><td>Non-sensitive</td><td> 907         </td><td>Bor-Cyc-Dex  </td><td>0            </td><td>3.00         </td><td>5.704        </td><td>2.38381      </td><td>76           </td><td>5.355        </td><td>...          </td><td>722          </td><td>7            </td><td> 480         </td><td>145          </td><td>117          </td><td>1059         </td><td>1509         </td><td>2660         </td><td> 4           </td><td> 11          </td></tr>\n",
       "\t<tr><td>MMRF1033     </td><td>Non-sensitive</td><td> 217         </td><td>Len-Dex      </td><td>0            </td><td>1.51         </td><td>8.804        </td><td>     NA      </td><td>64           </td><td>4.998        </td><td>...          </td><td>549          </td><td>0            </td><td> 165         </td><td> 50          </td><td>118          </td><td>1017         </td><td>2590         </td><td>4064         </td><td> 8           </td><td> 29          </td></tr>\n",
       "\t<tr><td>MMRF1038     </td><td>Non-sensitive</td><td>1752         </td><td>Len-Dex      </td><td>0            </td><td>6.71         </td><td>7.502        </td><td>2.10042      </td><td>69           </td><td>7.854        </td><td>...          </td><td>785          </td><td>1            </td><td>1038         </td><td> 75          </td><td>172          </td><td> 987         </td><td>2612         </td><td>4850         </td><td> 2           </td><td> 17          </td></tr>\n",
       "</tbody>\n",
       "</table>\n"
      ],
      "text/latex": [
       "\\begin{tabular}{r|lllllllllllllllllllllllllllllllllllllllllllllllllllllllllllllllllllllllllllllllllllll}\n",
       " ID & response\\_best\\_response\\_first\\_line & days\\_to\\_disease\\_progression & treatment & transplant & beta\\_2 & hemoglobin & ldh & age & bun & ... & ENSG00000167074 & ENSG00000215102 & ENSG00000112561 & ENSG00000095587 & ENSG00000155755 & ENSG00000175348 & ENSG00000134900 & ENSG00000127824 & ENSG00000189167 & ENSG00000066185\\\\\n",
       "\\hline\n",
       "\t MMRF1021      & Non-sensitive &  531          & Bor-Len-Dex   & 1             & 2.10          & 8.928         & 9.86864       & 54            & 8.925         & ...           & 525           & 0             &  287          &  36           & 513           & 1881          & 1797          & 4252          &  4            & 206          \\\\\n",
       "\t MMRF1030      & Sensitive     & 1983          & Bor-Len-Dex   & 1             & 1.98          & 7.874         & 1.65033       & 65            &    NA         & ...           & 666           & 0             &  671          & 403           & 168           & 2543          & 1829          & 4800          & 11            &  14          \\\\\n",
       "\t MMRF1031      & Non-sensitive & 1328          & Bor-Len-Dex   & 0             & 2.04          & 6.324         & 2.80056       & 62            & 4.284         & ...           & 286           & 1             &  223          &  40           & 263           & 1233          & 2750          & 3447          &  8            &  26          \\\\\n",
       "\t MMRF1032      & Non-sensitive &  907          & Bor-Cyc-Dex   & 0             & 3.00          & 5.704         & 2.38381       & 76            & 5.355         & ...           & 722           & 7             &  480          & 145           & 117           & 1059          & 1509          & 2660          &  4            &  11          \\\\\n",
       "\t MMRF1033      & Non-sensitive &  217          & Len-Dex       & 0             & 1.51          & 8.804         &      NA       & 64            & 4.998         & ...           & 549           & 0             &  165          &  50           & 118           & 1017          & 2590          & 4064          &  8            &  29          \\\\\n",
       "\t MMRF1038      & Non-sensitive & 1752          & Len-Dex       & 0             & 6.71          & 7.502         & 2.10042       & 69            & 7.854         & ...           & 785           & 1             & 1038          &  75           & 172           &  987          & 2612          & 4850          &  2            &  17          \\\\\n",
       "\\end{tabular}\n"
      ],
      "text/markdown": [
       "\n",
       "| ID | response_best_response_first_line | days_to_disease_progression | treatment | transplant | beta_2 | hemoglobin | ldh | age | bun | ... | ENSG00000167074 | ENSG00000215102 | ENSG00000112561 | ENSG00000095587 | ENSG00000155755 | ENSG00000175348 | ENSG00000134900 | ENSG00000127824 | ENSG00000189167 | ENSG00000066185 |\n",
       "|---|---|---|---|---|---|---|---|---|---|---|---|---|---|---|---|---|---|---|---|---|\n",
       "| MMRF1021      | Non-sensitive |  531          | Bor-Len-Dex   | 1             | 2.10          | 8.928         | 9.86864       | 54            | 8.925         | ...           | 525           | 0             |  287          |  36           | 513           | 1881          | 1797          | 4252          |  4            | 206           |\n",
       "| MMRF1030      | Sensitive     | 1983          | Bor-Len-Dex   | 1             | 1.98          | 7.874         | 1.65033       | 65            |    NA         | ...           | 666           | 0             |  671          | 403           | 168           | 2543          | 1829          | 4800          | 11            |  14           |\n",
       "| MMRF1031      | Non-sensitive | 1328          | Bor-Len-Dex   | 0             | 2.04          | 6.324         | 2.80056       | 62            | 4.284         | ...           | 286           | 1             |  223          |  40           | 263           | 1233          | 2750          | 3447          |  8            |  26           |\n",
       "| MMRF1032      | Non-sensitive |  907          | Bor-Cyc-Dex   | 0             | 3.00          | 5.704         | 2.38381       | 76            | 5.355         | ...           | 722           | 7             |  480          | 145           | 117           | 1059          | 1509          | 2660          |  4            |  11           |\n",
       "| MMRF1033      | Non-sensitive |  217          | Len-Dex       | 0             | 1.51          | 8.804         |      NA       | 64            | 4.998         | ...           | 549           | 0             |  165          |  50           | 118           | 1017          | 2590          | 4064          |  8            |  29           |\n",
       "| MMRF1038      | Non-sensitive | 1752          | Len-Dex       | 0             | 6.71          | 7.502         | 2.10042       | 69            | 7.854         | ...           | 785           | 1             | 1038          |  75           | 172           |  987          | 2612          | 4850          |  2            |  17           |\n",
       "\n"
      ],
      "text/plain": [
       "  ID       response_best_response_first_line days_to_disease_progression\n",
       "1 MMRF1021 Non-sensitive                      531                       \n",
       "2 MMRF1030 Sensitive                         1983                       \n",
       "3 MMRF1031 Non-sensitive                     1328                       \n",
       "4 MMRF1032 Non-sensitive                      907                       \n",
       "5 MMRF1033 Non-sensitive                      217                       \n",
       "6 MMRF1038 Non-sensitive                     1752                       \n",
       "  treatment   transplant beta_2 hemoglobin ldh     age bun   ...\n",
       "1 Bor-Len-Dex 1          2.10   8.928      9.86864 54  8.925 ...\n",
       "2 Bor-Len-Dex 1          1.98   7.874      1.65033 65     NA ...\n",
       "3 Bor-Len-Dex 0          2.04   6.324      2.80056 62  4.284 ...\n",
       "4 Bor-Cyc-Dex 0          3.00   5.704      2.38381 76  5.355 ...\n",
       "5 Len-Dex     0          1.51   8.804           NA 64  4.998 ...\n",
       "6 Len-Dex     0          6.71   7.502      2.10042 69  7.854 ...\n",
       "  ENSG00000167074 ENSG00000215102 ENSG00000112561 ENSG00000095587\n",
       "1 525             0                287             36            \n",
       "2 666             0                671            403            \n",
       "3 286             1                223             40            \n",
       "4 722             7                480            145            \n",
       "5 549             0                165             50            \n",
       "6 785             1               1038             75            \n",
       "  ENSG00000155755 ENSG00000175348 ENSG00000134900 ENSG00000127824\n",
       "1 513             1881            1797            4252           \n",
       "2 168             2543            1829            4800           \n",
       "3 263             1233            2750            3447           \n",
       "4 117             1059            1509            2660           \n",
       "5 118             1017            2590            4064           \n",
       "6 172              987            2612            4850           \n",
       "  ENSG00000189167 ENSG00000066185\n",
       "1  4              206            \n",
       "2 11               14            \n",
       "3  8               26            \n",
       "4  4               11            \n",
       "5  8               29            \n",
       "6  2               17            "
      ]
     },
     "metadata": {},
     "output_type": "display_data"
    }
   ],
   "source": [
    "clinical$transplant[clinical$transplant == 'Yes'] = 1\n",
    "clinical$transplant[clinical$transplant == 'No'] = 0 \n",
    "\n",
    "# clinical$response_best_response_first_line[clinical$response_best_response_first_line == 'Sensitive'] = 1\n",
    "# clinical$response_best_response_first_line[clinical$response_best_response_first_line == 'Non-sensitive'] = 0\n",
    "\n",
    "result <- merge(clinical, genes[,1:71], by='ID')\n",
    "\n",
    "write.table(result, 'output/selected_feature_full_data_mmrf.csv', sep=',', row.names=F)\n",
    "\n",
    "head(result)"
   ]
  }
 ],
 "metadata": {
  "kernelspec": {
   "display_name": "R",
   "language": "R",
   "name": "ir"
  },
  "language_info": {
   "codemirror_mode": "r",
   "file_extension": ".r",
   "mimetype": "text/x-r-source",
   "name": "R",
   "pygments_lexer": "r",
   "version": "3.6.1"
  }
 },
 "nbformat": 4,
 "nbformat_minor": 2
}
