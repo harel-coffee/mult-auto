{
 "cells": [
  {
   "cell_type": "code",
   "execution_count": 1,
   "metadata": {},
   "outputs": [],
   "source": [
    "from collections import Counter\n",
    "\n",
    "import pandas as pd\n",
    "import numpy as np"
   ]
  },
  {
   "cell_type": "code",
   "execution_count": 2,
   "metadata": {},
   "outputs": [
    {
     "data": {
      "text/html": [
       "<div>\n",
       "<style scoped>\n",
       "    .dataframe tbody tr th:only-of-type {\n",
       "        vertical-align: middle;\n",
       "    }\n",
       "\n",
       "    .dataframe tbody tr th {\n",
       "        vertical-align: top;\n",
       "    }\n",
       "\n",
       "    .dataframe thead th {\n",
       "        text-align: right;\n",
       "    }\n",
       "</style>\n",
       "<table border=\"1\" class=\"dataframe\">\n",
       "  <thead>\n",
       "    <tr style=\"text-align: right;\">\n",
       "      <th></th>\n",
       "      <th>Rows</th>\n",
       "      <th>Columns</th>\n",
       "    </tr>\n",
       "  </thead>\n",
       "  <tbody>\n",
       "    <tr>\n",
       "      <th>GENEFPKM</th>\n",
       "      <td>769</td>\n",
       "      <td>27777</td>\n",
       "    </tr>\n",
       "    <tr>\n",
       "      <th>CLINICAL</th>\n",
       "      <td>1110</td>\n",
       "      <td>13</td>\n",
       "    </tr>\n",
       "  </tbody>\n",
       "</table>\n",
       "</div>"
      ],
      "text/plain": [
       "          Rows  Columns\n",
       "GENEFPKM   769    27777\n",
       "CLINICAL  1110       13"
      ]
     },
     "execution_count": 2,
     "metadata": {},
     "output_type": "execute_result"
    }
   ],
   "source": [
    "clinical = pd.read_csv('data/clinical.tsv', sep='\\t', index_col='ID')\n",
    "\n",
    "genefpkm = pd.read_csv('data/gene_count.tsv', sep='\\t', index_col='ID')\n",
    "\n",
    "pd.DataFrame({'Rows': [genefpkm.shape[0], clinical.shape[0]], \n",
    "              'Columns': [genefpkm.shape[1], clinical.shape[1]]}, index=['GENEFPKM', 'CLINICAL'])"
   ]
  },
  {
   "cell_type": "code",
   "execution_count": 3,
   "metadata": {},
   "outputs": [
    {
     "data": {
      "text/html": [
       "<div>\n",
       "<style scoped>\n",
       "    .dataframe tbody tr th:only-of-type {\n",
       "        vertical-align: middle;\n",
       "    }\n",
       "\n",
       "    .dataframe tbody tr th {\n",
       "        vertical-align: top;\n",
       "    }\n",
       "\n",
       "    .dataframe thead th {\n",
       "        text-align: right;\n",
       "    }\n",
       "</style>\n",
       "<table border=\"1\" class=\"dataframe\">\n",
       "  <thead>\n",
       "    <tr style=\"text-align: right;\">\n",
       "      <th></th>\n",
       "      <th>Rows</th>\n",
       "      <th>Columns</th>\n",
       "    </tr>\n",
       "  </thead>\n",
       "  <tbody>\n",
       "    <tr>\n",
       "      <th>JOINED</th>\n",
       "      <td>749</td>\n",
       "      <td>27790</td>\n",
       "    </tr>\n",
       "  </tbody>\n",
       "</table>\n",
       "</div>"
      ],
      "text/plain": [
       "        Rows  Columns\n",
       "JOINED   749    27790"
      ]
     },
     "execution_count": 3,
     "metadata": {},
     "output_type": "execute_result"
    }
   ],
   "source": [
    "joined = clinical.join(genefpkm, how='inner')\n",
    "\n",
    "pd.DataFrame({'Rows': [joined.shape[0]], \n",
    "              'Columns': [joined.shape[1]]}, index=['JOINED'])"
   ]
  },
  {
   "cell_type": "code",
   "execution_count": 4,
   "metadata": {},
   "outputs": [
    {
     "data": {
      "text/html": [
       "<div>\n",
       "<style scoped>\n",
       "    .dataframe tbody tr th:only-of-type {\n",
       "        vertical-align: middle;\n",
       "    }\n",
       "\n",
       "    .dataframe tbody tr th {\n",
       "        vertical-align: top;\n",
       "    }\n",
       "\n",
       "    .dataframe thead th {\n",
       "        text-align: right;\n",
       "    }\n",
       "</style>\n",
       "<table border=\"1\" class=\"dataframe\">\n",
       "  <thead>\n",
       "    <tr style=\"text-align: right;\">\n",
       "      <th></th>\n",
       "      <th>nan</th>\n",
       "      <th>Combined bortezomib/IMIDs-based</th>\n",
       "      <th>Bortezomib-based</th>\n",
       "      <th>IMIDs-based</th>\n",
       "      <th>Combined bortezomib/IMIDs/carfilzomib-based</th>\n",
       "      <th>Combined IMIDs/carfilzomib-based</th>\n",
       "      <th>Carfilzomib-based</th>\n",
       "      <th>Combined bortezomib/carfilzomib-based</th>\n",
       "    </tr>\n",
       "  </thead>\n",
       "  <tbody>\n",
       "    <tr>\n",
       "      <th>Count</th>\n",
       "      <td>39</td>\n",
       "      <td>351</td>\n",
       "      <td>146</td>\n",
       "      <td>39</td>\n",
       "      <td>20</td>\n",
       "      <td>113</td>\n",
       "      <td>40</td>\n",
       "      <td>1</td>\n",
       "    </tr>\n",
       "  </tbody>\n",
       "</table>\n",
       "</div>"
      ],
      "text/plain": [
       "       NaN  Combined bortezomib/IMIDs-based  Bortezomib-based  IMIDs-based  \\\n",
       "Count   39                              351               146           39   \n",
       "\n",
       "       Combined bortezomib/IMIDs/carfilzomib-based  \\\n",
       "Count                                           20   \n",
       "\n",
       "       Combined IMIDs/carfilzomib-based  Carfilzomib-based  \\\n",
       "Count                               113                 40   \n",
       "\n",
       "       Combined bortezomib/carfilzomib-based  \n",
       "Count                                      1  "
      ]
     },
     "execution_count": 4,
     "metadata": {},
     "output_type": "execute_result"
    }
   ],
   "source": [
    "pd.DataFrame(dict(Counter(joined['therapy_first_line_class'])), index=['Count'])"
   ]
  },
  {
   "cell_type": "code",
   "execution_count": 5,
   "metadata": {},
   "outputs": [
    {
     "data": {
      "text/html": [
       "<div>\n",
       "<style scoped>\n",
       "    .dataframe tbody tr th:only-of-type {\n",
       "        vertical-align: middle;\n",
       "    }\n",
       "\n",
       "    .dataframe tbody tr th {\n",
       "        vertical-align: top;\n",
       "    }\n",
       "\n",
       "    .dataframe thead th {\n",
       "        text-align: right;\n",
       "    }\n",
       "</style>\n",
       "<table border=\"1\" class=\"dataframe\">\n",
       "  <thead>\n",
       "    <tr style=\"text-align: right;\">\n",
       "      <th></th>\n",
       "      <th>0.0</th>\n",
       "      <th>1.0</th>\n",
       "      <th>nan</th>\n",
       "    </tr>\n",
       "  </thead>\n",
       "  <tbody>\n",
       "    <tr>\n",
       "      <th>Count</th>\n",
       "      <td>553</td>\n",
       "      <td>171</td>\n",
       "      <td>25</td>\n",
       "    </tr>\n",
       "  </tbody>\n",
       "</table>\n",
       "</div>"
      ],
      "text/plain": [
       "       0.0  1.0  nan\n",
       "Count  553  171   25"
      ]
     },
     "execution_count": 5,
     "metadata": {},
     "output_type": "execute_result"
    }
   ],
   "source": [
    "pd.DataFrame(Counter(joined['response_best_response_first_line'].replace(np.nan, 'nan')), index=['Count'])"
   ]
  },
  {
   "cell_type": "code",
   "execution_count": 6,
   "metadata": {},
   "outputs": [
    {
     "data": {
      "text/html": [
       "<div>\n",
       "<style scoped>\n",
       "    .dataframe tbody tr th:only-of-type {\n",
       "        vertical-align: middle;\n",
       "    }\n",
       "\n",
       "    .dataframe tbody tr th {\n",
       "        vertical-align: top;\n",
       "    }\n",
       "\n",
       "    .dataframe thead th {\n",
       "        text-align: right;\n",
       "    }\n",
       "</style>\n",
       "<table border=\"1\" class=\"dataframe\">\n",
       "  <thead>\n",
       "    <tr style=\"text-align: right;\">\n",
       "      <th></th>\n",
       "      <th>0.0</th>\n",
       "      <th>1.0</th>\n",
       "      <th>nan</th>\n",
       "    </tr>\n",
       "  </thead>\n",
       "  <tbody>\n",
       "    <tr>\n",
       "      <th>Count</th>\n",
       "      <td>196</td>\n",
       "      <td>177</td>\n",
       "      <td>376</td>\n",
       "    </tr>\n",
       "  </tbody>\n",
       "</table>\n",
       "</div>"
      ],
      "text/plain": [
       "       0.0  1.0  nan\n",
       "Count  196  177  376"
      ]
     },
     "execution_count": 6,
     "metadata": {},
     "output_type": "execute_result"
    }
   ],
   "source": [
    "pd.DataFrame(Counter(joined['response_days_to_disease_progression'].replace(np.nan, 'nan')), index=['Count'])"
   ]
  },
  {
   "cell_type": "code",
   "execution_count": 7,
   "metadata": {},
   "outputs": [
    {
     "data": {
      "text/html": [
       "<div>\n",
       "<style scoped>\n",
       "    .dataframe tbody tr th:only-of-type {\n",
       "        vertical-align: middle;\n",
       "    }\n",
       "\n",
       "    .dataframe tbody tr th {\n",
       "        vertical-align: top;\n",
       "    }\n",
       "\n",
       "    .dataframe thead th {\n",
       "        text-align: right;\n",
       "    }\n",
       "</style>\n",
       "<table border=\"1\" class=\"dataframe\">\n",
       "  <thead>\n",
       "    <tr style=\"text-align: right;\">\n",
       "      <th></th>\n",
       "      <th>0.0</th>\n",
       "      <th>1.0</th>\n",
       "    </tr>\n",
       "  </thead>\n",
       "  <tbody>\n",
       "    <tr>\n",
       "      <th>Count</th>\n",
       "      <td>300</td>\n",
       "      <td>260</td>\n",
       "    </tr>\n",
       "  </tbody>\n",
       "</table>\n",
       "</div>"
      ],
      "text/plain": [
       "       0.0  1.0\n",
       "Count  300  260"
      ]
     },
     "execution_count": 7,
     "metadata": {},
     "output_type": "execute_result"
    }
   ],
   "source": [
    "df_dtdp = clinical.copy()\n",
    "\n",
    "del df_dtdp['response_best_response_first_line']\n",
    "\n",
    "df_dtdp = df_dtdp.loc[~df_dtdp['response_days_to_disease_progression'].isnull()]\n",
    "\n",
    "df_dtdp.to_csv('data/clinical_dtdp.tsv', sep='\\t', index=True)\n",
    "\n",
    "pd.DataFrame(Counter(df_dtdp['response_days_to_disease_progression'].replace(np.nan, 'nan')), index=['Count'])"
   ]
  },
  {
   "cell_type": "code",
   "execution_count": 8,
   "metadata": {},
   "outputs": [
    {
     "data": {
      "text/html": [
       "<div>\n",
       "<style scoped>\n",
       "    .dataframe tbody tr th:only-of-type {\n",
       "        vertical-align: middle;\n",
       "    }\n",
       "\n",
       "    .dataframe tbody tr th {\n",
       "        vertical-align: top;\n",
       "    }\n",
       "\n",
       "    .dataframe thead th {\n",
       "        text-align: right;\n",
       "    }\n",
       "</style>\n",
       "<table border=\"1\" class=\"dataframe\">\n",
       "  <thead>\n",
       "    <tr style=\"text-align: right;\">\n",
       "      <th></th>\n",
       "      <th>0.0</th>\n",
       "      <th>1.0</th>\n",
       "    </tr>\n",
       "  </thead>\n",
       "  <tbody>\n",
       "    <tr>\n",
       "      <th>Count</th>\n",
       "      <td>823</td>\n",
       "      <td>248</td>\n",
       "    </tr>\n",
       "  </tbody>\n",
       "</table>\n",
       "</div>"
      ],
      "text/plain": [
       "       0.0  1.0\n",
       "Count  823  248"
      ]
     },
     "execution_count": 8,
     "metadata": {},
     "output_type": "execute_result"
    }
   ],
   "source": [
    "df_brfl = clinical.copy()\n",
    "\n",
    "del df_brfl['response_days_to_disease_progression']\n",
    "\n",
    "df_brfl = df_brfl.loc[~df_brfl['response_best_response_first_line'].isnull()]\n",
    "\n",
    "df_brfl.to_csv('data/clinical_brfl.tsv', sep='\\t', index=True)\n",
    "\n",
    "pd.DataFrame(Counter(df_brfl['response_best_response_first_line'].replace(np.nan, 'nan')), index=['Count'])"
   ]
  },
  {
   "cell_type": "code",
   "execution_count": 9,
   "metadata": {},
   "outputs": [
    {
     "data": {
      "text/html": [
       "<div>\n",
       "<style scoped>\n",
       "    .dataframe tbody tr th:only-of-type {\n",
       "        vertical-align: middle;\n",
       "    }\n",
       "\n",
       "    .dataframe tbody tr th {\n",
       "        vertical-align: top;\n",
       "    }\n",
       "\n",
       "    .dataframe thead th {\n",
       "        text-align: right;\n",
       "    }\n",
       "</style>\n",
       "<table border=\"1\" class=\"dataframe\">\n",
       "  <thead>\n",
       "    <tr style=\"text-align: right;\">\n",
       "      <th></th>\n",
       "      <th>Combined bortezomib/IMIDs-based</th>\n",
       "      <th>Combined bortezomib/IMIDs/carfilzomib-based</th>\n",
       "      <th>IMIDs-based</th>\n",
       "      <th>nan</th>\n",
       "      <th>Bortezomib-based</th>\n",
       "      <th>Combined IMIDs/carfilzomib-based</th>\n",
       "      <th>Carfilzomib-based</th>\n",
       "      <th>Combined bortezomib/carfilzomib-based</th>\n",
       "    </tr>\n",
       "  </thead>\n",
       "  <tbody>\n",
       "    <tr>\n",
       "      <th>Count</th>\n",
       "      <td>539</td>\n",
       "      <td>34</td>\n",
       "      <td>56</td>\n",
       "      <td>58</td>\n",
       "      <td>177</td>\n",
       "      <td>153</td>\n",
       "      <td>52</td>\n",
       "      <td>2</td>\n",
       "    </tr>\n",
       "  </tbody>\n",
       "</table>\n",
       "</div>"
      ],
      "text/plain": [
       "       Combined bortezomib/IMIDs-based  \\\n",
       "Count                              539   \n",
       "\n",
       "       Combined bortezomib/IMIDs/carfilzomib-based  IMIDs-based  NaN  \\\n",
       "Count                                           34           56   58   \n",
       "\n",
       "       Bortezomib-based  Combined IMIDs/carfilzomib-based  Carfilzomib-based  \\\n",
       "Count               177                               153                 52   \n",
       "\n",
       "       Combined bortezomib/carfilzomib-based  \n",
       "Count                                      2  "
      ]
     },
     "execution_count": 9,
     "metadata": {},
     "output_type": "execute_result"
    }
   ],
   "source": [
    "pd.DataFrame(Counter(df_brfl['therapy_first_line_class']), index=['Count'])"
   ]
  },
  {
   "cell_type": "code",
   "execution_count": 10,
   "metadata": {},
   "outputs": [
    {
     "data": {
      "text/html": [
       "<div>\n",
       "<style scoped>\n",
       "    .dataframe tbody tr th:only-of-type {\n",
       "        vertical-align: middle;\n",
       "    }\n",
       "\n",
       "    .dataframe tbody tr th {\n",
       "        vertical-align: top;\n",
       "    }\n",
       "\n",
       "    .dataframe thead th {\n",
       "        text-align: right;\n",
       "    }\n",
       "</style>\n",
       "<table border=\"1\" class=\"dataframe\">\n",
       "  <thead>\n",
       "    <tr style=\"text-align: right;\">\n",
       "      <th></th>\n",
       "      <th>Combined bortezomib/IMIDs-based</th>\n",
       "      <th>IMIDs-based</th>\n",
       "      <th>nan</th>\n",
       "      <th>Bortezomib-based</th>\n",
       "      <th>Combined bortezomib/IMIDs/carfilzomib-based</th>\n",
       "      <th>Combined IMIDs/carfilzomib-based</th>\n",
       "      <th>Carfilzomib-based</th>\n",
       "      <th>Combined bortezomib/carfilzomib-based</th>\n",
       "    </tr>\n",
       "  </thead>\n",
       "  <tbody>\n",
       "    <tr>\n",
       "      <th>Count</th>\n",
       "      <td>276</td>\n",
       "      <td>42</td>\n",
       "      <td>57</td>\n",
       "      <td>131</td>\n",
       "      <td>17</td>\n",
       "      <td>27</td>\n",
       "      <td>9</td>\n",
       "      <td>1</td>\n",
       "    </tr>\n",
       "  </tbody>\n",
       "</table>\n",
       "</div>"
      ],
      "text/plain": [
       "       Combined bortezomib/IMIDs-based  IMIDs-based  NaN  Bortezomib-based  \\\n",
       "Count                              276           42   57               131   \n",
       "\n",
       "       Combined bortezomib/IMIDs/carfilzomib-based  \\\n",
       "Count                                           17   \n",
       "\n",
       "       Combined IMIDs/carfilzomib-based  Carfilzomib-based  \\\n",
       "Count                                27                  9   \n",
       "\n",
       "       Combined bortezomib/carfilzomib-based  \n",
       "Count                                      1  "
      ]
     },
     "execution_count": 10,
     "metadata": {},
     "output_type": "execute_result"
    }
   ],
   "source": [
    "pd.DataFrame(Counter(df_dtdp['therapy_first_line_class']), index=['Count'])"
   ]
  }
 ],
 "metadata": {
  "kernelspec": {
   "display_name": "Python 3",
   "language": "python",
   "name": "python3"
  },
  "language_info": {
   "codemirror_mode": {
    "name": "ipython",
    "version": 3
   },
   "file_extension": ".py",
   "mimetype": "text/x-python",
   "name": "python",
   "nbconvert_exporter": "python",
   "pygments_lexer": "ipython3",
   "version": "3.7.3"
  }
 },
 "nbformat": 4,
 "nbformat_minor": 2
}
