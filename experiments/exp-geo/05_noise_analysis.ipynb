{
 "cells": [
  {
   "cell_type": "code",
   "execution_count": 57,
   "metadata": {},
   "outputs": [],
   "source": [
    "library(ggplot2)\n",
    "library(dplyr)\n",
    "library(MESS)\n",
    "library(MLmetrics)\n",
    "library(ggpubr)\n",
    "library(ggpmisc)\n",
    "library(ResourceSelection)"
   ]
  },
  {
   "cell_type": "code",
   "execution_count": 29,
   "metadata": {},
   "outputs": [
    {
     "data": {
      "text/html": [
       "<table class=\"dataframe\">\n",
       "<caption>A data.frame: 6 × 5</caption>\n",
       "<thead>\n",
       "\t<tr><th></th><th scope=col>dataset</th><th scope=col>y</th><th scope=col>y_hat</th><th scope=col>fold</th><th scope=col>method</th></tr>\n",
       "\t<tr><th></th><th scope=col>&lt;chr&gt;</th><th scope=col>&lt;dbl&gt;</th><th scope=col>&lt;dbl&gt;</th><th scope=col>&lt;chr&gt;</th><th scope=col>&lt;chr&gt;</th></tr>\n",
       "</thead>\n",
       "<tbody>\n",
       "\t<tr><th scope=row>1</th><td>GSE135820</td><td>0</td><td>0.20834892</td><td>valid_0.csv</td><td>MuLT</td></tr>\n",
       "\t<tr><th scope=row>2</th><td>GSE135820</td><td>0</td><td>0.10040507</td><td>valid_0.csv</td><td>MuLT</td></tr>\n",
       "\t<tr><th scope=row>3</th><td>GSE135820</td><td>0</td><td>0.05900202</td><td>valid_0.csv</td><td>MuLT</td></tr>\n",
       "\t<tr><th scope=row>4</th><td>GSE135820</td><td>0</td><td>0.08849602</td><td>valid_0.csv</td><td>MuLT</td></tr>\n",
       "\t<tr><th scope=row>5</th><td>GSE135820</td><td>0</td><td>0.12070721</td><td>valid_0.csv</td><td>MuLT</td></tr>\n",
       "\t<tr><th scope=row>6</th><td>GSE135820</td><td>0</td><td>0.16405699</td><td>valid_0.csv</td><td>MuLT</td></tr>\n",
       "</tbody>\n",
       "</table>\n"
      ],
      "text/latex": [
       "A data.frame: 6 × 5\n",
       "\\begin{tabular}{r|lllll}\n",
       "  & dataset & y & y\\_hat & fold & method\\\\\n",
       "  & <chr> & <dbl> & <dbl> & <chr> & <chr>\\\\\n",
       "\\hline\n",
       "\t1 & GSE135820 & 0 & 0.20834892 & valid\\_0.csv & MuLT\\\\\n",
       "\t2 & GSE135820 & 0 & 0.10040507 & valid\\_0.csv & MuLT\\\\\n",
       "\t3 & GSE135820 & 0 & 0.05900202 & valid\\_0.csv & MuLT\\\\\n",
       "\t4 & GSE135820 & 0 & 0.08849602 & valid\\_0.csv & MuLT\\\\\n",
       "\t5 & GSE135820 & 0 & 0.12070721 & valid\\_0.csv & MuLT\\\\\n",
       "\t6 & GSE135820 & 0 & 0.16405699 & valid\\_0.csv & MuLT\\\\\n",
       "\\end{tabular}\n"
      ],
      "text/markdown": [
       "\n",
       "A data.frame: 6 × 5\n",
       "\n",
       "| <!--/--> | dataset &lt;chr&gt; | y &lt;dbl&gt; | y_hat &lt;dbl&gt; | fold &lt;chr&gt; | method &lt;chr&gt; |\n",
       "|---|---|---|---|---|---|\n",
       "| 1 | GSE135820 | 0 | 0.20834892 | valid_0.csv | MuLT |\n",
       "| 2 | GSE135820 | 0 | 0.10040507 | valid_0.csv | MuLT |\n",
       "| 3 | GSE135820 | 0 | 0.05900202 | valid_0.csv | MuLT |\n",
       "| 4 | GSE135820 | 0 | 0.08849602 | valid_0.csv | MuLT |\n",
       "| 5 | GSE135820 | 0 | 0.12070721 | valid_0.csv | MuLT |\n",
       "| 6 | GSE135820 | 0 | 0.16405699 | valid_0.csv | MuLT |\n",
       "\n"
      ],
      "text/plain": [
       "  dataset   y y_hat      fold        method\n",
       "1 GSE135820 0 0.20834892 valid_0.csv MuLT  \n",
       "2 GSE135820 0 0.10040507 valid_0.csv MuLT  \n",
       "3 GSE135820 0 0.05900202 valid_0.csv MuLT  \n",
       "4 GSE135820 0 0.08849602 valid_0.csv MuLT  \n",
       "5 GSE135820 0 0.12070721 valid_0.csv MuLT  \n",
       "6 GSE135820 0 0.16405699 valid_0.csv MuLT  "
      ]
     },
     "metadata": {},
     "output_type": "display_data"
    }
   ],
   "source": [
    "BASE.PATH <- './output/mult'\n",
    "\n",
    "result_list <- list()\n",
    "\n",
    "result <- NULL\n",
    "\n",
    "for (d in list.files(BASE.PATH)) {\n",
    "    \n",
    "    if (grepl('GSE', d)) {\n",
    "        \n",
    "        path <- paste(BASE.PATH, d, 'inference', sep='/')\n",
    "        \n",
    "        i <- 1\n",
    "        \n",
    "        means <- list()\n",
    "        \n",
    "        values <- c()\n",
    "        \n",
    "        for (f in sort(list.files(path))) {\n",
    "            \n",
    "            if (grepl('valid', f)) {\n",
    "                \n",
    "                filename <- paste(path, f, sep='/')\n",
    "                \n",
    "                df <- read.table(filename, sep=',', header=T)\n",
    "                \n",
    "                colnames(df) <- c('dataset', 'y', 'y_hat')\n",
    "                \n",
    "                df$fold <- f\n",
    "                df$dataset <- d\n",
    "                \n",
    "                if (is.null(result)) {\n",
    "                    result <- df\n",
    "                } else {\n",
    "                    result <- rbind(result, df)\n",
    "                }\n",
    "            }\n",
    "        }\n",
    "    }\n",
    "}\n",
    "\n",
    "result$method <- 'MuLT'\n",
    "\n",
    "head(result)"
   ]
  },
  {
   "cell_type": "code",
   "execution_count": 30,
   "metadata": {},
   "outputs": [
    {
     "data": {
      "text/html": [
       "<table class=\"dataframe\">\n",
       "<caption>A data.frame: 6 × 5</caption>\n",
       "<thead>\n",
       "\t<tr><th></th><th scope=col>dataset</th><th scope=col>y</th><th scope=col>y_hat</th><th scope=col>fold</th><th scope=col>method</th></tr>\n",
       "\t<tr><th></th><th scope=col>&lt;chr&gt;</th><th scope=col>&lt;dbl&gt;</th><th scope=col>&lt;dbl&gt;</th><th scope=col>&lt;chr&gt;</th><th scope=col>&lt;chr&gt;</th></tr>\n",
       "</thead>\n",
       "<tbody>\n",
       "\t<tr><th scope=row>1</th><td>GSE135820</td><td>0</td><td>0.20834892</td><td>valid_0.csv</td><td>MuLT</td></tr>\n",
       "\t<tr><th scope=row>2</th><td>GSE135820</td><td>0</td><td>0.10040507</td><td>valid_0.csv</td><td>MuLT</td></tr>\n",
       "\t<tr><th scope=row>3</th><td>GSE135820</td><td>0</td><td>0.05900202</td><td>valid_0.csv</td><td>MuLT</td></tr>\n",
       "\t<tr><th scope=row>4</th><td>GSE135820</td><td>0</td><td>0.08849602</td><td>valid_0.csv</td><td>MuLT</td></tr>\n",
       "\t<tr><th scope=row>5</th><td>GSE135820</td><td>0</td><td>0.12070721</td><td>valid_0.csv</td><td>MuLT</td></tr>\n",
       "\t<tr><th scope=row>6</th><td>GSE135820</td><td>0</td><td>0.16405699</td><td>valid_0.csv</td><td>MuLT</td></tr>\n",
       "</tbody>\n",
       "</table>\n"
      ],
      "text/latex": [
       "A data.frame: 6 × 5\n",
       "\\begin{tabular}{r|lllll}\n",
       "  & dataset & y & y\\_hat & fold & method\\\\\n",
       "  & <chr> & <dbl> & <dbl> & <chr> & <chr>\\\\\n",
       "\\hline\n",
       "\t1 & GSE135820 & 0 & 0.20834892 & valid\\_0.csv & MuLT\\\\\n",
       "\t2 & GSE135820 & 0 & 0.10040507 & valid\\_0.csv & MuLT\\\\\n",
       "\t3 & GSE135820 & 0 & 0.05900202 & valid\\_0.csv & MuLT\\\\\n",
       "\t4 & GSE135820 & 0 & 0.08849602 & valid\\_0.csv & MuLT\\\\\n",
       "\t5 & GSE135820 & 0 & 0.12070721 & valid\\_0.csv & MuLT\\\\\n",
       "\t6 & GSE135820 & 0 & 0.16405699 & valid\\_0.csv & MuLT\\\\\n",
       "\\end{tabular}\n"
      ],
      "text/markdown": [
       "\n",
       "A data.frame: 6 × 5\n",
       "\n",
       "| <!--/--> | dataset &lt;chr&gt; | y &lt;dbl&gt; | y_hat &lt;dbl&gt; | fold &lt;chr&gt; | method &lt;chr&gt; |\n",
       "|---|---|---|---|---|---|\n",
       "| 1 | GSE135820 | 0 | 0.20834892 | valid_0.csv | MuLT |\n",
       "| 2 | GSE135820 | 0 | 0.10040507 | valid_0.csv | MuLT |\n",
       "| 3 | GSE135820 | 0 | 0.05900202 | valid_0.csv | MuLT |\n",
       "| 4 | GSE135820 | 0 | 0.08849602 | valid_0.csv | MuLT |\n",
       "| 5 | GSE135820 | 0 | 0.12070721 | valid_0.csv | MuLT |\n",
       "| 6 | GSE135820 | 0 | 0.16405699 | valid_0.csv | MuLT |\n",
       "\n"
      ],
      "text/plain": [
       "  dataset   y y_hat      fold        method\n",
       "1 GSE135820 0 0.20834892 valid_0.csv MuLT  \n",
       "2 GSE135820 0 0.10040507 valid_0.csv MuLT  \n",
       "3 GSE135820 0 0.05900202 valid_0.csv MuLT  \n",
       "4 GSE135820 0 0.08849602 valid_0.csv MuLT  \n",
       "5 GSE135820 0 0.12070721 valid_0.csv MuLT  \n",
       "6 GSE135820 0 0.16405699 valid_0.csv MuLT  "
      ]
     },
     "metadata": {},
     "output_type": "display_data"
    }
   ],
   "source": [
    "BASE.PATH <- './output/smla'\n",
    "\n",
    "for (m in list.files(BASE.PATH)) {\n",
    "\n",
    "    if (grepl('lightgbm', m)) {\n",
    "        method <- 'LightGBM'\n",
    "    } else {\n",
    "        method <- toupper(m)\n",
    "    }\n",
    "    \n",
    "    if (grepl('_', m))\n",
    "        next\n",
    "    \n",
    "    path_ <- paste(BASE.PATH, m, sep='/')\n",
    "    \n",
    "    for (d in list.files(path_)) {\n",
    "\n",
    "        if (grepl('GSE', d)) {\n",
    "\n",
    "            path <- paste(path_, d, 'inference', sep='/')\n",
    "\n",
    "            for (f in sort(list.files(path))) {\n",
    "\n",
    "                if (grepl('valid', f)) {\n",
    "                    \n",
    "                    filename <- paste(path, f, sep='/')\n",
    "                    \n",
    "                    df <- read.table(filename, sep=',', header=T)\n",
    "                    \n",
    "                    colnames(df) <- c('dataset', 'y', 'y_hat')\n",
    "                    \n",
    "                    df$fold <- f\n",
    "                    \n",
    "                    df$dataset <- d\n",
    "                    \n",
    "                    df$method <- method\n",
    "\n",
    "                    if (is.null(result)) {\n",
    "                        result <- df\n",
    "                    } else {\n",
    "                        result <- rbind(result, df)\n",
    "                    }\n",
    "                }\n",
    "            }\n",
    "        }\n",
    "    }\n",
    "}\n",
    "\n",
    "head(result)"
   ]
  },
  {
   "cell_type": "code",
   "execution_count": 31,
   "metadata": {},
   "outputs": [],
   "source": [
    "r <- c()\n",
    "\n",
    "for (i in seq(1, nrow(result))) {\n",
    "    \n",
    "    row = result[i,]\n",
    "    y_hat = row$y_hat\n",
    "    y = row$y\n",
    "    r <- c(r, MLmetrics::LogLoss(y, y_hat))\n",
    "}\n",
    "\n",
    "result$logloss <- r"
   ]
  },
  {
   "cell_type": "code",
   "execution_count": 115,
   "metadata": {},
   "outputs": [
    {
     "data": {
      "text/html": [
       "<table class=\"dataframe\">\n",
       "<caption>A data.frame: 6 × 3</caption>\n",
       "<thead>\n",
       "\t<tr><th></th><th scope=col>dataset</th><th scope=col>method</th><th scope=col>rsquared</th></tr>\n",
       "\t<tr><th></th><th scope=col>&lt;fct&gt;</th><th scope=col>&lt;fct&gt;</th><th scope=col>&lt;dbl&gt;</th></tr>\n",
       "</thead>\n",
       "<tbody>\n",
       "\t<tr><th scope=row>1</th><td>GSE135820</td><td>MuLT    </td><td>0.013050349</td></tr>\n",
       "\t<tr><th scope=row>2</th><td>GSE135820</td><td>KNN     </td><td>0.059300759</td></tr>\n",
       "\t<tr><th scope=row>3</th><td>GSE135820</td><td>LightGBM</td><td>0.002199139</td></tr>\n",
       "\t<tr><th scope=row>4</th><td>GSE135820</td><td>MLP     </td><td>0.002406998</td></tr>\n",
       "\t<tr><th scope=row>5</th><td>GSE135820</td><td>SVM     </td><td>0.017290800</td></tr>\n",
       "\t<tr><th scope=row>6</th><td>GSE68465 </td><td>MuLT    </td><td>0.014975416</td></tr>\n",
       "</tbody>\n",
       "</table>\n"
      ],
      "text/latex": [
       "A data.frame: 6 × 3\n",
       "\\begin{tabular}{r|lll}\n",
       "  & dataset & method & rsquared\\\\\n",
       "  & <fct> & <fct> & <dbl>\\\\\n",
       "\\hline\n",
       "\t1 & GSE135820 & MuLT     & 0.013050349\\\\\n",
       "\t2 & GSE135820 & KNN      & 0.059300759\\\\\n",
       "\t3 & GSE135820 & LightGBM & 0.002199139\\\\\n",
       "\t4 & GSE135820 & MLP      & 0.002406998\\\\\n",
       "\t5 & GSE135820 & SVM      & 0.017290800\\\\\n",
       "\t6 & GSE68465  & MuLT     & 0.014975416\\\\\n",
       "\\end{tabular}\n"
      ],
      "text/markdown": [
       "\n",
       "A data.frame: 6 × 3\n",
       "\n",
       "| <!--/--> | dataset &lt;fct&gt; | method &lt;fct&gt; | rsquared &lt;dbl&gt; |\n",
       "|---|---|---|---|\n",
       "| 1 | GSE135820 | MuLT     | 0.013050349 |\n",
       "| 2 | GSE135820 | KNN      | 0.059300759 |\n",
       "| 3 | GSE135820 | LightGBM | 0.002199139 |\n",
       "| 4 | GSE135820 | MLP      | 0.002406998 |\n",
       "| 5 | GSE135820 | SVM      | 0.017290800 |\n",
       "| 6 | GSE68465  | MuLT     | 0.014975416 |\n",
       "\n"
      ],
      "text/plain": [
       "  dataset   method   rsquared   \n",
       "1 GSE135820 MuLT     0.013050349\n",
       "2 GSE135820 KNN      0.059300759\n",
       "3 GSE135820 LightGBM 0.002199139\n",
       "4 GSE135820 MLP      0.002406998\n",
       "5 GSE135820 SVM      0.017290800\n",
       "6 GSE68465  MuLT     0.014975416"
      ]
     },
     "metadata": {},
     "output_type": "display_data"
    }
   ],
   "source": [
    "fit.dataset <- result\n",
    "fit.dataset$residual <- fit.dataset$y - fit.dataset$y_hat\n",
    "\n",
    "methods <- unique(fit.dataset$method)\n",
    "datasets <- unique(fit.dataset$dataset)\n",
    "\n",
    "datasets_ <- c()\n",
    "methods_ <- c()\n",
    "rs <- c()\n",
    "\n",
    "for (d in datasets) {\n",
    "    tmp <- fit.dataset[fit.dataset$dataset == d,]\n",
    "    for (m in methods) {\n",
    "        tmp_ <- tmp[tmp$method == m,]\n",
    "        model <- lm(residual ~ y_hat, data=tmp_)\n",
    "        datasets_ <- c(datasets_, d)\n",
    "        methods_ <- c(methods_, m)\n",
    "        rs <- c(rs, summary(model)$r.squared)\n",
    "    }\n",
    "}\n",
    "\n",
    "rsquared.df <- data.frame(dataset=datasets_, method=methods_, rsquared=rs)\n",
    "\n",
    "head(rsquared.df)"
   ]
  },
  {
   "cell_type": "code",
   "execution_count": 119,
   "metadata": {},
   "outputs": [
    {
     "name": "stdout",
     "output_type": "stream",
     "text": [
      "GSE135820 MuLT\n",
      "\n",
      "\tOne-sample Kolmogorov-Smirnov test\n",
      "\n",
      "data:  tmp_$residual\n",
      "D = 0.32757, p-value < 2.2e-16\n",
      "alternative hypothesis: two-sided\n",
      "\n",
      "GSE135820 KNN\n"
     ]
    },
    {
     "name": "stderr",
     "output_type": "stream",
     "text": [
      "Warning message in ks.test(tmp_$residual, \"pnorm\"):\n",
      "\"ties should not be present for the Kolmogorov-Smirnov test\"\n"
     ]
    },
    {
     "name": "stdout",
     "output_type": "stream",
     "text": [
      "\n",
      "\tOne-sample Kolmogorov-Smirnov test\n",
      "\n",
      "data:  tmp_$residual\n",
      "D = 0.31675, p-value < 2.2e-16\n",
      "alternative hypothesis: two-sided\n",
      "\n",
      "GSE135820 LightGBM\n"
     ]
    },
    {
     "name": "stderr",
     "output_type": "stream",
     "text": [
      "Warning message in ks.test(tmp_$residual, \"pnorm\"):\n",
      "\"ties should not be present for the Kolmogorov-Smirnov test\"\n"
     ]
    },
    {
     "name": "stdout",
     "output_type": "stream",
     "text": [
      "\n",
      "\tOne-sample Kolmogorov-Smirnov test\n",
      "\n",
      "data:  tmp_$residual\n",
      "D = 0.32047, p-value < 2.2e-16\n",
      "alternative hypothesis: two-sided\n",
      "\n",
      "GSE135820 MLP\n",
      "\n",
      "\tOne-sample Kolmogorov-Smirnov test\n",
      "\n",
      "data:  tmp_$residual\n",
      "D = 0.39928, p-value < 2.2e-16\n",
      "alternative hypothesis: two-sided\n",
      "\n",
      "GSE135820 SVM\n"
     ]
    },
    {
     "name": "stderr",
     "output_type": "stream",
     "text": [
      "Warning message in ks.test(tmp_$residual, \"pnorm\"):\n",
      "\"ties should not be present for the Kolmogorov-Smirnov test\"\n"
     ]
    },
    {
     "name": "stdout",
     "output_type": "stream",
     "text": [
      "\n",
      "\tOne-sample Kolmogorov-Smirnov test\n",
      "\n",
      "data:  tmp_$residual\n",
      "D = 0.38639, p-value < 2.2e-16\n",
      "alternative hypothesis: two-sided\n",
      "\n",
      "GSE68465 MuLT\n",
      "\n",
      "\tOne-sample Kolmogorov-Smirnov test\n",
      "\n",
      "data:  tmp_$residual\n",
      "D = 0.21995, p-value < 2.2e-16\n",
      "alternative hypothesis: two-sided\n",
      "\n",
      "GSE68465 KNN\n"
     ]
    },
    {
     "name": "stderr",
     "output_type": "stream",
     "text": [
      "Warning message in ks.test(tmp_$residual, \"pnorm\"):\n",
      "\"ties should not be present for the Kolmogorov-Smirnov test\"\n"
     ]
    },
    {
     "name": "stdout",
     "output_type": "stream",
     "text": [
      "\n",
      "\tOne-sample Kolmogorov-Smirnov test\n",
      "\n",
      "data:  tmp_$residual\n",
      "D = 0.19295, p-value = 1.021e-14\n",
      "alternative hypothesis: two-sided\n",
      "\n",
      "GSE68465 LightGBM\n",
      "\n",
      "\tOne-sample Kolmogorov-Smirnov test\n",
      "\n",
      "data:  tmp_$residual\n",
      "D = 0.16323, p-value = 1.179e-10\n",
      "alternative hypothesis: two-sided\n",
      "\n",
      "GSE68465 MLP\n",
      "\n",
      "\tOne-sample Kolmogorov-Smirnov test\n",
      "\n",
      "data:  tmp_$residual\n",
      "D = 0.2677, p-value < 2.2e-16\n",
      "alternative hypothesis: two-sided\n",
      "\n",
      "GSE68465 SVM\n"
     ]
    },
    {
     "name": "stderr",
     "output_type": "stream",
     "text": [
      "Warning message in ks.test(tmp_$residual, \"pnorm\"):\n",
      "\"ties should not be present for the Kolmogorov-Smirnov test\"\n"
     ]
    },
    {
     "name": "stdout",
     "output_type": "stream",
     "text": [
      "\n",
      "\tOne-sample Kolmogorov-Smirnov test\n",
      "\n",
      "data:  tmp_$residual\n",
      "D = 0.28668, p-value < 2.2e-16\n",
      "alternative hypothesis: two-sided\n",
      "\n",
      "GSE94873 MuLT\n"
     ]
    },
    {
     "name": "stderr",
     "output_type": "stream",
     "text": [
      "Warning message in ks.test(tmp_$residual, \"pnorm\"):\n",
      "\"ties should not be present for the Kolmogorov-Smirnov test\"\n"
     ]
    },
    {
     "name": "stdout",
     "output_type": "stream",
     "text": [
      "\n",
      "\tOne-sample Kolmogorov-Smirnov test\n",
      "\n",
      "data:  tmp_$residual\n",
      "D = 0.25822, p-value < 2.2e-16\n",
      "alternative hypothesis: two-sided\n",
      "\n",
      "GSE94873 KNN\n"
     ]
    },
    {
     "name": "stderr",
     "output_type": "stream",
     "text": [
      "Warning message in ks.test(tmp_$residual, \"pnorm\"):\n",
      "\"ties should not be present for the Kolmogorov-Smirnov test\"\n"
     ]
    },
    {
     "name": "stdout",
     "output_type": "stream",
     "text": [
      "\n",
      "\tOne-sample Kolmogorov-Smirnov test\n",
      "\n",
      "data:  tmp_$residual\n",
      "D = 0.19484, p-value < 2.2e-16\n",
      "alternative hypothesis: two-sided\n",
      "\n",
      "GSE94873 LightGBM\n",
      "\n",
      "\tOne-sample Kolmogorov-Smirnov test\n",
      "\n",
      "data:  tmp_$residual\n",
      "D = 0.19356, p-value < 2.2e-16\n",
      "alternative hypothesis: two-sided\n",
      "\n",
      "GSE94873 MLP\n",
      "\n",
      "\tOne-sample Kolmogorov-Smirnov test\n",
      "\n",
      "data:  tmp_$residual\n",
      "D = 0.28385, p-value < 2.2e-16\n",
      "alternative hypothesis: two-sided\n",
      "\n",
      "GSE94873 SVM\n"
     ]
    },
    {
     "name": "stderr",
     "output_type": "stream",
     "text": [
      "Warning message in ks.test(tmp_$residual, \"pnorm\"):\n",
      "\"ties should not be present for the Kolmogorov-Smirnov test\"\n"
     ]
    },
    {
     "name": "stdout",
     "output_type": "stream",
     "text": [
      "\n",
      "\tOne-sample Kolmogorov-Smirnov test\n",
      "\n",
      "data:  tmp_$residual\n",
      "D = 0.2818, p-value < 2.2e-16\n",
      "alternative hypothesis: two-sided\n",
      "\n"
     ]
    }
   ],
   "source": [
    "for (d in datasets) {\n",
    "    tmp <- fit.dataset[fit.dataset$dataset == d,]\n",
    "    for (m in methods) {\n",
    "        tmp_ <- tmp[tmp$method == m,]\n",
    "        writeLines(paste(d, m))\n",
    "        print(ks.test(tmp_$residual, 'pnorm'))\n",
    "    }\n",
    "}"
   ]
  },
  {
   "cell_type": "code",
   "execution_count": 114,
   "metadata": {},
   "outputs": [
    {
     "name": "stderr",
     "output_type": "stream",
     "text": [
      "`summarise()` has grouped output by 'method'. You can override using the `.groups` argument.\n",
      "\n",
      "`geom_smooth()` using method = 'gam' and formula 'y ~ s(x, bs = \"cs\")'\n",
      "\n",
      "`geom_smooth()` using method = 'gam' and formula 'y ~ s(x, bs = \"cs\")'\n",
      "\n"
     ]
    },
    {
     "data": {
      "image/png": "[encoded data removed]",
      "text/plain": [
       "plot without title"
      ]
     },
     "metadata": {
      "image/png": {
       "height": 420,
       "width": 420
      }
     },
     "output_type": "display_data"
    }
   ],
   "source": [
    "l <- result %>% group_by(method, dataset) %>% summarize(m = round(mean((y - y_hat)**2), 4))\n",
    "\n",
    "p <- \n",
    "  ggplot(result, aes(y_hat, y - y_hat)) + \n",
    "  geom_point(aes(colour=as.factor(y)), size=.5) + \n",
    "  geom_hline(yintercept = 0, lty=2,col=\"grey\") + \n",
    "  xlab('Predicted Values') + \n",
    "  ylab('Residuals') + \n",
    "  geom_smooth() +\n",
    "  geom_label(aes(x=.35, y=-.86, label=paste0('MSE = ', l$m, sep='')), \n",
    "             data=l, inherit.aes=F, size=3, family='serif', fill=NA, label.size=NA, alpha=.65) +\n",
    "  geom_label(aes(x=.7, y=.86, label=paste0('R²', ' = ',round(rsquared, digits=4))), \n",
    "             data=rsquared.df, inherit.aes=F, size=3, family='serif', fill=NA, label.size=NA, alpha=.65) +\n",
    "  # stat_cor(size=2.5, output.type='latex') +\n",
    "  # stat_regline_equation() +\n",
    "  # stat_fit_glance(method = 'lm',\n",
    "  #                     method.args = list(formula = formula),\n",
    "  #                     geom = 'text',\n",
    "  #                     aes(label = paste(\"P-value = \", signif(..p.value.., digits = 4), sep = \"\"))) +\n",
    "  # stat_cor(label.y = .8, label.x= -2.5) +\n",
    "  theme_bw() +\n",
    "  scale_colour_discrete(name = \"Risk\", labels=c('High', 'Low')) +\n",
    "  theme(text=element_text(size=11, family='serif'), \n",
    "        legend.position = \"top\", axis.text.x=element_text(angle=45, vjust=1, hjust=1),\n",
    "        panel.grid.major = element_blank(),\n",
    "        panel.grid.minor = element_blank()) +\n",
    "  facet_grid(dataset ~ method, scale='free_y')\n",
    "\n",
    "ggsave('images/residuals_analysis.png', p, units='cm', width=18, height=12, dpi=600)\n",
    "\n",
    "p"
   ]
  },
  {
   "cell_type": "code",
   "execution_count": 14,
   "metadata": {},
   "outputs": [
    {
     "name": "stderr",
     "output_type": "stream",
     "text": [
      "`stat_bin()` using `bins = 30`. Pick better value with `binwidth`.\n",
      "\n",
      "`stat_bin()` using `bins = 30`. Pick better value with `binwidth`.\n",
      "\n"
     ]
    },
    {
     "data": {
      "image/png": "[encoded data removed]",
      "text/plain": [
       "plot without title"
      ]
     },
     "metadata": {
      "image/png": {
       "height": 420,
       "width": 420
      }
     },
     "output_type": "display_data"
    }
   ],
   "source": [
    "p <- \n",
    "  ggplot(result, aes(y - y_hat)) + \n",
    "  geom_histogram() + \n",
    "  xlab('Predicted Values') + \n",
    "  ylab('Residuals') + \n",
    "  geom_label(aes(x=.3, y=-.86, label=paste0('MSE: ', l$m, sep='')), \n",
    "             data=l, inherit.aes=F, size=3, family='serif', fill=NA, label.size=NA, alpha=.65) +\n",
    "  theme_bw() +\n",
    "  scale_colour_discrete(name = \"Risk\", labels=c('High', 'Low')) +\n",
    "  theme(text=element_text(size=11, family='serif'), legend.position = \"top\", axis.text.x=element_text(angle=45, vjust=1, hjust=1)) +\n",
    "  facet_wrap(dataset ~ method, scale='free_y', ncol=5)\n",
    "\n",
    "ggsave('images/residuals_analysis_hist.png', p, units='cm', width=18, height=12, dpi=300)\n",
    "\n",
    "p"
   ]
  },
  {
   "cell_type": "code",
   "execution_count": 15,
   "metadata": {},
   "outputs": [
    {
     "data": {
      "image/png": "[encoded data removed]",
      "text/plain": [
       "plot without title"
      ]
     },
     "metadata": {
      "image/png": {
       "height": 420,
       "width": 420
      }
     },
     "output_type": "display_data"
    }
   ],
   "source": [
    "ggplot(result, aes(sample=y - y_hat)) + stat_qq() + facet_grid(dataset ~ method)"
   ]
  },
  {
   "cell_type": "code",
   "execution_count": null,
   "metadata": {},
   "outputs": [],
   "source": [
    "for (m1 in unique(result$method)) {\n",
    "    for (m2 in unique(result$method)) {\n",
    "        if (m1 != m2 & m1 == 'MuLT') {\n",
    "\n",
    "            s1 <- result[result$method == m1,]\n",
    "            #s1$y_hat <- (s1$y_hat - min(s1$y_hat)) / (max(s1$y_hat) - min(s1$y_hat))\n",
    "            s1$error <- (s1$y - s1$y_hat)**2\n",
    "\n",
    "            s2 <- result[result$method == m2,]\n",
    "            #s2$y_hat <- (s2$y_hat - min(s2$y_hat)) / (max(s2$y_hat) - min(s2$y_hat))\n",
    "            s2$error <- (s2$y - s2$y_hat)**2\n",
    "\n",
    "            print(paste('H1:', m1, '<', m2, ', p-value = ', t.test(s1$error, s2$error, alternative='l')$p.value))\n",
    "        }\n",
    "    }\n",
    "}"
   ]
  }
 ],
 "metadata": {
  "kernelspec": {
   "display_name": "R",
   "language": "R",
   "name": "ir"
  },
  "language_info": {
   "codemirror_mode": "r",
   "file_extension": ".r",
   "mimetype": "text/x-r-source",
   "name": "R",
   "pygments_lexer": "r",
   "version": "3.6.0"
  }
 },
 "nbformat": 4,
 "nbformat_minor": 4
}
