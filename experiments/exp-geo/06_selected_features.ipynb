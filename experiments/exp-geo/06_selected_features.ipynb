{
 "cells": [
  {
   "cell_type": "code",
   "execution_count": 23,
   "metadata": {},
   "outputs": [
    {
     "name": "stdout",
     "output_type": "stream",
     "text": [
      "* GSE135820\n",
      "    * clinical_marker : 3\n",
      "    * gene : 260\n",
      "* GSE68465\n",
      "    * clinical_marker : 1\n",
      "    * gene : 367\n",
      "* GSE94873\n",
      "    * clinical_marker : 0\n",
      "    * gene : 69\n"
     ]
    }
   ],
   "source": [
    "import os\n",
    "import pandas as pd\n",
    "\n",
    "BASE_PATH = 'output/mult/'\n",
    "\n",
    "result = {}\n",
    "\n",
    "for d in os.listdir(BASE_PATH):\n",
    "    \n",
    "    path = os.path.join(BASE_PATH, d)\n",
    "    \n",
    "    if os.path.isdir(path):\n",
    "        \n",
    "        result[d] = {}\n",
    "        \n",
    "        markers_path = os.path.join(path, 'selected_markers')\n",
    "        \n",
    "        for f in os.listdir(markers_path):\n",
    "            if '.csv' in f:\n",
    "                filepath = os.path.join(markers_path, f)\n",
    "                selector = 'clinical_marker' if 'clinical' in f else 'gene'\n",
    "                \n",
    "                if selector not in result[d]:\n",
    "                    result[d][selector] = set()\n",
    "                \n",
    "                result[d][selector] = result[d][selector].union(pd.read_csv(filepath, sep=',')[selector].tolist())\n",
    "                \n",
    "for k, v in result.items():\n",
    "    print('* ' + k)\n",
    "    for k1, v1 in v.items():\n",
    "        print('    * ' + k1 + ' : ' + str(len(v1)))\n",
    "        "
   ]
  }
 ],
 "metadata": {
  "kernelspec": {
   "display_name": "Python 3",
   "language": "python",
   "name": "python3"
  },
  "language_info": {
   "codemirror_mode": {
    "name": "ipython",
    "version": 3
   },
   "file_extension": ".py",
   "mimetype": "text/x-python",
   "name": "python",
   "nbconvert_exporter": "python",
   "pygments_lexer": "ipython3",
   "version": "3.7.3"
  }
 },
 "nbformat": 4,
 "nbformat_minor": 2
}
