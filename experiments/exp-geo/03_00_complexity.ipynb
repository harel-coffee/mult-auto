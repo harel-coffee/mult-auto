{
 "cells": [
  {
   "cell_type": "code",
   "execution_count": 1,
   "metadata": {},
   "outputs": [
    {
     "name": "stderr",
     "output_type": "stream",
     "text": [
      "Loading required package: ggplot2\n",
      "\n",
      "Warning message:\n",
      "\"package 'ggplot2' was built under R version 3.6.3\"\n"
     ]
    }
   ],
   "source": [
    "require(ggplot2)"
   ]
  },
  {
   "cell_type": "code",
   "execution_count": 2,
   "metadata": {},
   "outputs": [
    {
     "name": "stdout",
     "output_type": "stream",
     "text": [
      "[1] \"./output/mult/GSE135820/complexity/cmp_feature_extraction_GSE135820.csv\"\n",
      "[1] \"./output/mult/GSE135820/complexity/cmp_no_feature_extraction_GSE135820.csv\"\n",
      "[1] \"./output/mult/GSE68465/complexity/cmp_feature_extraction_GSE68465.csv\"\n",
      "[1] \"./output/mult/GSE68465/complexity/cmp_no_feature_extraction_GSE68465.csv\"\n",
      "[1] \"./output/mult/GSE94873/complexity/cmp_feature_extraction_GSE94873.csv\"\n",
      "[1] \"./output/mult/GSE94873/complexity/cmp_no_feature_extraction_GSE94873.csv\"\n"
     ]
    },
    {
     "data": {
      "text/html": [
       "<table class=\"dataframe\">\n",
       "<caption>A data.frame: 6 × 4</caption>\n",
       "<thead>\n",
       "\t<tr><th></th><th scope=col>database</th><th scope=col>source</th><th scope=col>value</th><th scope=col>metric</th></tr>\n",
       "\t<tr><th></th><th scope=col>&lt;fct&gt;</th><th scope=col>&lt;fct&gt;</th><th scope=col>&lt;dbl&gt;</th><th scope=col>&lt;fct&gt;</th></tr>\n",
       "</thead>\n",
       "<tbody>\n",
       "\t<tr><th scope=row>13</th><td>GSE135820</td><td>cmp_feature_extraction_GSE135820.csv   </td><td>0.6978109</td><td>ft_c1      </td></tr>\n",
       "\t<tr><th scope=row>35</th><td>GSE135820</td><td>cmp_no_feature_extraction_GSE135820.csv</td><td>0.6978109</td><td>ft_c1      </td></tr>\n",
       "\t<tr><th scope=row>14</th><td>GSE135820</td><td>cmp_feature_extraction_GSE135820.csv   </td><td>0.5598403</td><td>ft_c2      </td></tr>\n",
       "\t<tr><th scope=row>36</th><td>GSE135820</td><td>cmp_no_feature_extraction_GSE135820.csv</td><td>0.5598403</td><td>ft_c2      </td></tr>\n",
       "\t<tr><th scope=row>21</th><td>GSE135820</td><td>cmp_feature_extraction_GSE135820.csv   </td><td>0.9391346</td><td>ft_cls_coef</td></tr>\n",
       "\t<tr><th scope=row>43</th><td>GSE135820</td><td>cmp_no_feature_extraction_GSE135820.csv</td><td>0.9550651</td><td>ft_cls_coef</td></tr>\n",
       "</tbody>\n",
       "</table>\n"
      ],
      "text/latex": [
       "A data.frame: 6 × 4\n",
       "\\begin{tabular}{r|llll}\n",
       "  & database & source & value & metric\\\\\n",
       "  & <fct> & <fct> & <dbl> & <fct>\\\\\n",
       "\\hline\n",
       "\t13 & GSE135820 & cmp\\_feature\\_extraction\\_GSE135820.csv    & 0.6978109 & ft\\_c1      \\\\\n",
       "\t35 & GSE135820 & cmp\\_no\\_feature\\_extraction\\_GSE135820.csv & 0.6978109 & ft\\_c1      \\\\\n",
       "\t14 & GSE135820 & cmp\\_feature\\_extraction\\_GSE135820.csv    & 0.5598403 & ft\\_c2      \\\\\n",
       "\t36 & GSE135820 & cmp\\_no\\_feature\\_extraction\\_GSE135820.csv & 0.5598403 & ft\\_c2      \\\\\n",
       "\t21 & GSE135820 & cmp\\_feature\\_extraction\\_GSE135820.csv    & 0.9391346 & ft\\_cls\\_coef\\\\\n",
       "\t43 & GSE135820 & cmp\\_no\\_feature\\_extraction\\_GSE135820.csv & 0.9550651 & ft\\_cls\\_coef\\\\\n",
       "\\end{tabular}\n"
      ],
      "text/markdown": [
       "\n",
       "A data.frame: 6 × 4\n",
       "\n",
       "| <!--/--> | database &lt;fct&gt; | source &lt;fct&gt; | value &lt;dbl&gt; | metric &lt;fct&gt; |\n",
       "|---|---|---|---|---|\n",
       "| 13 | GSE135820 | cmp_feature_extraction_GSE135820.csv    | 0.6978109 | ft_c1       |\n",
       "| 35 | GSE135820 | cmp_no_feature_extraction_GSE135820.csv | 0.6978109 | ft_c1       |\n",
       "| 14 | GSE135820 | cmp_feature_extraction_GSE135820.csv    | 0.5598403 | ft_c2       |\n",
       "| 36 | GSE135820 | cmp_no_feature_extraction_GSE135820.csv | 0.5598403 | ft_c2       |\n",
       "| 21 | GSE135820 | cmp_feature_extraction_GSE135820.csv    | 0.9391346 | ft_cls_coef |\n",
       "| 43 | GSE135820 | cmp_no_feature_extraction_GSE135820.csv | 0.9550651 | ft_cls_coef |\n",
       "\n"
      ],
      "text/plain": [
       "   database  source                                  value     metric     \n",
       "13 GSE135820 cmp_feature_extraction_GSE135820.csv    0.6978109 ft_c1      \n",
       "35 GSE135820 cmp_no_feature_extraction_GSE135820.csv 0.6978109 ft_c1      \n",
       "14 GSE135820 cmp_feature_extraction_GSE135820.csv    0.5598403 ft_c2      \n",
       "36 GSE135820 cmp_no_feature_extraction_GSE135820.csv 0.5598403 ft_c2      \n",
       "21 GSE135820 cmp_feature_extraction_GSE135820.csv    0.9391346 ft_cls_coef\n",
       "43 GSE135820 cmp_no_feature_extraction_GSE135820.csv 0.9550651 ft_cls_coef"
      ]
     },
     "metadata": {},
     "output_type": "display_data"
    }
   ],
   "source": [
    "BASE.PATH <- './output/mult'\n",
    "\n",
    "result <- NULL\n",
    "\n",
    "for (d in list.files(BASE.PATH)) {\n",
    "    \n",
    "    if (grepl('GSE', d)) {\n",
    "        \n",
    "        path <- paste(BASE.PATH, d, 'complexity', sep='/')\n",
    "        \n",
    "        i <- 1\n",
    "        \n",
    "        means <- list()\n",
    "        \n",
    "        values <- c()\n",
    "        \n",
    "        for (f in sort(list.files(path))) {\n",
    "            \n",
    "            if (grepl('cmp_', f)) {\n",
    "                \n",
    "                filename <- paste(path, f, sep='/')\n",
    "                \n",
    "                print(filename)\n",
    "                \n",
    "                df <- read.table(filename, sep=',', header=T)\n",
    "                \n",
    "                colnames(df) <- c('metric', 'round_0', 'round_1', 'round_2')\n",
    "                \n",
    "                m <- apply(df[,2:4], 1, mean)\n",
    "                \n",
    "                m[is.na(m)] <- 0\n",
    "                \n",
    "                df$source <- f\n",
    "                \n",
    "                df$database <- d\n",
    "        \n",
    "                r <- data.frame(database=d, source=f, value=m, metric=df$metric)\n",
    "\n",
    "                if (is.null(result)) {\n",
    "                    result <- r\n",
    "                } else {\n",
    "                    result <- rbind(result, r)\n",
    "                }\n",
    "                \n",
    "            }\n",
    "        }\n",
    "    }\n",
    "}\n",
    "\n",
    "result <- result[order(result[,1], result[,4]), ]\n",
    "\n",
    "head(result)"
   ]
  },
  {
   "cell_type": "code",
   "execution_count": 3,
   "metadata": {},
   "outputs": [
    {
     "name": "stdout",
     "output_type": "stream",
     "text": [
      "[1] 132\n"
     ]
    },
    {
     "data": {
      "text/html": [
       "<table class=\"dataframe\">\n",
       "<caption>A data.frame: 6 × 5</caption>\n",
       "<thead>\n",
       "\t<tr><th></th><th scope=col>database</th><th scope=col>metric</th><th scope=col>f</th><th scope=col>nf</th><th scope=col>diff</th></tr>\n",
       "\t<tr><th></th><th scope=col>&lt;fct&gt;</th><th scope=col>&lt;fct&gt;</th><th scope=col>&lt;dbl&gt;</th><th scope=col>&lt;dbl&gt;</th><th scope=col>&lt;dbl&gt;</th></tr>\n",
       "</thead>\n",
       "<tbody>\n",
       "\t<tr><th scope=row>1</th><td>GSE135820</td><td>ft_c1      </td><td>0.6978109</td><td>0.6978109</td><td> 0.0000000000</td></tr>\n",
       "\t<tr><th scope=row>2</th><td>GSE135820</td><td>ft_c2      </td><td>0.5598403</td><td>0.5598403</td><td> 0.0000000000</td></tr>\n",
       "\t<tr><th scope=row>3</th><td>GSE135820</td><td>ft_cls_coef</td><td>0.9391346</td><td>0.9550651</td><td>-0.0166799815</td></tr>\n",
       "\t<tr><th scope=row>4</th><td>GSE135820</td><td>ft_density </td><td>0.9999741</td><td>0.9071181</td><td> 0.0928584317</td></tr>\n",
       "\t<tr><th scope=row>5</th><td>GSE135820</td><td>ft_f1      </td><td>0.9947492</td><td>0.9948785</td><td>-0.0001299515</td></tr>\n",
       "\t<tr><th scope=row>6</th><td>GSE135820</td><td>ft_f1v     </td><td>0.3204884</td><td>0.3617208</td><td>-0.1139895385</td></tr>\n",
       "</tbody>\n",
       "</table>\n"
      ],
      "text/latex": [
       "A data.frame: 6 × 5\n",
       "\\begin{tabular}{r|lllll}\n",
       "  & database & metric & f & nf & diff\\\\\n",
       "  & <fct> & <fct> & <dbl> & <dbl> & <dbl>\\\\\n",
       "\\hline\n",
       "\t1 & GSE135820 & ft\\_c1       & 0.6978109 & 0.6978109 &  0.0000000000\\\\\n",
       "\t2 & GSE135820 & ft\\_c2       & 0.5598403 & 0.5598403 &  0.0000000000\\\\\n",
       "\t3 & GSE135820 & ft\\_cls\\_coef & 0.9391346 & 0.9550651 & -0.0166799815\\\\\n",
       "\t4 & GSE135820 & ft\\_density  & 0.9999741 & 0.9071181 &  0.0928584317\\\\\n",
       "\t5 & GSE135820 & ft\\_f1       & 0.9947492 & 0.9948785 & -0.0001299515\\\\\n",
       "\t6 & GSE135820 & ft\\_f1v      & 0.3204884 & 0.3617208 & -0.1139895385\\\\\n",
       "\\end{tabular}\n"
      ],
      "text/markdown": [
       "\n",
       "A data.frame: 6 × 5\n",
       "\n",
       "| <!--/--> | database &lt;fct&gt; | metric &lt;fct&gt; | f &lt;dbl&gt; | nf &lt;dbl&gt; | diff &lt;dbl&gt; |\n",
       "|---|---|---|---|---|---|\n",
       "| 1 | GSE135820 | ft_c1       | 0.6978109 | 0.6978109 |  0.0000000000 |\n",
       "| 2 | GSE135820 | ft_c2       | 0.5598403 | 0.5598403 |  0.0000000000 |\n",
       "| 3 | GSE135820 | ft_cls_coef | 0.9391346 | 0.9550651 | -0.0166799815 |\n",
       "| 4 | GSE135820 | ft_density  | 0.9999741 | 0.9071181 |  0.0928584317 |\n",
       "| 5 | GSE135820 | ft_f1       | 0.9947492 | 0.9948785 | -0.0001299515 |\n",
       "| 6 | GSE135820 | ft_f1v      | 0.3204884 | 0.3617208 | -0.1139895385 |\n",
       "\n"
      ],
      "text/plain": [
       "  database  metric      f         nf        diff         \n",
       "1 GSE135820 ft_c1       0.6978109 0.6978109  0.0000000000\n",
       "2 GSE135820 ft_c2       0.5598403 0.5598403  0.0000000000\n",
       "3 GSE135820 ft_cls_coef 0.9391346 0.9550651 -0.0166799815\n",
       "4 GSE135820 ft_density  0.9999741 0.9071181  0.0928584317\n",
       "5 GSE135820 ft_f1       0.9947492 0.9948785 -0.0001299515\n",
       "6 GSE135820 ft_f1v      0.3204884 0.3617208 -0.1139895385"
      ]
     },
     "metadata": {},
     "output_type": "display_data"
    }
   ],
   "source": [
    "print(nrow(result))\n",
    "\n",
    "diff_func <- function(x1, x2) {\n",
    "    \n",
    "    if (x1 == x2) {\n",
    "      return(0)  \n",
    "    } else if (x1 > x2) {\n",
    "        return((1 - x2 / x1))\n",
    "    } else {\n",
    "        return(-(1 - x1 / x2))\n",
    "    }   \n",
    "}\n",
    "\n",
    "f <- NULL\n",
    "\n",
    "for (i in seq(1, nrow(result), by=2)) {\n",
    "    \n",
    "    r1 <- result[i,]\n",
    "\n",
    "    r2 <- result[i + 1,]\n",
    "\n",
    "    d <- data.frame(database=r1$database, metric=r1$metric, f=r1$value, nf=r2$value, diff=diff_func(r1$value, r2$value))\n",
    "    \n",
    "    if (is.null(f)) {\n",
    "        f <- d\n",
    "    } else {\n",
    "        f <- rbind(f, d)\n",
    "    }\n",
    "}\n",
    "\n",
    "f[is.na(f)] <- 0\n",
    "\n",
    "write.csv(f, 'output/complexity_comparison.csv', row.names=F)\n",
    "\n",
    "head(f)"
   ]
  },
  {
   "cell_type": "code",
   "execution_count": 28,
   "metadata": {},
   "outputs": [
    {
     "data": {
      "image/png": "[encoded data removed]",
      "text/plain": [
       "plot without title"
      ]
     },
     "metadata": {
      "image/png": {
       "height": 210,
       "width": 240
      }
     },
     "output_type": "display_data"
    }
   ],
   "source": [
    "require(ggplot2)\n",
    "\n",
    "f <- f[f$metric != 'ft_c1',]\n",
    "f <- f[f$metric != 'ft_c2',]\n",
    "\n",
    "f <- f[f$metric != 'ft_density',]\n",
    "f <- f[f$metric != 'ft_cls_coef',]\n",
    "f <- f[f$metric != 'ft_hubs',]\n",
    "f <- f[f$metric != 'ft_lsc',]\n",
    "\n",
    "f <- f[f$metric != 'ft_n1',]\n",
    "f <- f[f$metric != 'ft_n2',]\n",
    "f <- f[f$metric != 'ft_n3',]\n",
    "f <- f[f$metric != 'ft_n4',]\n",
    "\n",
    "f <- f[f$metric != 'ft_t1',]\n",
    "f <- f[f$metric != 'ft_t2',]\n",
    "f <- f[f$metric != 'ft_t3',]\n",
    "f <- f[f$metric != 'ft_t4',]\n",
    "\n",
    "f_ <- f[f$metric %in% c('ft_f1', 'ft_f1v', 'ft_f2', 'ft_f3'),]\n",
    "\n",
    "p <- ggplot(f_) + geom_bar(stat='identity', aes(database, diff), alpha=.70, colour='black') + \n",
    "        facet_wrap(metric ~ ., ncol=2, scales='free_y') + \n",
    "        geom_hline(yintercept = 0) + \n",
    "        theme_bw() +\n",
    "        scale_y_continuous(breaks = scales::pretty_breaks(n = 3)) +\n",
    "        # scale_fill_discrete(name='Dataset') + \n",
    "        xlab('Data set') +\n",
    "        ylab('Relative Gain') +\n",
    "        theme(\n",
    "              panel.grid.major = element_blank(),\n",
    "              panel.grid.minor = element_blank(),\n",
    "              axis.text.x = element_text(angle = -70, vjust = 0.5, hjust=0)\n",
    "             )\n",
    "\n",
    "options(repr.plot.width=4, repr.plot.height=3.5)\n",
    "\n",
    "ggsave('images/complexity.pdf', p, units='cm', width=9, height=8.5)\n",
    "\n",
    "p"
   ]
  }
 ],
 "metadata": {
  "kernelspec": {
   "display_name": "R",
   "language": "R",
   "name": "ir"
  },
  "language_info": {
   "codemirror_mode": "r",
   "file_extension": ".r",
   "mimetype": "text/x-r-source",
   "name": "R",
   "pygments_lexer": "r",
   "version": "3.6.0"
  }
 },
 "nbformat": 4,
 "nbformat_minor": 4
}
