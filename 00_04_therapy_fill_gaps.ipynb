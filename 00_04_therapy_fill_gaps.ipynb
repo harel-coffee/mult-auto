{
 "cells": [
  {
   "cell_type": "markdown",
   "metadata": {},
   "source": [
    "# Loading Required Libraries"
   ]
  },
  {
   "cell_type": "code",
   "execution_count": 4,
   "metadata": {},
   "outputs": [],
   "source": [
    "import pandas as pd"
   ]
  },
  {
   "cell_type": "markdown",
   "metadata": {},
   "source": [
    "# Loading Data Sets"
   ]
  },
  {
   "cell_type": "code",
   "execution_count": 5,
   "metadata": {},
   "outputs": [
    {
     "data": {
      "text/plain": [
       "(749, 27833)"
      ]
     },
     "execution_count": 5,
     "metadata": {},
     "output_type": "execute_result"
    }
   ],
   "source": [
    "clinical = pd.read_csv('data/clinical.tsv', sep='\\t', index_col='ID')\n",
    "\n",
    "genecount = pd.read_csv('data/gene_count.tsv', sep='\\t', index_col='ID')\n",
    "\n",
    "clinical_gene = clinical.join(genecount, how='inner')\n",
    "\n",
    "clinical_gene.shape"
   ]
  },
  {
   "cell_type": "code",
   "execution_count": 37,
   "metadata": {},
   "outputs": [
    {
     "data": {
      "text/plain": [
       "Counter({nan: 39,\n",
       "         'Combined bortezomib/IMIDs-based': 351,\n",
       "         'Bortezomib-based': 146,\n",
       "         'IMIDs-based': 39,\n",
       "         'Combined bortezomib/IMIDs/carfilzomib-based': 20,\n",
       "         'Combined IMIDs/carfilzomib-based': 113,\n",
       "         'Carfilzomib-based': 40,\n",
       "         'Combined bortezomib/carfilzomib-based': 1})"
      ]
     },
     "execution_count": 37,
     "metadata": {},
     "output_type": "execute_result"
    }
   ],
   "source": [
    "from collections import Counter\n",
    "\n",
    "Counter(clinical_gene['therapy_first_line_class'])"
   ]
  },
  {
   "cell_type": "code",
   "execution_count": 35,
   "metadata": {},
   "outputs": [
    {
     "name": "stdout",
     "output_type": "stream",
     "text": [
      "Bor\n",
      "   - Combined bortezomib/IMIDs-based\n",
      "   - Bortezomib-based\n",
      "\n",
      "Bor-Cyc-Dex\n",
      "   - Combined bortezomib/IMIDs-based\n",
      "   - Bortezomib-based\n",
      "   - Combined bortezomib/IMIDs/carfilzomib-based\n",
      "\n",
      "Bor-Dex\n",
      "   - Combined bortezomib/carfilzomib-based\n",
      "   - Combined bortezomib/IMIDs-based\n",
      "   - Bortezomib-based\n",
      "   - Combined bortezomib/IMIDs/carfilzomib-based\n",
      "\n",
      "Bor-Len-Dex\n",
      "   - Combined bortezomib/IMIDs-based\n",
      "   - Combined bortezomib/IMIDs/carfilzomib-based\n",
      "\n",
      "Len\n",
      "   - IMIDs-based\n",
      "   - Combined bortezomib/IMIDs-based\n",
      "\n",
      "Len-Dex\n",
      "   - IMIDs-based\n",
      "   - Combined IMIDs/carfilzomib-based\n",
      "   - Combined bortezomib/IMIDs-based\n",
      "\n"
     ]
    }
   ],
   "source": [
    "result = clinical[['therapy_first_line', 'therapy_first_line_class']].dropna(how='any')\n",
    "\n",
    "result = result.groupby(by='therapy_first_line').apply(lambda x: set(x['therapy_first_line_class'].values))\n",
    "\n",
    "result = pd.DataFrame(result)\n",
    "\n",
    "for index, values in result.iterrows():\n",
    "    \n",
    "    print(index)\n",
    "    \n",
    "    for v in values.values[0]:\n",
    "        print('   - {}'.format(v))\n",
    "    \n",
    "    print('')"
   ]
  },
  {
   "cell_type": "markdown",
   "metadata": {},
   "source": [
    "### Modeling Decision\n",
    "\n",
    "Initially, we assumed there is a unitary relationship between therapy and therapy class. The data presented above show that is not true. We decided to create models based on transalocations (fish) to estimate therapy and therapy class once that corresponds to current medical practice. Models were generalized as a multiclass classification problem and is implemented in notebook `04_06_multiclass_fill_gaps`."
   ]
  }
 ],
 "metadata": {
  "kernelspec": {
   "display_name": "Python 3",
   "language": "python",
   "name": "python3"
  },
  "language_info": {
   "codemirror_mode": {
    "name": "ipython",
    "version": 3
   },
   "file_extension": ".py",
   "mimetype": "text/x-python",
   "name": "python",
   "nbconvert_exporter": "python",
   "pygments_lexer": "ipython3",
   "version": "3.7.2"
  }
 },
 "nbformat": 4,
 "nbformat_minor": 2
}
