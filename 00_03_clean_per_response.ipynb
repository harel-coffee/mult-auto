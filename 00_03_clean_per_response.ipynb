{
 "cells": [
  {
   "cell_type": "code",
   "execution_count": 1,
   "metadata": {},
   "outputs": [],
   "source": [
    "import pandas as pd\n",
    "import numpy as np"
   ]
  },
  {
   "cell_type": "code",
   "execution_count": 2,
   "metadata": {},
   "outputs": [
    {
     "data": {
      "text/plain": [
       "((769, 26069), (676, 26))"
      ]
     },
     "execution_count": 2,
     "metadata": {},
     "output_type": "execute_result"
    }
   ],
   "source": [
    "clinical = pd.read_csv('data/clinical.tsv', sep='\\t', index_col='ID')\n",
    "\n",
    "genefpkm = pd.read_csv('data/gene_fpkm.tsv', sep='\\t', index_col='ID')\n",
    "\n",
    "genefpkm.shape, clinical.shape"
   ]
  },
  {
   "cell_type": "code",
   "execution_count": 3,
   "metadata": {},
   "outputs": [
    {
     "data": {
      "text/plain": [
       "(448, 26095)"
      ]
     },
     "execution_count": 3,
     "metadata": {},
     "output_type": "execute_result"
    }
   ],
   "source": [
    "joined = clinical.join(genefpkm, how='inner')\n",
    "\n",
    "joined.shape"
   ]
  },
  {
   "cell_type": "code",
   "execution_count": 4,
   "metadata": {},
   "outputs": [
    {
     "data": {
      "text/plain": [
       "Counter({'Combined bortezomib/IMIDs-based': 310,\n",
       "         'Bortezomib-based': 104,\n",
       "         'IMIDs-based': 34})"
      ]
     },
     "execution_count": 4,
     "metadata": {},
     "output_type": "execute_result"
    }
   ],
   "source": [
    "from collections import Counter\n",
    "\n",
    "Counter(joined['therapy_first_line_class'])"
   ]
  },
  {
   "cell_type": "code",
   "execution_count": 5,
   "metadata": {},
   "outputs": [
    {
     "data": {
      "text/plain": [
       "Counter({0.0: 332, 1.0: 98, 'nan': 18})"
      ]
     },
     "execution_count": 5,
     "metadata": {},
     "output_type": "execute_result"
    }
   ],
   "source": [
    "Counter(joined['response_best_response_first_line'].replace(np.nan, 'nan'))"
   ]
  },
  {
   "cell_type": "code",
   "execution_count": 6,
   "metadata": {},
   "outputs": [
    {
     "data": {
      "text/plain": [
       "Counter({'nan': 207, 1.0: 113, 0.0: 128})"
      ]
     },
     "execution_count": 6,
     "metadata": {},
     "output_type": "execute_result"
    }
   ],
   "source": [
    "import numpy as np\n",
    "\n",
    "Counter(joined['response_days_to_disease_progression'].replace(np.nan, 'nan'))"
   ]
  },
  {
   "cell_type": "code",
   "execution_count": 7,
   "metadata": {},
   "outputs": [
    {
     "data": {
      "text/plain": [
       "Counter({1.0: 174, 0.0: 192})"
      ]
     },
     "execution_count": 7,
     "metadata": {},
     "output_type": "execute_result"
    }
   ],
   "source": [
    "df_dtdp = clinical.copy()\n",
    "\n",
    "del df_dtdp['response_best_response_first_line']\n",
    "\n",
    "df_dtdp = df_dtdp.loc[~df_dtdp['response_days_to_disease_progression'].isnull()]\n",
    "\n",
    "df_dtdp.to_csv('data/clinical_dtdp.tsv', sep='\\t', index=True)\n",
    "\n",
    "Counter(df_dtdp['response_days_to_disease_progression'].replace(np.nan, 'nan'))"
   ]
  },
  {
   "cell_type": "code",
   "execution_count": 8,
   "metadata": {},
   "outputs": [
    {
     "data": {
      "text/plain": [
       "Counter({0.0: 500, 1.0: 149})"
      ]
     },
     "execution_count": 8,
     "metadata": {},
     "output_type": "execute_result"
    }
   ],
   "source": [
    "df_brfl = clinical.copy()\n",
    "\n",
    "del df_brfl['response_days_to_disease_progression']\n",
    "\n",
    "df_brfl = df_brfl.loc[~df_brfl['response_best_response_first_line'].isnull()]\n",
    "\n",
    "df_brfl.to_csv('data/clinical_brfl.tsv', sep='\\t', index=True)\n",
    "\n",
    "Counter(df_brfl['response_best_response_first_line'].replace(np.nan, 'nan'))"
   ]
  },
  {
   "cell_type": "code",
   "execution_count": 9,
   "metadata": {},
   "outputs": [
    {
     "data": {
      "text/plain": [
       "Counter({'Combined bortezomib/IMIDs-based': 477,\n",
       "         'IMIDs-based': 50,\n",
       "         'Bortezomib-based': 122})"
      ]
     },
     "execution_count": 9,
     "metadata": {},
     "output_type": "execute_result"
    }
   ],
   "source": [
    "Counter(df_brfl['therapy_first_line_class'])"
   ]
  },
  {
   "cell_type": "code",
   "execution_count": 10,
   "metadata": {},
   "outputs": [
    {
     "data": {
      "text/plain": [
       "Counter({'Combined bortezomib/IMIDs-based': 241,\n",
       "         'IMIDs-based': 34,\n",
       "         'Bortezomib-based': 91})"
      ]
     },
     "execution_count": 10,
     "metadata": {},
     "output_type": "execute_result"
    }
   ],
   "source": [
    "Counter(df_dtdp['therapy_first_line_class'])"
   ]
  }
 ],
 "metadata": {
  "kernelspec": {
   "display_name": "Python 3",
   "language": "python",
   "name": "python3"
  },
  "language_info": {
   "codemirror_mode": {
    "name": "ipython",
    "version": 3
   },
   "file_extension": ".py",
   "mimetype": "text/x-python",
   "name": "python",
   "nbconvert_exporter": "python",
   "pygments_lexer": "ipython3",
   "version": "3.7.3"
  }
 },
 "nbformat": 4,
 "nbformat_minor": 2
}
